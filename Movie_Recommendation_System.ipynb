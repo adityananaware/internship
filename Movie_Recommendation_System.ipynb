{
  "nbformat": 4,
  "nbformat_minor": 0,
  "metadata": {
    "colab": {
      "provenance": []
    },
    "kernelspec": {
      "name": "python3",
      "display_name": "Python 3"
    },
    "language_info": {
      "name": "python"
    }
  },
  "cells": [
    {
      "cell_type": "markdown",
      "source": [
        "\n",
        "\n",
        "> Movie Recommendation System\n",
        "\n",
        "\n",
        "---\n",
        "A movie recommendation system is a technology that suggests films to users based on their preferences, past viewing history, ratings, and behavior. Here's a brief overview of how it works:\n",
        "\n",
        "1.Data Collection: The system collects data on movies, including attributes like genre, cast, director, plot summary, and user ratings.\n",
        "\n",
        "2.User Profiling: Users provide information about their preferences, such as favorite genres, actors, directors, and ratings for movies they've watched.\n",
        "\n",
        "3.Content Filtering: Recommends movies based on their attributes (genre, cast, director) matching the user's preferences. This method doesn't consider user behavior, relying solely on movie characteristics.\n",
        "\n",
        "4.Collaborative Filtering: Recommends movies by finding similar users with similar preferences and suggesting movies that they have enjoyed but the current user hasn't watched yet.\n",
        "\n",
        "5.Hybrid Systems: Combines content-based and collaborative filtering approaches for more accurate recommendations. It leverages both movie attributes and user behavior to suggest relevant films.\n",
        "\n",
        "6.Machine Learning Algorithms: Utilizes various algorithms such as matrix factorization, k-nearest neighbors, or deep learning models to predict user preferences and generate recommendations.\n",
        "\n",
        "---\n",
        "\n",
        "\n",
        "\n",
        "\n"
      ],
      "metadata": {
        "id": "smwamwcg_mqp"
      }
    },
    {
      "cell_type": "markdown",
      "source": [
        "\n",
        "\n",
        "> Import Library\n",
        "\n"
      ],
      "metadata": {
        "id": "JmUaZxHM9jP2"
      }
    },
    {
      "cell_type": "code",
      "execution_count": 1,
      "metadata": {
        "id": "EFEy9Z9U9IaI"
      },
      "outputs": [],
      "source": [
        "import pandas as pd"
      ]
    },
    {
      "cell_type": "code",
      "source": [
        "import numpy as np"
      ],
      "metadata": {
        "id": "N62PN1j19m0g"
      },
      "execution_count": 2,
      "outputs": []
    },
    {
      "cell_type": "markdown",
      "source": [
        "\n",
        "\n",
        "> Import Dataset\n",
        "\n"
      ],
      "metadata": {
        "id": "fpZnnrkd-6_3"
      }
    },
    {
      "cell_type": "code",
      "source": [
        "df=pd.read_csv(r'https://github.com/YBI-Foundation/Dataset/raw/main/Movies%20Recommendation.csv')"
      ],
      "metadata": {
        "id": "HcP9cQ1T9oo4"
      },
      "execution_count": 3,
      "outputs": []
    },
    {
      "cell_type": "code",
      "source": [
        "df.head()"
      ],
      "metadata": {
        "colab": {
          "base_uri": "https://localhost:8080/",
          "height": 672
        },
        "id": "PuRnKP8P9tEz",
        "outputId": "db367b1d-6a4c-4801-8cc6-fe7b7bea7684"
      },
      "execution_count": 4,
      "outputs": [
        {
          "output_type": "execute_result",
          "data": {
            "text/plain": [
              "   Movie_ID      Movie_Title                       Movie_Genre Movie_Language  \\\n",
              "0         1       Four Rooms                      Crime Comedy             en   \n",
              "1         2        Star Wars  Adventure Action Science Fiction             en   \n",
              "2         3     Finding Nemo                  Animation Family             en   \n",
              "3         4     Forrest Gump              Comedy Drama Romance             en   \n",
              "4         5  American Beauty                             Drama             en   \n",
              "\n",
              "   Movie_Budget  Movie_Popularity Movie_Release_Date  Movie_Revenue  \\\n",
              "0       4000000         22.876230         09-12-1995        4300000   \n",
              "1      11000000        126.393695         25-05-1977      775398007   \n",
              "2      94000000         85.688789         30-05-2003      940335536   \n",
              "3      55000000        138.133331         06-07-1994      677945399   \n",
              "4      15000000         80.878605         15-09-1999      356296601   \n",
              "\n",
              "   Movie_Runtime  Movie_Vote  ...  \\\n",
              "0           98.0         6.5  ...   \n",
              "1          121.0         8.1  ...   \n",
              "2          100.0         7.6  ...   \n",
              "3          142.0         8.2  ...   \n",
              "4          122.0         7.9  ...   \n",
              "\n",
              "                                      Movie_Homepage  \\\n",
              "0                                                NaN   \n",
              "1  http://www.starwars.com/films/star-wars-episod...   \n",
              "2              http://movies.disney.com/finding-nemo   \n",
              "3                                                NaN   \n",
              "4                      http://www.dreamworks.com/ab/   \n",
              "\n",
              "                                      Movie_Keywords  \\\n",
              "0          hotel new year's eve witch bet hotel room   \n",
              "1        android galaxy hermit death star lightsaber   \n",
              "2  father son relationship harbor underwater fish...   \n",
              "3  vietnam veteran hippie mentally disabled runni...   \n",
              "4  male nudity female nudity adultery midlife cri...   \n",
              "\n",
              "                                      Movie_Overview  \\\n",
              "0  It's Ted the Bellhop's first night on the job....   \n",
              "1  Princess Leia is captured and held hostage by ...   \n",
              "2  Nemo, an adventurous young clownfish, is unexp...   \n",
              "3  A man with a low IQ has accomplished great thi...   \n",
              "4  Lester Burnham, a depressed suburban father in...   \n",
              "\n",
              "                              Movie_Production_House  \\\n",
              "0  [{\"name\": \"Miramax Films\", \"id\": 14}, {\"name\":...   \n",
              "1  [{\"name\": \"Lucasfilm\", \"id\": 1}, {\"name\": \"Twe...   \n",
              "2     [{\"name\": \"Pixar Animation Studios\", \"id\": 3}]   \n",
              "3          [{\"name\": \"Paramount Pictures\", \"id\": 4}]   \n",
              "4  [{\"name\": \"DreamWorks SKG\", \"id\": 27}, {\"name\"...   \n",
              "\n",
              "                            Movie_Production_Country  \\\n",
              "0  [{\"iso_3166_1\": \"US\", \"name\": \"United States o...   \n",
              "1  [{\"iso_3166_1\": \"US\", \"name\": \"United States o...   \n",
              "2  [{\"iso_3166_1\": \"US\", \"name\": \"United States o...   \n",
              "3  [{\"iso_3166_1\": \"US\", \"name\": \"United States o...   \n",
              "4  [{\"iso_3166_1\": \"US\", \"name\": \"United States o...   \n",
              "\n",
              "                      Movie_Spoken_Language  \\\n",
              "0  [{\"iso_639_1\": \"en\", \"name\": \"English\"}]   \n",
              "1  [{\"iso_639_1\": \"en\", \"name\": \"English\"}]   \n",
              "2  [{\"iso_639_1\": \"en\", \"name\": \"English\"}]   \n",
              "3  [{\"iso_639_1\": \"en\", \"name\": \"English\"}]   \n",
              "4  [{\"iso_639_1\": \"en\", \"name\": \"English\"}]   \n",
              "\n",
              "                                       Movie_Tagline  \\\n",
              "0  Twelve outrageous guests. Four scandalous requ...   \n",
              "1       A long time ago in a galaxy far, far away...   \n",
              "2  There are 3.7 trillion fish in the ocean, they...   \n",
              "3  The world will never be the same, once you've ...   \n",
              "4                                       Look closer.   \n",
              "\n",
              "                                          Movie_Cast  \\\n",
              "0  Tim Roth Antonio Banderas Jennifer Beals Madon...   \n",
              "1  Mark Hamill Harrison Ford Carrie Fisher Peter ...   \n",
              "2  Albert Brooks Ellen DeGeneres Alexander Gould ...   \n",
              "3  Tom Hanks Robin Wright Gary Sinise Mykelti Wil...   \n",
              "4  Kevin Spacey Annette Bening Thora Birch Wes Be...   \n",
              "\n",
              "                                          Movie_Crew   Movie_Director  \n",
              "0  [{'name': 'Allison Anders', 'gender': 1, 'depa...   Allison Anders  \n",
              "1  [{'name': 'George Lucas', 'gender': 2, 'depart...     George Lucas  \n",
              "2  [{'name': 'Andrew Stanton', 'gender': 2, 'depa...   Andrew Stanton  \n",
              "3  [{'name': 'Alan Silvestri', 'gender': 2, 'depa...  Robert Zemeckis  \n",
              "4  [{'name': 'Thomas Newman', 'gender': 2, 'depar...       Sam Mendes  \n",
              "\n",
              "[5 rows x 21 columns]"
            ],
            "text/html": [
              "\n",
              "  <div id=\"df-714b4d1c-fb55-451a-be4e-6acd1aafda00\" class=\"colab-df-container\">\n",
              "    <div>\n",
              "<style scoped>\n",
              "    .dataframe tbody tr th:only-of-type {\n",
              "        vertical-align: middle;\n",
              "    }\n",
              "\n",
              "    .dataframe tbody tr th {\n",
              "        vertical-align: top;\n",
              "    }\n",
              "\n",
              "    .dataframe thead th {\n",
              "        text-align: right;\n",
              "    }\n",
              "</style>\n",
              "<table border=\"1\" class=\"dataframe\">\n",
              "  <thead>\n",
              "    <tr style=\"text-align: right;\">\n",
              "      <th></th>\n",
              "      <th>Movie_ID</th>\n",
              "      <th>Movie_Title</th>\n",
              "      <th>Movie_Genre</th>\n",
              "      <th>Movie_Language</th>\n",
              "      <th>Movie_Budget</th>\n",
              "      <th>Movie_Popularity</th>\n",
              "      <th>Movie_Release_Date</th>\n",
              "      <th>Movie_Revenue</th>\n",
              "      <th>Movie_Runtime</th>\n",
              "      <th>Movie_Vote</th>\n",
              "      <th>...</th>\n",
              "      <th>Movie_Homepage</th>\n",
              "      <th>Movie_Keywords</th>\n",
              "      <th>Movie_Overview</th>\n",
              "      <th>Movie_Production_House</th>\n",
              "      <th>Movie_Production_Country</th>\n",
              "      <th>Movie_Spoken_Language</th>\n",
              "      <th>Movie_Tagline</th>\n",
              "      <th>Movie_Cast</th>\n",
              "      <th>Movie_Crew</th>\n",
              "      <th>Movie_Director</th>\n",
              "    </tr>\n",
              "  </thead>\n",
              "  <tbody>\n",
              "    <tr>\n",
              "      <th>0</th>\n",
              "      <td>1</td>\n",
              "      <td>Four Rooms</td>\n",
              "      <td>Crime Comedy</td>\n",
              "      <td>en</td>\n",
              "      <td>4000000</td>\n",
              "      <td>22.876230</td>\n",
              "      <td>09-12-1995</td>\n",
              "      <td>4300000</td>\n",
              "      <td>98.0</td>\n",
              "      <td>6.5</td>\n",
              "      <td>...</td>\n",
              "      <td>NaN</td>\n",
              "      <td>hotel new year's eve witch bet hotel room</td>\n",
              "      <td>It's Ted the Bellhop's first night on the job....</td>\n",
              "      <td>[{\"name\": \"Miramax Films\", \"id\": 14}, {\"name\":...</td>\n",
              "      <td>[{\"iso_3166_1\": \"US\", \"name\": \"United States o...</td>\n",
              "      <td>[{\"iso_639_1\": \"en\", \"name\": \"English\"}]</td>\n",
              "      <td>Twelve outrageous guests. Four scandalous requ...</td>\n",
              "      <td>Tim Roth Antonio Banderas Jennifer Beals Madon...</td>\n",
              "      <td>[{'name': 'Allison Anders', 'gender': 1, 'depa...</td>\n",
              "      <td>Allison Anders</td>\n",
              "    </tr>\n",
              "    <tr>\n",
              "      <th>1</th>\n",
              "      <td>2</td>\n",
              "      <td>Star Wars</td>\n",
              "      <td>Adventure Action Science Fiction</td>\n",
              "      <td>en</td>\n",
              "      <td>11000000</td>\n",
              "      <td>126.393695</td>\n",
              "      <td>25-05-1977</td>\n",
              "      <td>775398007</td>\n",
              "      <td>121.0</td>\n",
              "      <td>8.1</td>\n",
              "      <td>...</td>\n",
              "      <td>http://www.starwars.com/films/star-wars-episod...</td>\n",
              "      <td>android galaxy hermit death star lightsaber</td>\n",
              "      <td>Princess Leia is captured and held hostage by ...</td>\n",
              "      <td>[{\"name\": \"Lucasfilm\", \"id\": 1}, {\"name\": \"Twe...</td>\n",
              "      <td>[{\"iso_3166_1\": \"US\", \"name\": \"United States o...</td>\n",
              "      <td>[{\"iso_639_1\": \"en\", \"name\": \"English\"}]</td>\n",
              "      <td>A long time ago in a galaxy far, far away...</td>\n",
              "      <td>Mark Hamill Harrison Ford Carrie Fisher Peter ...</td>\n",
              "      <td>[{'name': 'George Lucas', 'gender': 2, 'depart...</td>\n",
              "      <td>George Lucas</td>\n",
              "    </tr>\n",
              "    <tr>\n",
              "      <th>2</th>\n",
              "      <td>3</td>\n",
              "      <td>Finding Nemo</td>\n",
              "      <td>Animation Family</td>\n",
              "      <td>en</td>\n",
              "      <td>94000000</td>\n",
              "      <td>85.688789</td>\n",
              "      <td>30-05-2003</td>\n",
              "      <td>940335536</td>\n",
              "      <td>100.0</td>\n",
              "      <td>7.6</td>\n",
              "      <td>...</td>\n",
              "      <td>http://movies.disney.com/finding-nemo</td>\n",
              "      <td>father son relationship harbor underwater fish...</td>\n",
              "      <td>Nemo, an adventurous young clownfish, is unexp...</td>\n",
              "      <td>[{\"name\": \"Pixar Animation Studios\", \"id\": 3}]</td>\n",
              "      <td>[{\"iso_3166_1\": \"US\", \"name\": \"United States o...</td>\n",
              "      <td>[{\"iso_639_1\": \"en\", \"name\": \"English\"}]</td>\n",
              "      <td>There are 3.7 trillion fish in the ocean, they...</td>\n",
              "      <td>Albert Brooks Ellen DeGeneres Alexander Gould ...</td>\n",
              "      <td>[{'name': 'Andrew Stanton', 'gender': 2, 'depa...</td>\n",
              "      <td>Andrew Stanton</td>\n",
              "    </tr>\n",
              "    <tr>\n",
              "      <th>3</th>\n",
              "      <td>4</td>\n",
              "      <td>Forrest Gump</td>\n",
              "      <td>Comedy Drama Romance</td>\n",
              "      <td>en</td>\n",
              "      <td>55000000</td>\n",
              "      <td>138.133331</td>\n",
              "      <td>06-07-1994</td>\n",
              "      <td>677945399</td>\n",
              "      <td>142.0</td>\n",
              "      <td>8.2</td>\n",
              "      <td>...</td>\n",
              "      <td>NaN</td>\n",
              "      <td>vietnam veteran hippie mentally disabled runni...</td>\n",
              "      <td>A man with a low IQ has accomplished great thi...</td>\n",
              "      <td>[{\"name\": \"Paramount Pictures\", \"id\": 4}]</td>\n",
              "      <td>[{\"iso_3166_1\": \"US\", \"name\": \"United States o...</td>\n",
              "      <td>[{\"iso_639_1\": \"en\", \"name\": \"English\"}]</td>\n",
              "      <td>The world will never be the same, once you've ...</td>\n",
              "      <td>Tom Hanks Robin Wright Gary Sinise Mykelti Wil...</td>\n",
              "      <td>[{'name': 'Alan Silvestri', 'gender': 2, 'depa...</td>\n",
              "      <td>Robert Zemeckis</td>\n",
              "    </tr>\n",
              "    <tr>\n",
              "      <th>4</th>\n",
              "      <td>5</td>\n",
              "      <td>American Beauty</td>\n",
              "      <td>Drama</td>\n",
              "      <td>en</td>\n",
              "      <td>15000000</td>\n",
              "      <td>80.878605</td>\n",
              "      <td>15-09-1999</td>\n",
              "      <td>356296601</td>\n",
              "      <td>122.0</td>\n",
              "      <td>7.9</td>\n",
              "      <td>...</td>\n",
              "      <td>http://www.dreamworks.com/ab/</td>\n",
              "      <td>male nudity female nudity adultery midlife cri...</td>\n",
              "      <td>Lester Burnham, a depressed suburban father in...</td>\n",
              "      <td>[{\"name\": \"DreamWorks SKG\", \"id\": 27}, {\"name\"...</td>\n",
              "      <td>[{\"iso_3166_1\": \"US\", \"name\": \"United States o...</td>\n",
              "      <td>[{\"iso_639_1\": \"en\", \"name\": \"English\"}]</td>\n",
              "      <td>Look closer.</td>\n",
              "      <td>Kevin Spacey Annette Bening Thora Birch Wes Be...</td>\n",
              "      <td>[{'name': 'Thomas Newman', 'gender': 2, 'depar...</td>\n",
              "      <td>Sam Mendes</td>\n",
              "    </tr>\n",
              "  </tbody>\n",
              "</table>\n",
              "<p>5 rows × 21 columns</p>\n",
              "</div>\n",
              "    <div class=\"colab-df-buttons\">\n",
              "\n",
              "  <div class=\"colab-df-container\">\n",
              "    <button class=\"colab-df-convert\" onclick=\"convertToInteractive('df-714b4d1c-fb55-451a-be4e-6acd1aafda00')\"\n",
              "            title=\"Convert this dataframe to an interactive table.\"\n",
              "            style=\"display:none;\">\n",
              "\n",
              "  <svg xmlns=\"http://www.w3.org/2000/svg\" height=\"24px\" viewBox=\"0 -960 960 960\">\n",
              "    <path d=\"M120-120v-720h720v720H120Zm60-500h600v-160H180v160Zm220 220h160v-160H400v160Zm0 220h160v-160H400v160ZM180-400h160v-160H180v160Zm440 0h160v-160H620v160ZM180-180h160v-160H180v160Zm440 0h160v-160H620v160Z\"/>\n",
              "  </svg>\n",
              "    </button>\n",
              "\n",
              "  <style>\n",
              "    .colab-df-container {\n",
              "      display:flex;\n",
              "      gap: 12px;\n",
              "    }\n",
              "\n",
              "    .colab-df-convert {\n",
              "      background-color: #E8F0FE;\n",
              "      border: none;\n",
              "      border-radius: 50%;\n",
              "      cursor: pointer;\n",
              "      display: none;\n",
              "      fill: #1967D2;\n",
              "      height: 32px;\n",
              "      padding: 0 0 0 0;\n",
              "      width: 32px;\n",
              "    }\n",
              "\n",
              "    .colab-df-convert:hover {\n",
              "      background-color: #E2EBFA;\n",
              "      box-shadow: 0px 1px 2px rgba(60, 64, 67, 0.3), 0px 1px 3px 1px rgba(60, 64, 67, 0.15);\n",
              "      fill: #174EA6;\n",
              "    }\n",
              "\n",
              "    .colab-df-buttons div {\n",
              "      margin-bottom: 4px;\n",
              "    }\n",
              "\n",
              "    [theme=dark] .colab-df-convert {\n",
              "      background-color: #3B4455;\n",
              "      fill: #D2E3FC;\n",
              "    }\n",
              "\n",
              "    [theme=dark] .colab-df-convert:hover {\n",
              "      background-color: #434B5C;\n",
              "      box-shadow: 0px 1px 3px 1px rgba(0, 0, 0, 0.15);\n",
              "      filter: drop-shadow(0px 1px 2px rgba(0, 0, 0, 0.3));\n",
              "      fill: #FFFFFF;\n",
              "    }\n",
              "  </style>\n",
              "\n",
              "    <script>\n",
              "      const buttonEl =\n",
              "        document.querySelector('#df-714b4d1c-fb55-451a-be4e-6acd1aafda00 button.colab-df-convert');\n",
              "      buttonEl.style.display =\n",
              "        google.colab.kernel.accessAllowed ? 'block' : 'none';\n",
              "\n",
              "      async function convertToInteractive(key) {\n",
              "        const element = document.querySelector('#df-714b4d1c-fb55-451a-be4e-6acd1aafda00');\n",
              "        const dataTable =\n",
              "          await google.colab.kernel.invokeFunction('convertToInteractive',\n",
              "                                                    [key], {});\n",
              "        if (!dataTable) return;\n",
              "\n",
              "        const docLinkHtml = 'Like what you see? Visit the ' +\n",
              "          '<a target=\"_blank\" href=https://colab.research.google.com/notebooks/data_table.ipynb>data table notebook</a>'\n",
              "          + ' to learn more about interactive tables.';\n",
              "        element.innerHTML = '';\n",
              "        dataTable['output_type'] = 'display_data';\n",
              "        await google.colab.output.renderOutput(dataTable, element);\n",
              "        const docLink = document.createElement('div');\n",
              "        docLink.innerHTML = docLinkHtml;\n",
              "        element.appendChild(docLink);\n",
              "      }\n",
              "    </script>\n",
              "  </div>\n",
              "\n",
              "\n",
              "<div id=\"df-659c090f-d023-4a01-b2e6-0a72376e4948\">\n",
              "  <button class=\"colab-df-quickchart\" onclick=\"quickchart('df-659c090f-d023-4a01-b2e6-0a72376e4948')\"\n",
              "            title=\"Suggest charts\"\n",
              "            style=\"display:none;\">\n",
              "\n",
              "<svg xmlns=\"http://www.w3.org/2000/svg\" height=\"24px\"viewBox=\"0 0 24 24\"\n",
              "     width=\"24px\">\n",
              "    <g>\n",
              "        <path d=\"M19 3H5c-1.1 0-2 .9-2 2v14c0 1.1.9 2 2 2h14c1.1 0 2-.9 2-2V5c0-1.1-.9-2-2-2zM9 17H7v-7h2v7zm4 0h-2V7h2v10zm4 0h-2v-4h2v4z\"/>\n",
              "    </g>\n",
              "</svg>\n",
              "  </button>\n",
              "\n",
              "<style>\n",
              "  .colab-df-quickchart {\n",
              "      --bg-color: #E8F0FE;\n",
              "      --fill-color: #1967D2;\n",
              "      --hover-bg-color: #E2EBFA;\n",
              "      --hover-fill-color: #174EA6;\n",
              "      --disabled-fill-color: #AAA;\n",
              "      --disabled-bg-color: #DDD;\n",
              "  }\n",
              "\n",
              "  [theme=dark] .colab-df-quickchart {\n",
              "      --bg-color: #3B4455;\n",
              "      --fill-color: #D2E3FC;\n",
              "      --hover-bg-color: #434B5C;\n",
              "      --hover-fill-color: #FFFFFF;\n",
              "      --disabled-bg-color: #3B4455;\n",
              "      --disabled-fill-color: #666;\n",
              "  }\n",
              "\n",
              "  .colab-df-quickchart {\n",
              "    background-color: var(--bg-color);\n",
              "    border: none;\n",
              "    border-radius: 50%;\n",
              "    cursor: pointer;\n",
              "    display: none;\n",
              "    fill: var(--fill-color);\n",
              "    height: 32px;\n",
              "    padding: 0;\n",
              "    width: 32px;\n",
              "  }\n",
              "\n",
              "  .colab-df-quickchart:hover {\n",
              "    background-color: var(--hover-bg-color);\n",
              "    box-shadow: 0 1px 2px rgba(60, 64, 67, 0.3), 0 1px 3px 1px rgba(60, 64, 67, 0.15);\n",
              "    fill: var(--button-hover-fill-color);\n",
              "  }\n",
              "\n",
              "  .colab-df-quickchart-complete:disabled,\n",
              "  .colab-df-quickchart-complete:disabled:hover {\n",
              "    background-color: var(--disabled-bg-color);\n",
              "    fill: var(--disabled-fill-color);\n",
              "    box-shadow: none;\n",
              "  }\n",
              "\n",
              "  .colab-df-spinner {\n",
              "    border: 2px solid var(--fill-color);\n",
              "    border-color: transparent;\n",
              "    border-bottom-color: var(--fill-color);\n",
              "    animation:\n",
              "      spin 1s steps(1) infinite;\n",
              "  }\n",
              "\n",
              "  @keyframes spin {\n",
              "    0% {\n",
              "      border-color: transparent;\n",
              "      border-bottom-color: var(--fill-color);\n",
              "      border-left-color: var(--fill-color);\n",
              "    }\n",
              "    20% {\n",
              "      border-color: transparent;\n",
              "      border-left-color: var(--fill-color);\n",
              "      border-top-color: var(--fill-color);\n",
              "    }\n",
              "    30% {\n",
              "      border-color: transparent;\n",
              "      border-left-color: var(--fill-color);\n",
              "      border-top-color: var(--fill-color);\n",
              "      border-right-color: var(--fill-color);\n",
              "    }\n",
              "    40% {\n",
              "      border-color: transparent;\n",
              "      border-right-color: var(--fill-color);\n",
              "      border-top-color: var(--fill-color);\n",
              "    }\n",
              "    60% {\n",
              "      border-color: transparent;\n",
              "      border-right-color: var(--fill-color);\n",
              "    }\n",
              "    80% {\n",
              "      border-color: transparent;\n",
              "      border-right-color: var(--fill-color);\n",
              "      border-bottom-color: var(--fill-color);\n",
              "    }\n",
              "    90% {\n",
              "      border-color: transparent;\n",
              "      border-bottom-color: var(--fill-color);\n",
              "    }\n",
              "  }\n",
              "</style>\n",
              "\n",
              "  <script>\n",
              "    async function quickchart(key) {\n",
              "      const quickchartButtonEl =\n",
              "        document.querySelector('#' + key + ' button');\n",
              "      quickchartButtonEl.disabled = true;  // To prevent multiple clicks.\n",
              "      quickchartButtonEl.classList.add('colab-df-spinner');\n",
              "      try {\n",
              "        const charts = await google.colab.kernel.invokeFunction(\n",
              "            'suggestCharts', [key], {});\n",
              "      } catch (error) {\n",
              "        console.error('Error during call to suggestCharts:', error);\n",
              "      }\n",
              "      quickchartButtonEl.classList.remove('colab-df-spinner');\n",
              "      quickchartButtonEl.classList.add('colab-df-quickchart-complete');\n",
              "    }\n",
              "    (() => {\n",
              "      let quickchartButtonEl =\n",
              "        document.querySelector('#df-659c090f-d023-4a01-b2e6-0a72376e4948 button');\n",
              "      quickchartButtonEl.style.display =\n",
              "        google.colab.kernel.accessAllowed ? 'block' : 'none';\n",
              "    })();\n",
              "  </script>\n",
              "</div>\n",
              "\n",
              "    </div>\n",
              "  </div>\n"
            ]
          },
          "metadata": {},
          "execution_count": 4
        }
      ]
    },
    {
      "cell_type": "code",
      "source": [
        "df.info()"
      ],
      "metadata": {
        "colab": {
          "base_uri": "https://localhost:8080/"
        },
        "id": "jcGnpf6s9tRs",
        "outputId": "81a875ca-c25e-4137-ee36-364faa021b6e"
      },
      "execution_count": 5,
      "outputs": [
        {
          "output_type": "stream",
          "name": "stdout",
          "text": [
            "<class 'pandas.core.frame.DataFrame'>\n",
            "RangeIndex: 4760 entries, 0 to 4759\n",
            "Data columns (total 21 columns):\n",
            " #   Column                    Non-Null Count  Dtype  \n",
            "---  ------                    --------------  -----  \n",
            " 0   Movie_ID                  4760 non-null   int64  \n",
            " 1   Movie_Title               4760 non-null   object \n",
            " 2   Movie_Genre               4760 non-null   object \n",
            " 3   Movie_Language            4760 non-null   object \n",
            " 4   Movie_Budget              4760 non-null   int64  \n",
            " 5   Movie_Popularity          4760 non-null   float64\n",
            " 6   Movie_Release_Date        4760 non-null   object \n",
            " 7   Movie_Revenue             4760 non-null   int64  \n",
            " 8   Movie_Runtime             4758 non-null   float64\n",
            " 9   Movie_Vote                4760 non-null   float64\n",
            " 10  Movie_Vote_Count          4760 non-null   int64  \n",
            " 11  Movie_Homepage            1699 non-null   object \n",
            " 12  Movie_Keywords            4373 non-null   object \n",
            " 13  Movie_Overview            4757 non-null   object \n",
            " 14  Movie_Production_House    4760 non-null   object \n",
            " 15  Movie_Production_Country  4760 non-null   object \n",
            " 16  Movie_Spoken_Language     4760 non-null   object \n",
            " 17  Movie_Tagline             3942 non-null   object \n",
            " 18  Movie_Cast                4733 non-null   object \n",
            " 19  Movie_Crew                4760 non-null   object \n",
            " 20  Movie_Director            4738 non-null   object \n",
            "dtypes: float64(3), int64(4), object(14)\n",
            "memory usage: 781.1+ KB\n"
          ]
        }
      ]
    },
    {
      "cell_type": "code",
      "source": [
        "df.columns"
      ],
      "metadata": {
        "colab": {
          "base_uri": "https://localhost:8080/"
        },
        "id": "W5mQ8S1K9tUP",
        "outputId": "5832467d-c394-4e34-b9ed-f32292e414d3"
      },
      "execution_count": 6,
      "outputs": [
        {
          "output_type": "execute_result",
          "data": {
            "text/plain": [
              "Index(['Movie_ID', 'Movie_Title', 'Movie_Genre', 'Movie_Language',\n",
              "       'Movie_Budget', 'Movie_Popularity', 'Movie_Release_Date',\n",
              "       'Movie_Revenue', 'Movie_Runtime', 'Movie_Vote', 'Movie_Vote_Count',\n",
              "       'Movie_Homepage', 'Movie_Keywords', 'Movie_Overview',\n",
              "       'Movie_Production_House', 'Movie_Production_Country',\n",
              "       'Movie_Spoken_Language', 'Movie_Tagline', 'Movie_Cast', 'Movie_Crew',\n",
              "       'Movie_Director'],\n",
              "      dtype='object')"
            ]
          },
          "metadata": {},
          "execution_count": 6
        }
      ]
    },
    {
      "cell_type": "code",
      "source": [
        "df.shape"
      ],
      "metadata": {
        "colab": {
          "base_uri": "https://localhost:8080/"
        },
        "id": "eZURoh9m9tWo",
        "outputId": "fbf42b48-84b5-4bad-e414-67c0b877fb41"
      },
      "execution_count": 7,
      "outputs": [
        {
          "output_type": "execute_result",
          "data": {
            "text/plain": [
              "(4760, 21)"
            ]
          },
          "metadata": {},
          "execution_count": 7
        }
      ]
    },
    {
      "cell_type": "markdown",
      "source": [
        "\n",
        "\n",
        "> Get Feature Selection\n",
        "\n"
      ],
      "metadata": {
        "id": "l5jaCcwl_Cvs"
      }
    },
    {
      "cell_type": "code",
      "source": [
        "df_features = df[['Movie_Genre','Movie_Keywords','Movie_Tagline','Movie_Cast','Movie_Director']].fillna('')"
      ],
      "metadata": {
        "id": "qqfHDZh89tar"
      },
      "execution_count": 8,
      "outputs": []
    },
    {
      "cell_type": "code",
      "source": [
        "df_features.shape"
      ],
      "metadata": {
        "colab": {
          "base_uri": "https://localhost:8080/"
        },
        "id": "3Ji0O56M9tde",
        "outputId": "51e7396e-4bf0-4ca5-eb34-dd0648ba67f5"
      },
      "execution_count": 9,
      "outputs": [
        {
          "output_type": "execute_result",
          "data": {
            "text/plain": [
              "(4760, 5)"
            ]
          },
          "metadata": {},
          "execution_count": 9
        }
      ]
    },
    {
      "cell_type": "code",
      "source": [
        "df_features"
      ],
      "metadata": {
        "colab": {
          "base_uri": "https://localhost:8080/",
          "height": 579
        },
        "id": "ZQqEbivR9tfv",
        "outputId": "7e8e909e-b24b-47d5-de73-d78de7bcbfa4"
      },
      "execution_count": 10,
      "outputs": [
        {
          "output_type": "execute_result",
          "data": {
            "text/plain": [
              "                           Movie_Genre  \\\n",
              "0                         Crime Comedy   \n",
              "1     Adventure Action Science Fiction   \n",
              "2                     Animation Family   \n",
              "3                 Comedy Drama Romance   \n",
              "4                                Drama   \n",
              "...                                ...   \n",
              "4755                            Horror   \n",
              "4756               Comedy Family Drama   \n",
              "4757                    Thriller Drama   \n",
              "4758                            Family   \n",
              "4759                       Documentary   \n",
              "\n",
              "                                         Movie_Keywords  \\\n",
              "0             hotel new year's eve witch bet hotel room   \n",
              "1           android galaxy hermit death star lightsaber   \n",
              "2     father son relationship harbor underwater fish...   \n",
              "3     vietnam veteran hippie mentally disabled runni...   \n",
              "4     male nudity female nudity adultery midlife cri...   \n",
              "...                                                 ...   \n",
              "4755                                                      \n",
              "4756                                                      \n",
              "4757                     christian film sex trafficking   \n",
              "4758                                                      \n",
              "4759  music actors legendary perfomer classic hollyw...   \n",
              "\n",
              "                                          Movie_Tagline  \\\n",
              "0     Twelve outrageous guests. Four scandalous requ...   \n",
              "1          A long time ago in a galaxy far, far away...   \n",
              "2     There are 3.7 trillion fish in the ocean, they...   \n",
              "3     The world will never be the same, once you've ...   \n",
              "4                                          Look closer.   \n",
              "...                                                 ...   \n",
              "4755                The hot spot where Satan's waitin'.   \n",
              "4756           It’s better to stand out than to fit in.   \n",
              "4757           She never knew it could happen to her...   \n",
              "4758                                                      \n",
              "4759                                                      \n",
              "\n",
              "                                             Movie_Cast     Movie_Director  \n",
              "0     Tim Roth Antonio Banderas Jennifer Beals Madon...     Allison Anders  \n",
              "1     Mark Hamill Harrison Ford Carrie Fisher Peter ...       George Lucas  \n",
              "2     Albert Brooks Ellen DeGeneres Alexander Gould ...     Andrew Stanton  \n",
              "3     Tom Hanks Robin Wright Gary Sinise Mykelti Wil...    Robert Zemeckis  \n",
              "4     Kevin Spacey Annette Bening Thora Birch Wes Be...         Sam Mendes  \n",
              "...                                                 ...                ...  \n",
              "4755  Lisa Hart Carroll Michael Des Barres Paul Drak...         Pece Dingo  \n",
              "4756  Roni Akurati Brighton Sharbino Jason Lee Anjul...       Frank Lotito  \n",
              "4757  Nicole Smolen Kim Baldwin Ariana Stephens Brys...       Jaco Booyens  \n",
              "4758                                                                        \n",
              "4759                                    Tony Oppedisano  Simon Napier-Bell  \n",
              "\n",
              "[4760 rows x 5 columns]"
            ],
            "text/html": [
              "\n",
              "  <div id=\"df-d0890a26-89b7-435d-a0ec-8cccee3a2f91\" class=\"colab-df-container\">\n",
              "    <div>\n",
              "<style scoped>\n",
              "    .dataframe tbody tr th:only-of-type {\n",
              "        vertical-align: middle;\n",
              "    }\n",
              "\n",
              "    .dataframe tbody tr th {\n",
              "        vertical-align: top;\n",
              "    }\n",
              "\n",
              "    .dataframe thead th {\n",
              "        text-align: right;\n",
              "    }\n",
              "</style>\n",
              "<table border=\"1\" class=\"dataframe\">\n",
              "  <thead>\n",
              "    <tr style=\"text-align: right;\">\n",
              "      <th></th>\n",
              "      <th>Movie_Genre</th>\n",
              "      <th>Movie_Keywords</th>\n",
              "      <th>Movie_Tagline</th>\n",
              "      <th>Movie_Cast</th>\n",
              "      <th>Movie_Director</th>\n",
              "    </tr>\n",
              "  </thead>\n",
              "  <tbody>\n",
              "    <tr>\n",
              "      <th>0</th>\n",
              "      <td>Crime Comedy</td>\n",
              "      <td>hotel new year's eve witch bet hotel room</td>\n",
              "      <td>Twelve outrageous guests. Four scandalous requ...</td>\n",
              "      <td>Tim Roth Antonio Banderas Jennifer Beals Madon...</td>\n",
              "      <td>Allison Anders</td>\n",
              "    </tr>\n",
              "    <tr>\n",
              "      <th>1</th>\n",
              "      <td>Adventure Action Science Fiction</td>\n",
              "      <td>android galaxy hermit death star lightsaber</td>\n",
              "      <td>A long time ago in a galaxy far, far away...</td>\n",
              "      <td>Mark Hamill Harrison Ford Carrie Fisher Peter ...</td>\n",
              "      <td>George Lucas</td>\n",
              "    </tr>\n",
              "    <tr>\n",
              "      <th>2</th>\n",
              "      <td>Animation Family</td>\n",
              "      <td>father son relationship harbor underwater fish...</td>\n",
              "      <td>There are 3.7 trillion fish in the ocean, they...</td>\n",
              "      <td>Albert Brooks Ellen DeGeneres Alexander Gould ...</td>\n",
              "      <td>Andrew Stanton</td>\n",
              "    </tr>\n",
              "    <tr>\n",
              "      <th>3</th>\n",
              "      <td>Comedy Drama Romance</td>\n",
              "      <td>vietnam veteran hippie mentally disabled runni...</td>\n",
              "      <td>The world will never be the same, once you've ...</td>\n",
              "      <td>Tom Hanks Robin Wright Gary Sinise Mykelti Wil...</td>\n",
              "      <td>Robert Zemeckis</td>\n",
              "    </tr>\n",
              "    <tr>\n",
              "      <th>4</th>\n",
              "      <td>Drama</td>\n",
              "      <td>male nudity female nudity adultery midlife cri...</td>\n",
              "      <td>Look closer.</td>\n",
              "      <td>Kevin Spacey Annette Bening Thora Birch Wes Be...</td>\n",
              "      <td>Sam Mendes</td>\n",
              "    </tr>\n",
              "    <tr>\n",
              "      <th>...</th>\n",
              "      <td>...</td>\n",
              "      <td>...</td>\n",
              "      <td>...</td>\n",
              "      <td>...</td>\n",
              "      <td>...</td>\n",
              "    </tr>\n",
              "    <tr>\n",
              "      <th>4755</th>\n",
              "      <td>Horror</td>\n",
              "      <td></td>\n",
              "      <td>The hot spot where Satan's waitin'.</td>\n",
              "      <td>Lisa Hart Carroll Michael Des Barres Paul Drak...</td>\n",
              "      <td>Pece Dingo</td>\n",
              "    </tr>\n",
              "    <tr>\n",
              "      <th>4756</th>\n",
              "      <td>Comedy Family Drama</td>\n",
              "      <td></td>\n",
              "      <td>It’s better to stand out than to fit in.</td>\n",
              "      <td>Roni Akurati Brighton Sharbino Jason Lee Anjul...</td>\n",
              "      <td>Frank Lotito</td>\n",
              "    </tr>\n",
              "    <tr>\n",
              "      <th>4757</th>\n",
              "      <td>Thriller Drama</td>\n",
              "      <td>christian film sex trafficking</td>\n",
              "      <td>She never knew it could happen to her...</td>\n",
              "      <td>Nicole Smolen Kim Baldwin Ariana Stephens Brys...</td>\n",
              "      <td>Jaco Booyens</td>\n",
              "    </tr>\n",
              "    <tr>\n",
              "      <th>4758</th>\n",
              "      <td>Family</td>\n",
              "      <td></td>\n",
              "      <td></td>\n",
              "      <td></td>\n",
              "      <td></td>\n",
              "    </tr>\n",
              "    <tr>\n",
              "      <th>4759</th>\n",
              "      <td>Documentary</td>\n",
              "      <td>music actors legendary perfomer classic hollyw...</td>\n",
              "      <td></td>\n",
              "      <td>Tony Oppedisano</td>\n",
              "      <td>Simon Napier-Bell</td>\n",
              "    </tr>\n",
              "  </tbody>\n",
              "</table>\n",
              "<p>4760 rows × 5 columns</p>\n",
              "</div>\n",
              "    <div class=\"colab-df-buttons\">\n",
              "\n",
              "  <div class=\"colab-df-container\">\n",
              "    <button class=\"colab-df-convert\" onclick=\"convertToInteractive('df-d0890a26-89b7-435d-a0ec-8cccee3a2f91')\"\n",
              "            title=\"Convert this dataframe to an interactive table.\"\n",
              "            style=\"display:none;\">\n",
              "\n",
              "  <svg xmlns=\"http://www.w3.org/2000/svg\" height=\"24px\" viewBox=\"0 -960 960 960\">\n",
              "    <path d=\"M120-120v-720h720v720H120Zm60-500h600v-160H180v160Zm220 220h160v-160H400v160Zm0 220h160v-160H400v160ZM180-400h160v-160H180v160Zm440 0h160v-160H620v160ZM180-180h160v-160H180v160Zm440 0h160v-160H620v160Z\"/>\n",
              "  </svg>\n",
              "    </button>\n",
              "\n",
              "  <style>\n",
              "    .colab-df-container {\n",
              "      display:flex;\n",
              "      gap: 12px;\n",
              "    }\n",
              "\n",
              "    .colab-df-convert {\n",
              "      background-color: #E8F0FE;\n",
              "      border: none;\n",
              "      border-radius: 50%;\n",
              "      cursor: pointer;\n",
              "      display: none;\n",
              "      fill: #1967D2;\n",
              "      height: 32px;\n",
              "      padding: 0 0 0 0;\n",
              "      width: 32px;\n",
              "    }\n",
              "\n",
              "    .colab-df-convert:hover {\n",
              "      background-color: #E2EBFA;\n",
              "      box-shadow: 0px 1px 2px rgba(60, 64, 67, 0.3), 0px 1px 3px 1px rgba(60, 64, 67, 0.15);\n",
              "      fill: #174EA6;\n",
              "    }\n",
              "\n",
              "    .colab-df-buttons div {\n",
              "      margin-bottom: 4px;\n",
              "    }\n",
              "\n",
              "    [theme=dark] .colab-df-convert {\n",
              "      background-color: #3B4455;\n",
              "      fill: #D2E3FC;\n",
              "    }\n",
              "\n",
              "    [theme=dark] .colab-df-convert:hover {\n",
              "      background-color: #434B5C;\n",
              "      box-shadow: 0px 1px 3px 1px rgba(0, 0, 0, 0.15);\n",
              "      filter: drop-shadow(0px 1px 2px rgba(0, 0, 0, 0.3));\n",
              "      fill: #FFFFFF;\n",
              "    }\n",
              "  </style>\n",
              "\n",
              "    <script>\n",
              "      const buttonEl =\n",
              "        document.querySelector('#df-d0890a26-89b7-435d-a0ec-8cccee3a2f91 button.colab-df-convert');\n",
              "      buttonEl.style.display =\n",
              "        google.colab.kernel.accessAllowed ? 'block' : 'none';\n",
              "\n",
              "      async function convertToInteractive(key) {\n",
              "        const element = document.querySelector('#df-d0890a26-89b7-435d-a0ec-8cccee3a2f91');\n",
              "        const dataTable =\n",
              "          await google.colab.kernel.invokeFunction('convertToInteractive',\n",
              "                                                    [key], {});\n",
              "        if (!dataTable) return;\n",
              "\n",
              "        const docLinkHtml = 'Like what you see? Visit the ' +\n",
              "          '<a target=\"_blank\" href=https://colab.research.google.com/notebooks/data_table.ipynb>data table notebook</a>'\n",
              "          + ' to learn more about interactive tables.';\n",
              "        element.innerHTML = '';\n",
              "        dataTable['output_type'] = 'display_data';\n",
              "        await google.colab.output.renderOutput(dataTable, element);\n",
              "        const docLink = document.createElement('div');\n",
              "        docLink.innerHTML = docLinkHtml;\n",
              "        element.appendChild(docLink);\n",
              "      }\n",
              "    </script>\n",
              "  </div>\n",
              "\n",
              "\n",
              "<div id=\"df-794e7f05-6f90-440d-8c05-160fa6408b40\">\n",
              "  <button class=\"colab-df-quickchart\" onclick=\"quickchart('df-794e7f05-6f90-440d-8c05-160fa6408b40')\"\n",
              "            title=\"Suggest charts\"\n",
              "            style=\"display:none;\">\n",
              "\n",
              "<svg xmlns=\"http://www.w3.org/2000/svg\" height=\"24px\"viewBox=\"0 0 24 24\"\n",
              "     width=\"24px\">\n",
              "    <g>\n",
              "        <path d=\"M19 3H5c-1.1 0-2 .9-2 2v14c0 1.1.9 2 2 2h14c1.1 0 2-.9 2-2V5c0-1.1-.9-2-2-2zM9 17H7v-7h2v7zm4 0h-2V7h2v10zm4 0h-2v-4h2v4z\"/>\n",
              "    </g>\n",
              "</svg>\n",
              "  </button>\n",
              "\n",
              "<style>\n",
              "  .colab-df-quickchart {\n",
              "      --bg-color: #E8F0FE;\n",
              "      --fill-color: #1967D2;\n",
              "      --hover-bg-color: #E2EBFA;\n",
              "      --hover-fill-color: #174EA6;\n",
              "      --disabled-fill-color: #AAA;\n",
              "      --disabled-bg-color: #DDD;\n",
              "  }\n",
              "\n",
              "  [theme=dark] .colab-df-quickchart {\n",
              "      --bg-color: #3B4455;\n",
              "      --fill-color: #D2E3FC;\n",
              "      --hover-bg-color: #434B5C;\n",
              "      --hover-fill-color: #FFFFFF;\n",
              "      --disabled-bg-color: #3B4455;\n",
              "      --disabled-fill-color: #666;\n",
              "  }\n",
              "\n",
              "  .colab-df-quickchart {\n",
              "    background-color: var(--bg-color);\n",
              "    border: none;\n",
              "    border-radius: 50%;\n",
              "    cursor: pointer;\n",
              "    display: none;\n",
              "    fill: var(--fill-color);\n",
              "    height: 32px;\n",
              "    padding: 0;\n",
              "    width: 32px;\n",
              "  }\n",
              "\n",
              "  .colab-df-quickchart:hover {\n",
              "    background-color: var(--hover-bg-color);\n",
              "    box-shadow: 0 1px 2px rgba(60, 64, 67, 0.3), 0 1px 3px 1px rgba(60, 64, 67, 0.15);\n",
              "    fill: var(--button-hover-fill-color);\n",
              "  }\n",
              "\n",
              "  .colab-df-quickchart-complete:disabled,\n",
              "  .colab-df-quickchart-complete:disabled:hover {\n",
              "    background-color: var(--disabled-bg-color);\n",
              "    fill: var(--disabled-fill-color);\n",
              "    box-shadow: none;\n",
              "  }\n",
              "\n",
              "  .colab-df-spinner {\n",
              "    border: 2px solid var(--fill-color);\n",
              "    border-color: transparent;\n",
              "    border-bottom-color: var(--fill-color);\n",
              "    animation:\n",
              "      spin 1s steps(1) infinite;\n",
              "  }\n",
              "\n",
              "  @keyframes spin {\n",
              "    0% {\n",
              "      border-color: transparent;\n",
              "      border-bottom-color: var(--fill-color);\n",
              "      border-left-color: var(--fill-color);\n",
              "    }\n",
              "    20% {\n",
              "      border-color: transparent;\n",
              "      border-left-color: var(--fill-color);\n",
              "      border-top-color: var(--fill-color);\n",
              "    }\n",
              "    30% {\n",
              "      border-color: transparent;\n",
              "      border-left-color: var(--fill-color);\n",
              "      border-top-color: var(--fill-color);\n",
              "      border-right-color: var(--fill-color);\n",
              "    }\n",
              "    40% {\n",
              "      border-color: transparent;\n",
              "      border-right-color: var(--fill-color);\n",
              "      border-top-color: var(--fill-color);\n",
              "    }\n",
              "    60% {\n",
              "      border-color: transparent;\n",
              "      border-right-color: var(--fill-color);\n",
              "    }\n",
              "    80% {\n",
              "      border-color: transparent;\n",
              "      border-right-color: var(--fill-color);\n",
              "      border-bottom-color: var(--fill-color);\n",
              "    }\n",
              "    90% {\n",
              "      border-color: transparent;\n",
              "      border-bottom-color: var(--fill-color);\n",
              "    }\n",
              "  }\n",
              "</style>\n",
              "\n",
              "  <script>\n",
              "    async function quickchart(key) {\n",
              "      const quickchartButtonEl =\n",
              "        document.querySelector('#' + key + ' button');\n",
              "      quickchartButtonEl.disabled = true;  // To prevent multiple clicks.\n",
              "      quickchartButtonEl.classList.add('colab-df-spinner');\n",
              "      try {\n",
              "        const charts = await google.colab.kernel.invokeFunction(\n",
              "            'suggestCharts', [key], {});\n",
              "      } catch (error) {\n",
              "        console.error('Error during call to suggestCharts:', error);\n",
              "      }\n",
              "      quickchartButtonEl.classList.remove('colab-df-spinner');\n",
              "      quickchartButtonEl.classList.add('colab-df-quickchart-complete');\n",
              "    }\n",
              "    (() => {\n",
              "      let quickchartButtonEl =\n",
              "        document.querySelector('#df-794e7f05-6f90-440d-8c05-160fa6408b40 button');\n",
              "      quickchartButtonEl.style.display =\n",
              "        google.colab.kernel.accessAllowed ? 'block' : 'none';\n",
              "    })();\n",
              "  </script>\n",
              "</div>\n",
              "\n",
              "  <div id=\"id_722d665e-7ffc-46cc-9330-354dca234f29\">\n",
              "    <style>\n",
              "      .colab-df-generate {\n",
              "        background-color: #E8F0FE;\n",
              "        border: none;\n",
              "        border-radius: 50%;\n",
              "        cursor: pointer;\n",
              "        display: none;\n",
              "        fill: #1967D2;\n",
              "        height: 32px;\n",
              "        padding: 0 0 0 0;\n",
              "        width: 32px;\n",
              "      }\n",
              "\n",
              "      .colab-df-generate:hover {\n",
              "        background-color: #E2EBFA;\n",
              "        box-shadow: 0px 1px 2px rgba(60, 64, 67, 0.3), 0px 1px 3px 1px rgba(60, 64, 67, 0.15);\n",
              "        fill: #174EA6;\n",
              "      }\n",
              "\n",
              "      [theme=dark] .colab-df-generate {\n",
              "        background-color: #3B4455;\n",
              "        fill: #D2E3FC;\n",
              "      }\n",
              "\n",
              "      [theme=dark] .colab-df-generate:hover {\n",
              "        background-color: #434B5C;\n",
              "        box-shadow: 0px 1px 3px 1px rgba(0, 0, 0, 0.15);\n",
              "        filter: drop-shadow(0px 1px 2px rgba(0, 0, 0, 0.3));\n",
              "        fill: #FFFFFF;\n",
              "      }\n",
              "    </style>\n",
              "    <button class=\"colab-df-generate\" onclick=\"generateWithVariable('df_features')\"\n",
              "            title=\"Generate code using this dataframe.\"\n",
              "            style=\"display:none;\">\n",
              "\n",
              "  <svg xmlns=\"http://www.w3.org/2000/svg\" height=\"24px\"viewBox=\"0 0 24 24\"\n",
              "       width=\"24px\">\n",
              "    <path d=\"M7,19H8.4L18.45,9,17,7.55,7,17.6ZM5,21V16.75L18.45,3.32a2,2,0,0,1,2.83,0l1.4,1.43a1.91,1.91,0,0,1,.58,1.4,1.91,1.91,0,0,1-.58,1.4L9.25,21ZM18.45,9,17,7.55Zm-12,3A5.31,5.31,0,0,0,4.9,8.1,5.31,5.31,0,0,0,1,6.5,5.31,5.31,0,0,0,4.9,4.9,5.31,5.31,0,0,0,6.5,1,5.31,5.31,0,0,0,8.1,4.9,5.31,5.31,0,0,0,12,6.5,5.46,5.46,0,0,0,6.5,12Z\"/>\n",
              "  </svg>\n",
              "    </button>\n",
              "    <script>\n",
              "      (() => {\n",
              "      const buttonEl =\n",
              "        document.querySelector('#id_722d665e-7ffc-46cc-9330-354dca234f29 button.colab-df-generate');\n",
              "      buttonEl.style.display =\n",
              "        google.colab.kernel.accessAllowed ? 'block' : 'none';\n",
              "\n",
              "      buttonEl.onclick = () => {\n",
              "        google.colab.notebook.generateWithVariable('df_features');\n",
              "      }\n",
              "      })();\n",
              "    </script>\n",
              "  </div>\n",
              "\n",
              "    </div>\n",
              "  </div>\n"
            ]
          },
          "metadata": {},
          "execution_count": 10
        }
      ]
    },
    {
      "cell_type": "code",
      "source": [
        "X = df_features['Movie_Genre'] + ' ' + df_features['Movie_Keywords'] + ' ' + df_features['Movie_Tagline'] + ' ' + df_features['Movie_Cast'] + ' ' + df_features['Movie_Director']"
      ],
      "metadata": {
        "id": "EP0XWSNZ945y"
      },
      "execution_count": 11,
      "outputs": []
    },
    {
      "cell_type": "code",
      "source": [
        "X"
      ],
      "metadata": {
        "colab": {
          "base_uri": "https://localhost:8080/"
        },
        "id": "U4vDBJJJ948d",
        "outputId": "4ca4f24a-ab51-4bfe-97cd-f6bdb66d0bac"
      },
      "execution_count": 12,
      "outputs": [
        {
          "output_type": "execute_result",
          "data": {
            "text/plain": [
              "0       Crime Comedy hotel new year's eve witch bet ho...\n",
              "1       Adventure Action Science Fiction android galax...\n",
              "2       Animation Family father son relationship harbo...\n",
              "3       Comedy Drama Romance vietnam veteran hippie me...\n",
              "4       Drama male nudity female nudity adultery midli...\n",
              "                              ...                        \n",
              "4755    Horror  The hot spot where Satan's waitin'. Li...\n",
              "4756    Comedy Family Drama  It’s better to stand out ...\n",
              "4757    Thriller Drama christian film sex trafficking ...\n",
              "4758                                           Family    \n",
              "4759    Documentary music actors legendary perfomer cl...\n",
              "Length: 4760, dtype: object"
            ]
          },
          "metadata": {},
          "execution_count": 12
        }
      ]
    },
    {
      "cell_type": "code",
      "source": [
        "X.shape"
      ],
      "metadata": {
        "colab": {
          "base_uri": "https://localhost:8080/"
        },
        "id": "_dGGFOCc94-2",
        "outputId": "38222061-c03f-488f-e034-ac090ca54fbb"
      },
      "execution_count": 13,
      "outputs": [
        {
          "output_type": "execute_result",
          "data": {
            "text/plain": [
              "(4760,)"
            ]
          },
          "metadata": {},
          "execution_count": 13
        }
      ]
    },
    {
      "cell_type": "markdown",
      "source": [
        "\n",
        "\n",
        "> Get Feature Text Conversion to Tokens\n",
        "\n"
      ],
      "metadata": {
        "id": "Bj_4ftsj-D2i"
      }
    },
    {
      "cell_type": "code",
      "source": [
        "from sklearn.feature_extraction.text import TfidfVectorizer"
      ],
      "metadata": {
        "id": "WTJjFNo695Cf"
      },
      "execution_count": 14,
      "outputs": []
    },
    {
      "cell_type": "code",
      "source": [
        "tfidf = TfidfVectorizer()"
      ],
      "metadata": {
        "id": "gRqCjKZ095FV"
      },
      "execution_count": 15,
      "outputs": []
    },
    {
      "cell_type": "code",
      "source": [
        "X = tfidf.fit_transform(X)"
      ],
      "metadata": {
        "id": "gNuSsBUD95ID"
      },
      "execution_count": 16,
      "outputs": []
    },
    {
      "cell_type": "code",
      "source": [
        "X.shape"
      ],
      "metadata": {
        "colab": {
          "base_uri": "https://localhost:8080/"
        },
        "id": "OnJ61AFO-KPk",
        "outputId": "4d22350b-d833-48d0-cc69-472ddd064011"
      },
      "execution_count": 17,
      "outputs": [
        {
          "output_type": "execute_result",
          "data": {
            "text/plain": [
              "(4760, 17258)"
            ]
          },
          "metadata": {},
          "execution_count": 17
        }
      ]
    },
    {
      "cell_type": "code",
      "source": [
        "print(X)"
      ],
      "metadata": {
        "colab": {
          "base_uri": "https://localhost:8080/"
        },
        "id": "IjSqe-Tq-KSV",
        "outputId": "db013cdb-32f0-41a5-a6fb-3a5c8c28b839"
      },
      "execution_count": 18,
      "outputs": [
        {
          "output_type": "stream",
          "name": "stdout",
          "text": [
            "  (0, 617)\t0.1633382144407513\n",
            "  (0, 492)\t0.1432591540388685\n",
            "  (0, 15413)\t0.1465525095337543\n",
            "  (0, 9675)\t0.14226057295252661\n",
            "  (0, 9465)\t0.1659841367820977\n",
            "  (0, 1390)\t0.16898383612799558\n",
            "  (0, 7825)\t0.09799561597509843\n",
            "  (0, 1214)\t0.13865857545144072\n",
            "  (0, 729)\t0.13415063359531618\n",
            "  (0, 13093)\t0.1432591540388685\n",
            "  (0, 15355)\t0.10477815972666779\n",
            "  (0, 9048)\t0.0866842116160778\n",
            "  (0, 11161)\t0.06250380151644369\n",
            "  (0, 16773)\t0.17654247479915475\n",
            "  (0, 5612)\t0.08603537588547631\n",
            "  (0, 16735)\t0.10690083751525419\n",
            "  (0, 7904)\t0.13348000542112332\n",
            "  (0, 15219)\t0.09800472886453934\n",
            "  (0, 11242)\t0.07277788238484746\n",
            "  (0, 3878)\t0.11998399582562203\n",
            "  (0, 5499)\t0.11454057510303811\n",
            "  (0, 7071)\t0.19822417598406614\n",
            "  (0, 7454)\t0.14745635785412262\n",
            "  (0, 1495)\t0.19712637387361423\n",
            "  (0, 9206)\t0.15186283580984414\n",
            "  :\t:\n",
            "  (4757, 5455)\t0.12491480594769522\n",
            "  (4757, 2967)\t0.16273475835631626\n",
            "  (4757, 8464)\t0.23522565554066333\n",
            "  (4757, 6938)\t0.17088173678136628\n",
            "  (4757, 8379)\t0.17480603856721913\n",
            "  (4757, 15303)\t0.07654356007668191\n",
            "  (4757, 15384)\t0.09754322497537371\n",
            "  (4757, 7649)\t0.11479421494340192\n",
            "  (4757, 10896)\t0.14546473055066447\n",
            "  (4757, 4494)\t0.05675298448720501\n",
            "  (4758, 5238)\t1.0\n",
            "  (4759, 11264)\t0.33947721804318337\n",
            "  (4759, 11708)\t0.33947721804318337\n",
            "  (4759, 205)\t0.3237911628497312\n",
            "  (4759, 8902)\t0.3040290704566037\n",
            "  (4759, 14062)\t0.3237911628497312\n",
            "  (4759, 3058)\t0.2812896191863103\n",
            "  (4759, 7130)\t0.26419662449963793\n",
            "  (4759, 10761)\t0.3126617295732147\n",
            "  (4759, 4358)\t0.18306542312175342\n",
            "  (4759, 14051)\t0.20084315377640435\n",
            "  (4759, 5690)\t0.19534291014627303\n",
            "  (4759, 15431)\t0.19628653185946862\n",
            "  (4759, 1490)\t0.21197258705292082\n",
            "  (4759, 10666)\t0.15888268987343043\n"
          ]
        }
      ]
    },
    {
      "cell_type": "code",
      "source": [
        "from sklearn.metrics.pairwise import cosine_similarity"
      ],
      "metadata": {
        "id": "wtcVlwv6-KVC"
      },
      "execution_count": 19,
      "outputs": []
    },
    {
      "cell_type": "code",
      "source": [
        "Similarity_Score = cosine_similarity(X)"
      ],
      "metadata": {
        "id": "VAl7sFbl-KXa"
      },
      "execution_count": 20,
      "outputs": []
    },
    {
      "cell_type": "code",
      "source": [
        "Similarity_Score"
      ],
      "metadata": {
        "colab": {
          "base_uri": "https://localhost:8080/"
        },
        "id": "R9p5OPwU-KaD",
        "outputId": "7afa4d73-0ed9-4d15-8728-1469a05c08bb"
      },
      "execution_count": 23,
      "outputs": [
        {
          "output_type": "execute_result",
          "data": {
            "text/plain": [
              "array([[1.        , 0.01351235, 0.03570468, ..., 0.        , 0.        ,\n",
              "        0.        ],\n",
              "       [0.01351235, 1.        , 0.00806674, ..., 0.        , 0.        ,\n",
              "        0.        ],\n",
              "       [0.03570468, 0.00806674, 1.        , ..., 0.        , 0.08014876,\n",
              "        0.        ],\n",
              "       ...,\n",
              "       [0.        , 0.        , 0.        , ..., 1.        , 0.        ,\n",
              "        0.        ],\n",
              "       [0.        , 0.        , 0.08014876, ..., 0.        , 1.        ,\n",
              "        0.        ],\n",
              "       [0.        , 0.        , 0.        , ..., 0.        , 0.        ,\n",
              "        1.        ]])"
            ]
          },
          "metadata": {},
          "execution_count": 23
        }
      ]
    },
    {
      "cell_type": "code",
      "source": [
        "Similarity_Score.shape"
      ],
      "metadata": {
        "colab": {
          "base_uri": "https://localhost:8080/"
        },
        "id": "FTrFS519-Syo",
        "outputId": "b7146e5d-d7e7-4d30-b010-0484ad9585a1"
      },
      "execution_count": 22,
      "outputs": [
        {
          "output_type": "execute_result",
          "data": {
            "text/plain": [
              "(4760, 4760)"
            ]
          },
          "metadata": {},
          "execution_count": 22
        }
      ]
    },
    {
      "cell_type": "markdown",
      "source": [
        "\n",
        "\n",
        ">Get Movie Name From User And Validate For Closest Spelling\n",
        "\n"
      ],
      "metadata": {
        "id": "JE48YRGN_UTe"
      }
    },
    {
      "cell_type": "code",
      "source": [
        "Favourite_Movie_Name = input(' Enter your favourite name: ')"
      ],
      "metadata": {
        "colab": {
          "base_uri": "https://localhost:8080/"
        },
        "id": "Uc6mhPrK-S1a",
        "outputId": "1eed5c8a-938b-487a-b49a-150bc2173b29"
      },
      "execution_count": 24,
      "outputs": [
        {
          "name": "stdout",
          "output_type": "stream",
          "text": [
            " Enter your favourite name: avengrs\n"
          ]
        }
      ]
    },
    {
      "cell_type": "code",
      "source": [
        "All_Movies_Title_List = df['Movie_Title'].tolist()"
      ],
      "metadata": {
        "id": "EZrdh7Uh-S37"
      },
      "execution_count": 27,
      "outputs": []
    },
    {
      "cell_type": "code",
      "source": [
        "import difflib"
      ],
      "metadata": {
        "id": "v4Lq1Rol-S6u"
      },
      "execution_count": 28,
      "outputs": []
    },
    {
      "cell_type": "code",
      "source": [
        "Movie_Recommendation = difflib.get_close_matches(Favourite_Movie_Name, All_Movies_Title_List)\n",
        "print(Movie_Recommendation)"
      ],
      "metadata": {
        "colab": {
          "base_uri": "https://localhost:8080/"
        },
        "id": "KON0AdOQ-S-W",
        "outputId": "57655e03-8a92-4915-bd49-02e488ddcceb"
      },
      "execution_count": 29,
      "outputs": [
        {
          "output_type": "stream",
          "name": "stdout",
          "text": [
            "['Ravenous', 'The Avengers', 'Takers']\n"
          ]
        }
      ]
    },
    {
      "cell_type": "code",
      "source": [
        "Close_Match = Movie_Recommendation[0]\n",
        "print(Close_Match)"
      ],
      "metadata": {
        "colab": {
          "base_uri": "https://localhost:8080/"
        },
        "id": "E0RnU4j7-TDO",
        "outputId": "b4c55ed8-e4f0-4db2-ec90-a244de63d681"
      },
      "execution_count": 30,
      "outputs": [
        {
          "output_type": "stream",
          "name": "stdout",
          "text": [
            "Ravenous\n"
          ]
        }
      ]
    },
    {
      "cell_type": "code",
      "source": [
        "Index_of_Close_Match_Movie = df[df.Movie_Title == Close_Match]['Movie_ID'].values[0]\n",
        "print(Index_of_Close_Match_Movie)"
      ],
      "metadata": {
        "colab": {
          "base_uri": "https://localhost:8080/"
        },
        "id": "cBFX0zgh-dfQ",
        "outputId": "a5b6f319-2e03-4731-c13a-70cf52825678"
      },
      "execution_count": 31,
      "outputs": [
        {
          "output_type": "stream",
          "name": "stdout",
          "text": [
            "1615\n"
          ]
        }
      ]
    },
    {
      "cell_type": "code",
      "source": [
        "Recommendation_Score = list(enumerate(Similarity_Score[Index_of_Close_Match_Movie]))\n",
        "print(Recommendation_Score)"
      ],
      "metadata": {
        "colab": {
          "base_uri": "https://localhost:8080/"
        },
        "id": "eepFsXJH-dhy",
        "outputId": "cacaf967-86c6-43fc-9250-abb760168503"
      },
      "execution_count": 32,
      "outputs": [
        {
          "output_type": "stream",
          "name": "stdout",
          "text": [
            "[(0, 0.02220844178563958), (1, 0.00795139308751615), (2, 0.008865704059270644), (3, 0.03388017336160917), (4, 0.0), (5, 0.0), (6, 0.02408728175322918), (7, 0.0), (8, 0.0), (9, 0.02071748517568665), (10, 0.0), (11, 0.03397902374262149), (12, 0.0), (13, 0.0), (14, 0.023209720956460025), (15, 0.0), (16, 0.0), (17, 0.02378141101423705), (18, 0.0), (19, 0.01717806163548543), (20, 0.0), (21, 0.0), (22, 0.004666120231970809), (23, 0.0), (24, 0.0), (25, 0.05817285571760829), (26, 0.0), (27, 0.03827706119219894), (28, 0.018463095101349202), (29, 0.0), (30, 0.0), (31, 0.0), (32, 0.007806665858540039), (33, 0.0), (34, 0.0), (35, 0.03400090839875113), (36, 0.04180850796166816), (37, 0.03363823155784703), (38, 0.005370499150195992), (39, 0.008938705102994578), (40, 0.005271554096886054), (41, 0.00990562323893694), (42, 0.004806840485388239), (43, 0.024051901386918824), (44, 0.0), (45, 0.022715095891052167), (46, 0.00827408747543087), (47, 0.0), (48, 0.03079245529902014), (49, 0.02995421909950243), (50, 0.004640896803097426), (51, 0.0), (52, 0.0), (53, 0.0354581697034515), (54, 0.022735538388931983), (55, 0.023392551990397113), (56, 0.022793631068262824), (57, 0.018463617962316575), (58, 0.02743524502697671), (59, 0.014013579123702208), (60, 0.015555702902287884), (61, 0.013313816813026947), (62, 0.0), (63, 0.027939729977929085), (64, 0.0), (65, 0.017655820760732334), (66, 0.0), (67, 0.008072415190982202), (68, 0.0), (69, 0.009774601877458426), (70, 0.03056623983418557), (71, 0.045265696071066175), (72, 0.02710302136826606), (73, 0.020720925104660167), (74, 0.0), (75, 0.007477044512459963), (76, 0.0), (77, 0.0), (78, 0.01496605555528708), (79, 0.008874407093530297), (80, 0.008156784586793716), (81, 0.0), (82, 0.0035661485574087983), (83, 0.04022975019572331), (84, 0.02736264957765213), (85, 0.026884513083110354), (86, 0.04911258901575294), (87, 0.0), (88, 0.0), (89, 0.0), (90, 0.008705166043428787), (91, 0.021188673336190785), (92, 0.0), (93, 0.008526400714299963), (94, 0.008175070109927287), (95, 0.009157300114778324), (96, 0.0), (97, 0.0), (98, 0.0), (99, 0.0), (100, 0.0), (101, 0.05072695044108167), (102, 0.0), (103, 0.004070346968321952), (104, 0.0), (105, 0.0), (106, 0.0), (107, 0.03837993972603498), (108, 0.0), (109, 0.0), (110, 0.004802887410187323), (111, 0.0), (112, 0.0), (113, 0.007728888285714095), (114, 0.004703860585111517), (115, 0.0048052289281186695), (116, 0.012727505191175274), (117, 0.023456789501848076), (118, 0.009134197796955299), (119, 0.00873383129054122), (120, 0.044496901327058774), (121, 0.0), (122, 0.012422418212800358), (123, 0.0), (124, 0.0), (125, 0.015438156272603308), (126, 0.0), (127, 0.0), (128, 0.0), (129, 0.003281583253651528), (130, 0.02840594952905853), (131, 0.026548193711193758), (132, 0.0), (133, 0.0), (134, 0.004800622666978093), (135, 0.0), (136, 0.012453116350028466), (137, 0.028772061860463237), (138, 0.0), (139, 0.005272609897046239), (140, 0.0), (141, 0.019973818551308996), (142, 0.0), (143, 0.0), (144, 0.024901939990974366), (145, 0.0), (146, 0.0162143588769959), (147, 0.03434659518067151), (148, 0.0), (149, 0.0), (150, 0.04478504379264005), (151, 0.03806425360153058), (152, 0.008645084032443184), (153, 0.028130005073289225), (154, 0.0), (155, 0.0), (156, 0.003817582961180489), (157, 0.004475663747016918), (158, 0.0), (159, 0.020508468396766504), (160, 0.0), (161, 0.0042240607878054025), (162, 0.014811438938660375), (163, 0.0), (164, 0.0), (165, 0.0076955785065554285), (166, 0.0), (167, 0.0), (168, 0.020594372644067216), (169, 0.004617125066178035), (170, 0.0), (171, 0.008450246557926963), (172, 0.0), (173, 0.0), (174, 0.004641821872028775), (175, 0.003968186318525111), (176, 0.0), (177, 0.0203042068859594), (178, 0.0), (179, 0.03145043773490679), (180, 0.014410455041153302), (181, 0.013395561598673125), (182, 0.013710015417290847), (183, 0.009476022398176086), (184, 0.02460890799239227), (185, 0.02262718339602024), (186, 0.0), (187, 0.0), (188, 0.02833098597091725), (189, 0.009218559339836743), (190, 0.0), (191, 0.03696614895173763), (192, 0.030225683997404662), (193, 0.03408922457794286), (194, 0.0), (195, 0.003949989929585005), (196, 0.023473095761292688), (197, 0.004437212686161061), (198, 0.0), (199, 0.04561997644329145), (200, 0.0), (201, 0.04459408391368802), (202, 0.0030836110727016095), (203, 0.0), (204, 0.01899805752501562), (205, 0.004976152129879887), (206, 0.014305003533827805), (207, 0.04484134446123495), (208, 0.009451099457077915), (209, 0.0), (210, 0.0), (211, 0.009824077442359101), (212, 0.004397907884679105), (213, 0.0), (214, 0.0042376023295830085), (215, 0.004616804045898138), (216, 0.0), (217, 0.004580427373077069), (218, 0.02043874609014064), (219, 0.024351753835937923), (220, 0.03408704707957281), (221, 0.0), (222, 0.0), (223, 0.0), (224, 0.0), (225, 0.010809268024074302), (226, 0.0), (227, 0.0), (228, 0.0256287387667242), (229, 0.0), (230, 0.013132673943172319), (231, 0.02347609781578141), (232, 0.024104059529765597), (233, 0.03029915606616379), (234, 0.0076616395565881155), (235, 0.03639180819097036), (236, 0.0), (237, 0.007222135439496118), (238, 0.018547128598565044), (239, 0.039084896671207646), (240, 0.0), (241, 0.008880296175930794), (242, 0.016653381122018283), (243, 0.0), (244, 0.0), (245, 0.015418727349654684), (246, 0.00999536295699253), (247, 0.03093765065643558), (248, 0.0), (249, 0.0), (250, 0.03607859182682029), (251, 0.0), (252, 0.007885394135964459), (253, 0.03569206115686759), (254, 0.0), (255, 0.0), (256, 0.0), (257, 0.05296697129749032), (258, 0.008962906045452065), (259, 0.0), (260, 0.008443624322207062), (261, 0.008588884715380406), (262, 0.0), (263, 0.012871503369113468), (264, 0.013620276951806783), (265, 0.0), (266, 0.054275395164980436), (267, 0.0), (268, 0.0), (269, 0.0), (270, 0.0), (271, 0.0), (272, 0.0), (273, 0.0), (274, 0.0), (275, 0.0), (276, 0.0), (277, 0.028761388164867237), (278, 0.004047413754575429), (279, 0.0305613953935735), (280, 0.027873067305674737), (281, 0.0), (282, 0.0), (283, 0.026965669380317074), (284, 0.008489813462547924), (285, 0.0), (286, 0.007639116687889533), (287, 0.0), (288, 0.0075600674777193365), (289, 0.007144876374899151), (290, 0.007264313757595208), (291, 0.0), (292, 0.008637018462584072), (293, 0.0), (294, 0.007088100194776801), (295, 0.007259834383018658), (296, 0.0), (297, 0.03461604850905439), (298, 0.06624833578473083), (299, 0.03271463669012193), (300, 0.031172347363049885), (301, 0.034611481285632587), (302, 0.0), (303, 0.0), (304, 0.0), (305, 0.03507197268429074), (306, 0.008202068943359172), (307, 0.0), (308, 0.05594743002745614), (309, 0.0), (310, 0.008553037155810801), (311, 0.004410895806498185), (312, 0.01513582482299999), (313, 0.0), (314, 0.007462441325854453), (315, 0.008929544811773035), (316, 0.008250485290975582), (317, 0.022944722523771784), (318, 0.005135647358671118), (319, 0.003850530768604759), (320, 0.00933262496329279), (321, 0.00864050928371921), (322, 0.008766076557825693), (323, 0.007963034372776966), (324, 0.0), (325, 0.0044407685393751005), (326, 0.0), (327, 0.007985752952543888), (328, 0.0), (329, 0.0), (330, 0.0), (331, 0.042944343691777895), (332, 0.010097364159571536), (333, 0.0), (334, 0.0), (335, 0.009552147474968005), (336, 0.01942636377655985), (337, 0.0), (338, 0.01659082710287814), (339, 0.01759757868813823), (340, 0.035155472669269515), (341, 0.011125273455867207), (342, 0.0), (343, 0.0324865595228533), (344, 0.04248636410964751), (345, 0.023196574448979445), (346, 0.025203556990854352), (347, 0.03080326945699323), (348, 0.031916905229004214), (349, 0.0), (350, 0.005116040942308524), (351, 0.04904164176182644), (352, 0.02982296511712228), (353, 0.0), (354, 0.0), (355, 0.012434755058710832), (356, 0.0), (357, 0.004055281049931499), (358, 0.0), (359, 0.03643256166979186), (360, 0.0), (361, 0.03972121099433605), (362, 0.04131410992062398), (363, 0.06952260300200548), (364, 0.03170078538972232), (365, 0.04155374858258283), (366, 0.003832381342597579), (367, 0.04253321549145051), (368, 0.06397949232463074), (369, 0.003596560712550304), (370, 0.0), (371, 0.0), (372, 0.0), (373, 0.0), (374, 0.0), (375, 0.013327268308436302), (376, 0.0), (377, 0.03806232352547564), (378, 0.02806582345193339), (379, 0.00819824255427798), (380, 0.0), (381, 0.01828509431374401), (382, 0.02059126775143243), (383, 0.05135769669813517), (384, 0.0), (385, 0.020130602434692446), (386, 0.0), (387, 0.026356499885669696), (388, 0.0), (389, 0.0), (390, 0.008568093343272196), (391, 0.019251830926658657), (392, 0.015967372659958495), (393, 0.0041616100576011604), (394, 0.0), (395, 0.014468388241651128), (396, 0.03814997675422496), (397, 0.008139457410471106), (398, 0.004732069521462431), (399, 0.025895020797066046), (400, 0.0), (401, 0.07991639981090898), (402, 0.0), (403, 0.02868234191046485), (404, 0.0377015860873126), (405, 0.016114817872349807), (406, 0.0), (407, 0.008290390692627995), (408, 0.024774546054804104), (409, 0.022035110683236), (410, 0.05883416694629145), (411, 0.01237774917708393), (412, 0.0), (413, 0.05385100958970383), (414, 0.013655772390595605), (415, 0.019207292513409916), (416, 0.008612791115689444), (417, 0.01263408343183485), (418, 0.01438709240973406), (419, 0.010026181470595662), (420, 0.08824040737352057), (421, 0.018510253919089385), (422, 0.00444015474934805), (423, 0.01025517298455857), (424, 0.010107818447522938), (425, 0.01009904879081923), (426, 0.008326541884092552), (427, 0.00450757413197585), (428, 0.008037182728811628), (429, 0.0), (430, 0.05724441116164963), (431, 0.0055421072837906725), (432, 0.0), (433, 0.0), (434, 0.012757799047129197), (435, 0.0), (436, 0.0), (437, 0.009804050421913355), (438, 0.0), (439, 0.0), (440, 0.0), (441, 0.0), (442, 0.0), (443, 0.0), (444, 0.03656067487879936), (445, 0.0), (446, 0.0), (447, 0.0), (448, 0.0), (449, 0.0), (450, 0.0), (451, 0.041610427323693557), (452, 0.006704830150700664), (453, 0.0), (454, 0.004361464223101002), (455, 0.0), (456, 0.024245397734941915), (457, 0.0176537002163194), (458, 0.0), (459, 0.014726493437014538), (460, 0.0), (461, 0.028342992582340392), (462, 0.05127775166035041), (463, 0.04564175389271143), (464, 0.0), (465, 0.0), (466, 0.0), (467, 0.00877536599827181), (468, 0.034481299954465375), (469, 0.0073568700021247), (470, 0.010897442163043378), (471, 0.0043885527813377154), (472, 0.00916480598654979), (473, 0.004251577377688326), (474, 0.034302273876296446), (475, 0.0), (476, 0.0), (477, 0.01420205556157456), (478, 0.03162788358796673), (479, 0.004693841971251735), (480, 0.011833346725638816), (481, 0.0), (482, 0.0), (483, 0.014238265210599902), (484, 0.0), (485, 0.0), (486, 0.0), (487, 0.0), (488, 0.0), (489, 0.0), (490, 0.010231483163078555), (491, 0.026172405572963166), (492, 0.012590433388383473), (493, 0.014317923757630548), (494, 0.004720963206652973), (495, 0.01192726167331546), (496, 0.007600221473241165), (497, 0.02129859407251376), (498, 0.035673558875492964), (499, 0.0), (500, 0.0), (501, 0.007993915836287098), (502, 0.03435140909365138), (503, 0.0045714053386301445), (504, 0.004727791269361067), (505, 0.004464330642926322), (506, 0.0038082886229341257), (507, 0.0044125966740185705), (508, 0.017284019865028782), (509, 0.0), (510, 0.0037564043929621165), (511, 0.009410130359485064), (512, 0.0), (513, 0.0), (514, 0.0), (515, 0.00423597171625982), (516, 0.0), (517, 0.0), (518, 0.0), (519, 0.016983123823425213), (520, 0.004106091573418447), (521, 0.004524576285718652), (522, 0.023119891209815505), (523, 0.0), (524, 0.009478703767973705), (525, 0.004674231112393314), (526, 0.0), (527, 0.01635963309017085), (528, 0.03810119688934474), (529, 0.004728436573084368), (530, 0.0), (531, 0.011284557340317278), (532, 0.004363773966957271), (533, 0.0), (534, 0.0), (535, 0.0370135135163361), (536, 0.005001230153439139), (537, 0.01013322081857534), (538, 0.01500046758381417), (539, 0.008711218011671688), (540, 0.008216111196431427), (541, 0.025345751517229193), (542, 0.02260961716409296), (543, 0.0), (544, 0.0), (545, 0.03496764478269237), (546, 0.0361037268195303), (547, 0.0), (548, 0.008347955387697226), (549, 0.00958646381669914), (550, 0.009832873737029735), (551, 0.034077573972034696), (552, 0.0), (553, 0.006330800429245798), (554, 0.06392884321195105), (555, 0.0), (556, 0.0), (557, 0.0), (558, 0.0), (559, 0.0), (560, 0.0), (561, 0.0), (562, 0.0323134793415847), (563, 0.0609975923966871), (564, 0.0), (565, 0.008314684615749064), (566, 0.0), (567, 0.04012220810571813), (568, 0.03327097856471594), (569, 0.04452272749690288), (570, 0.03057815260071451), (571, 0.023669653358853824), (572, 0.009126066710670478), (573, 0.0), (574, 0.0), (575, 0.0), (576, 0.05640036295048425), (577, 0.004208863499205181), (578, 0.0), (579, 0.004763773535297628), (580, 0.0), (581, 0.0), (582, 0.005536264804624838), (583, 0.00852051116260439), (584, 0.0), (585, 0.004520759887675014), (586, 0.02821569332781359), (587, 0.0), (588, 0.0), (589, 0.004355259954779176), (590, 0.0), (591, 0.00977630119282366), (592, 0.022738276708818502), (593, 0.0), (594, 0.012157303961536033), (595, 0.0), (596, 0.0), (597, 0.009288041933743954), (598, 0.0), (599, 0.018730890027571917), (600, 0.00936722033823611), (601, 0.007594272351864178), (602, 0.007268315042944576), (603, 0.00946853971957126), (604, 0.025701809608791773), (605, 0.0041350787714411015), (606, 0.0), (607, 0.0), (608, 0.008069563224086739), (609, 0.04531080220788135), (610, 0.022258854609238557), (611, 0.0), (612, 0.0), (613, 0.022066795010748274), (614, 0.0), (615, 0.023190833548632987), (616, 0.0), (617, 0.0), (618, 0.0), (619, 0.0), (620, 0.0), (621, 0.0), (622, 0.0), (623, 0.0), (624, 0.029490961819875088), (625, 0.0), (626, 0.0), (627, 0.012054271018365797), (628, 0.0), (629, 0.0040579912079160285), (630, 0.004748323275110467), (631, 0.00915310725921304), (632, 0.004247258310225052), (633, 0.0), (634, 0.0), (635, 0.07821020183448296), (636, 0.0), (637, 0.0), (638, 0.0), (639, 0.01890440266211155), (640, 0.018741789400182163), (641, 0.013773853410397557), (642, 0.0), (643, 0.0), (644, 0.012810483972334093), (645, 0.0), (646, 0.0), (647, 0.0), (648, 0.004391848165191153), (649, 0.03093917507943927), (650, 0.008334938759870928), (651, 0.0), (652, 0.0), (653, 0.022798773779092743), (654, 0.0), (655, 0.0), (656, 0.03225226977797461), (657, 0.009175404820268344), (658, 0.0), (659, 0.00437744318870303), (660, 0.0), (661, 0.016702070157088904), (662, 0.027649261730675674), (663, 0.0), (664, 0.004212490678683882), (665, 0.05054309694200469), (666, 0.01001744420516989), (667, 0.004940729013002015), (668, 0.0), (669, 0.02411051765922792), (670, 0.0), (671, 0.004852518134659998), (672, 0.02755647727750194), (673, 0.0), (674, 0.022192206178720007), (675, 0.0), (676, 0.0), (677, 0.009756056107573257), (678, 0.040272366639030464), (679, 0.005415940011241183), (680, 0.0), (681, 0.02015718762209384), (682, 0.0), (683, 0.0), (684, 0.0), (685, 0.0), (686, 0.021258255302667693), (687, 0.005213804323304832), (688, 0.0), (689, 0.0), (690, 0.004372343530132992), (691, 0.012149028844105344), (692, 0.007694096198933255), (693, 0.0), (694, 0.0), (695, 0.0), (696, 0.0), (697, 0.031032454080667644), (698, 0.0), (699, 0.020132742360655986), (700, 0.03589839363402483), (701, 0.0), (702, 0.0043967182096939315), (703, 0.02533111078955482), (704, 0.0), (705, 0.0), (706, 0.008206689560396718), (707, 0.003952665010360723), (708, 0.0048485125722275675), (709, 0.003935134395306584), (710, 0.004365744225602955), (711, 0.005519993583255244), (712, 0.025194706478993363), (713, 0.03962651736753153), (714, 0.04324760741267325), (715, 0.036106162393979346), (716, 0.03864048688225834), (717, 0.010774992590927278), (718, 0.0), (719, 0.0), (720, 0.035988833060799655), (721, 0.0), (722, 0.0), (723, 0.0), (724, 0.032494290304722034), (725, 0.039305841940457255), (726, 0.059583697017568986), (727, 0.0), (728, 0.0), (729, 0.0), (730, 0.015477848785203668), (731, 0.0), (732, 0.029292032688508243), (733, 0.0), (734, 0.0), (735, 0.006417026017202201), (736, 0.05076488974961683), (737, 0.010600826135511792), (738, 0.0), (739, 0.0), (740, 0.0031525431707727656), (741, 0.046599154362961595), (742, 0.0619491185901436), (743, 0.0), (744, 0.0), (745, 0.022128850375865775), (746, 0.0), (747, 0.0), (748, 0.0), (749, 0.0), (750, 0.0), (751, 0.032686066647959894), (752, 0.03475970995310761), (753, 0.0), (754, 0.005034686196676243), (755, 0.00456699932257203), (756, 0.01563423611564792), (757, 0.003753803579727467), (758, 0.004735844830891768), (759, 0.004278656270465562), (760, 0.005391048428649528), (761, 0.0), (762, 0.0), (763, 0.0), (764, 0.006858491494100306), (765, 0.0), (766, 0.0), (767, 0.0), (768, 0.009588151711671513), (769, 0.0), (770, 0.016796088567858303), (771, 0.005062891648630633), (772, 0.004508314364891814), (773, 0.014541448059113601), (774, 0.0), (775, 0.0068104659201426), (776, 0.008578352385378586), (777, 0.0), (778, 0.009672485224968226), (779, 0.011527372746448907), (780, 0.0044711165529652845), (781, 0.030032297801929755), (782, 0.0), (783, 0.0), (784, 0.00487265594823153), (785, 0.004702175690229839), (786, 0.003935993317914236), (787, 0.002874480744224685), (788, 0.004314810411806165), (789, 0.06831327796575254), (790, 0.0), (791, 0.0), (792, 0.0), (793, 0.014125703026321216), (794, 0.0477369059675911), (795, 0.005554390890754322), (796, 0.0), (797, 0.004904483315844151), (798, 0.0), (799, 0.0), (800, 0.0), (801, 0.0), (802, 0.0), (803, 0.024977473238322574), (804, 0.02356834339650636), (805, 0.0), (806, 0.0), (807, 0.026372993473447168), (808, 0.0), (809, 0.07385760860368118), (810, 0.0), (811, 0.0), (812, 0.0), (813, 0.0), (814, 0.004827407280430234), (815, 0.0), (816, 0.0), (817, 0.0), (818, 0.04579630960962871), (819, 0.01278166372705543), (820, 0.0041511536166599266), (821, 0.012456808647363978), (822, 0.018261660570259), (823, 0.0), (824, 0.07401729859559553), (825, 0.0), (826, 0.009494081595829248), (827, 0.0), (828, 0.0), (829, 0.0), (830, 0.0), (831, 0.0), (832, 0.0), (833, 0.0), (834, 0.08062777932657786), (835, 0.04656406407322619), (836, 0.025140036090148865), (837, 0.0036124526562002655), (838, 0.0), (839, 0.0053094411235587126), (840, 0.004549781780804), (841, 0.0051600849478179635), (842, 0.016631302770565567), (843, 0.0278288510979834), (844, 0.0364744120924441), (845, 0.06178506413596507), (846, 0.004811970989117089), (847, 0.005388944520497418), (848, 0.0), (849, 0.027069017110387464), (850, 0.0), (851, 0.015930472680428066), (852, 0.008515594340556008), (853, 0.02373600886490951), (854, 0.0), (855, 0.0), (856, 0.007946211113232418), (857, 0.0), (858, 0.0), (859, 0.02695614285711949), (860, 0.0), (861, 0.0), (862, 0.04120052085763636), (863, 0.0), (864, 0.0), (865, 0.031522017968555326), (866, 0.024360238985181006), (867, 0.0046314622036862495), (868, 0.0), (869, 0.03951407328318509), (870, 0.06572854555860458), (871, 0.009146809497809966), (872, 0.014561248641124108), (873, 0.005032302438975194), (874, 0.0), (875, 0.03853053131901733), (876, 0.0), (877, 0.027061842119239374), (878, 0.0), (879, 0.004902799933761906), (880, 0.013291681201941418), (881, 0.0), (882, 0.01984505455793317), (883, 0.029520371038697608), (884, 0.004889276962648044), (885, 0.004215134034173441), (886, 0.004405708472435726), (887, 0.01466304858827124), (888, 0.0), (889, 0.0), (890, 0.004901157074928033), (891, 0.02760236382138975), (892, 0.004071177742466192), (893, 0.0), (894, 0.0), (895, 0.0), (896, 0.0), (897, 0.0), (898, 0.00423339890885432), (899, 0.029721204599814987), (900, 0.0), (901, 0.0), (902, 0.03601188576657272), (903, 0.01274966426169627), (904, 0.0055318919991626005), (905, 0.005436184531359949), (906, 0.0), (907, 0.004321612406504387), (908, 0.0048008509525257), (909, 0.03307022796218563), (910, 0.0), (911, 0.03897935949639488), (912, 0.02507611571543168), (913, 0.0), (914, 0.011022324806942789), (915, 0.008566157745349013), (916, 0.004354442263379973), (917, 0.0), (918, 0.009212603470661954), (919, 0.009046665490618508), (920, 0.02197178326545588), (921, 0.008285100513136457), (922, 0.0), (923, 0.004525618293780596), (924, 0.0), (925, 0.005403512007469189), (926, 0.010608586876602022), (927, 0.0), (928, 0.0), (929, 0.0), (930, 0.034222107913483735), (931, 0.015021436820941782), (932, 0.0), (933, 0.004799377750551412), (934, 0.0), (935, 0.04520579383088936), (936, 0.008009891073014775), (937, 0.08591804463068559), (938, 0.004710531514775085), (939, 0.04187772694020571), (940, 0.019957911287440684), (941, 0.004401446745688958), (942, 0.0), (943, 0.004710656477822342), (944, 0.0), (945, 0.013772420940283766), (946, 0.023817350499581964), (947, 0.0), (948, 0.005917106567868617), (949, 0.0), (950, 0.0), (951, 0.02286642254459084), (952, 0.03781029462655378), (953, 0.03195599317347571), (954, 0.02000863468349287), (955, 0.005540925154113282), (956, 0.014902169064133303), (957, 0.02603953405721302), (958, 0.004295329064364031), (959, 0.0), (960, 0.0), (961, 0.02950487657209246), (962, 0.0), (963, 0.03269545771613666), (964, 0.003917627897971189), (965, 0.013571812736775976), (966, 0.00840521811527731), (967, 0.0), (968, 0.0), (969, 0.004796586163865686), (970, 0.0039704608782265005), (971, 0.004837122034111138), (972, 0.003599564018121939), (973, 0.004629908913185667), (974, 0.0), (975, 0.0), (976, 0.0), (977, 0.05511096861737724), (978, 0.008693413663153786), (979, 0.0), (980, 0.03332299721399294), (981, 0.0), (982, 0.005169524310867626), (983, 0.004615533251664803), (984, 0.004470088261071923), (985, 0.0053757550676899685), (986, 0.0), (987, 0.0), (988, 0.0), (989, 0.0), (990, 0.03953464114974348), (991, 0.0144755086399371), (992, 0.0), (993, 0.0), (994, 0.0), (995, 0.004603695541613779), (996, 0.006631284193602651), (997, 0.0), (998, 0.00532738068678101), (999, 0.005323020596986816), (1000, 0.0), (1001, 0.008484447876028142), (1002, 0.008955118689679483), (1003, 0.0), (1004, 0.0), (1005, 0.0), (1006, 0.004909663803341601), (1007, 0.023690821574078896), (1008, 0.012880575594079142), (1009, 0.009166164219667637), (1010, 0.003974700466833379), (1011, 0.03177613959205836), (1012, 0.008818788152938718), (1013, 0.025289468324145473), (1014, 0.02394156104813211), (1015, 0.0), (1016, 0.04869557517436531), (1017, 0.0), (1018, 0.0), (1019, 0.0), (1020, 0.0), (1021, 0.004680984998774491), (1022, 0.013539347048391312), (1023, 0.0), (1024, 0.004894566714500664), (1025, 0.01339532552506785), (1026, 0.0), (1027, 0.0), (1028, 0.004638049219195856), (1029, 0.004447055586071959), (1030, 0.0), (1031, 0.0), (1032, 0.0), (1033, 0.0), (1034, 0.0), (1035, 0.0), (1036, 0.0), (1037, 0.0), (1038, 0.004291942734960379), (1039, 0.0), (1040, 0.003670426142607182), (1041, 0.0), (1042, 0.0), (1043, 0.014736677276628597), (1044, 0.0), (1045, 0.022956182330875485), (1046, 0.011453930940919982), (1047, 0.004896224898192326), (1048, 0.0), (1049, 0.0055723985999475), (1050, 0.0075839755560782405), (1051, 0.027379731432791342), (1052, 0.0), (1053, 0.0), (1054, 0.0), (1055, 0.012313513206649123), (1056, 0.0), (1057, 0.0), (1058, 0.08432432185023156), (1059, 0.0), (1060, 0.0), (1061, 0.004230710411395898), (1062, 0.003929360675774044), (1063, 0.008601277590193029), (1064, 0.0), (1065, 0.0), (1066, 0.0), (1067, 0.04106170772390184), (1068, 0.0), (1069, 0.06176038091302957), (1070, 0.004016565026218544), (1071, 0.0), (1072, 0.0), (1073, 0.004467789979428435), (1074, 0.054113242244490545), (1075, 0.0), (1076, 0.031079464292345843), (1077, 0.0), (1078, 0.003913572010432289), (1079, 0.022009533842061575), (1080, 0.0), (1081, 0.0), (1082, 0.02573546745557362), (1083, 0.0), (1084, 0.014729218544022739), (1085, 0.024399616081427183), (1086, 0.0), (1087, 0.009050405112839407), (1088, 0.0128497915674816), (1089, 0.005166657084367197), (1090, 0.034742686882962295), (1091, 0.009745875448960712), (1092, 0.0), (1093, 0.004247431370283737), (1094, 0.00459899239522157), (1095, 0.0), (1096, 0.0), (1097, 0.0), (1098, 0.0), (1099, 0.014422747231444474), (1100, 0.0046216160158335145), (1101, 0.02663459021278595), (1102, 0.0), (1103, 0.03517818645900958), (1104, 0.0), (1105, 0.004769168499283382), (1106, 0.008879071145879061), (1107, 0.0), (1108, 0.013878187606754536), (1109, 0.010421872902650018), (1110, 0.03225293395299558), (1111, 0.022877445989897854), (1112, 0.00468060078717516), (1113, 0.013130425092903398), (1114, 0.01771626720790129), (1115, 0.010929121344355527), (1116, 0.010946106799687362), (1117, 0.004514492814014772), (1118, 0.008553451776462965), (1119, 0.0), (1120, 0.0), (1121, 0.0), (1122, 0.0), (1123, 0.0), (1124, 0.00487208076539398), (1125, 0.004515871988974831), (1126, 0.013430965877684286), (1127, 0.0), (1128, 0.0), (1129, 0.013490418754774828), (1130, 0.004604899673042458), (1131, 0.03983210027059562), (1132, 0.0), (1133, 0.004689285558632965), (1134, 0.008024347795936228), (1135, 0.008260939126264384), (1136, 0.026913626676870063), (1137, 0.0), (1138, 0.0), (1139, 0.004420161995769109), (1140, 0.0), (1141, 0.01104197302349154), (1142, 0.029875163114029067), (1143, 0.015535296230800423), (1144, 0.0082376987036984), (1145, 0.0), (1146, 0.0), (1147, 0.0), (1148, 0.0), (1149, 0.02848896172204253), (1150, 0.024146879014416256), (1151, 0.008926360119561584), (1152, 0.0043568076732844055), (1153, 0.037824727235251196), (1154, 0.0), (1155, 0.0630169335013669), (1156, 0.0038578097309827967), (1157, 0.0043118422333427555), (1158, 0.0), (1159, 0.03928863893923433), (1160, 0.0), (1161, 0.0), (1162, 0.0), (1163, 0.0), (1164, 0.0), (1165, 0.024792045890211223), (1166, 0.015322644026595762), (1167, 0.0), (1168, 0.012407474384752575), (1169, 0.09156773112468614), (1170, 0.03093799003378949), (1171, 0.012215486658237623), (1172, 0.013501716196015772), (1173, 0.04396231857193558), (1174, 0.0), (1175, 0.022593453977488763), (1176, 0.05428950245416833), (1177, 0.0), (1178, 0.0401750441264194), (1179, 0.008900930928090576), (1180, 0.008754522490760827), (1181, 0.0), (1182, 0.01054187271316752), (1183, 0.0), (1184, 0.0), (1185, 0.009378855546475178), (1186, 0.0), (1187, 0.0055213354488217485), (1188, 0.0), (1189, 0.0), (1190, 0.017288863779371715), (1191, 0.0), (1192, 0.0), (1193, 0.004924361686376985), (1194, 0.011883707526757447), (1195, 0.0339166031933671), (1196, 0.028330996439543447), (1197, 0.0), (1198, 0.02369144763552775), (1199, 0.027261161235963168), (1200, 0.004271452372115141), (1201, 0.010644367008039366), (1202, 0.0), (1203, 0.029015562407170972), (1204, 0.015251261617639116), (1205, 0.005000232569581403), (1206, 0.026302634632756297), (1207, 0.0085046408129069), (1208, 0.005991299976256546), (1209, 0.0), (1210, 0.006473289027142771), (1211, 0.004452928374662827), (1212, 0.015687760187983388), (1213, 0.039001791198176546), (1214, 0.003940527081660145), (1215, 0.0), (1216, 0.004261403287301692), (1217, 0.02202028666726679), (1218, 0.012864731691934231), (1219, 0.007986170865803789), (1220, 0.0), (1221, 0.007401048291037692), (1222, 0.012601239316298715), (1223, 0.013537486684214199), (1224, 0.004905547559432969), (1225, 0.00939127516399616), (1226, 0.0), (1227, 0.004694622528787472), (1228, 0.00955295459422944), (1229, 0.0), (1230, 0.0), (1231, 0.013033719839804395), (1232, 0.004735642253967181), (1233, 0.0), (1234, 0.004976336460055941), (1235, 0.014598907104000833), (1236, 0.0), (1237, 0.0), (1238, 0.013508836376620665), (1239, 0.0), (1240, 0.024811488715290757), (1241, 0.0), (1242, 0.012442828400819473), (1243, 0.005125738141139423), (1244, 0.014029753095193831), (1245, 0.013071807381923468), (1246, 0.030807118636073196), (1247, 0.0), (1248, 0.0), (1249, 0.015765467719753803), (1250, 0.013744627940439519), (1251, 0.050992275946694914), (1252, 0.0), (1253, 0.013297133003917624), (1254, 0.05959735981635539), (1255, 0.03772069996512183), (1256, 0.01716971747633074), (1257, 0.0), (1258, 0.06089030046065247), (1259, 0.036285510942008964), (1260, 0.005242136680296412), (1261, 0.01760643386744397), (1262, 0.00887843700481544), (1263, 0.008778734524154123), (1264, 0.0), (1265, 0.0), (1266, 0.01816429771716542), (1267, 0.0045428990862597446), (1268, 0.012033991231749978), (1269, 0.00888780948695218), (1270, 0.0), (1271, 0.0), (1272, 0.00877129041564488), (1273, 0.008472352062322023), (1274, 0.0), (1275, 0.0), (1276, 0.0), (1277, 0.0035142283743930807), (1278, 0.013555723548466025), (1279, 0.0), (1280, 0.051753403481817103), (1281, 0.0), (1282, 0.005024021405859724), (1283, 0.01968787933830484), (1284, 0.004574628794481429), (1285, 0.0), (1286, 0.004607046330583087), (1287, 0.008576849101670087), (1288, 0.012375544830408577), (1289, 0.0038608835431170885), (1290, 0.0), (1291, 0.01392395115898993), (1292, 0.004621257685761143), (1293, 0.013073447211194501), (1294, 0.028688669926158594), (1295, 0.0), (1296, 0.0), (1297, 0.009406653113160284), (1298, 0.02522371771184495), (1299, 0.004933162067758694), (1300, 0.012710505526482152), (1301, 0.007777369325371705), (1302, 0.03590277797883687), (1303, 0.0), (1304, 0.004700952518713192), (1305, 0.0), (1306, 0.01910223972937858), (1307, 0.018100921708812397), (1308, 0.03433074016785341), (1309, 0.01566290713666443), (1310, 0.03377282350244241), (1311, 0.005272029941425807), (1312, 0.003965805249276383), (1313, 0.004630811650120934), (1314, 0.0), (1315, 0.008659020869664852), (1316, 0.0), (1317, 0.0038075690543528076), (1318, 0.027560795519104054), (1319, 0.0), (1320, 0.014275034144938411), (1321, 0.015653961930937314), (1322, 0.004783844890471525), (1323, 0.004037673663202244), (1324, 0.009495987866504779), (1325, 0.0), (1326, 0.011103397347188328), (1327, 0.02275944435002058), (1328, 0.02028359872649086), (1329, 0.009274851116161826), (1330, 0.004613161950799802), (1331, 0.004307360295356165), (1332, 0.01502495137721778), (1333, 0.025522984906688632), (1334, 0.031514498271199065), (1335, 0.0), (1336, 0.015783392423028113), (1337, 0.004795757035585389), (1338, 0.0), (1339, 0.0), (1340, 0.003990926649978832), (1341, 0.022231416447709207), (1342, 0.0), (1343, 0.0), (1344, 0.0038000262556489445), (1345, 0.004688973365487299), (1346, 0.022515390891635956), (1347, 0.0), (1348, 0.00409339782015175), (1349, 0.0), (1350, 0.008671486159815266), (1351, 0.0), (1352, 0.007561837075436889), (1353, 0.004369490476740794), (1354, 0.00821216314368027), (1355, 0.03360204078751534), (1356, 0.0), (1357, 0.0), (1358, 0.018956787480424037), (1359, 0.010099472151404177), (1360, 0.0), (1361, 0.015269244766157247), (1362, 0.0034922251983453977), (1363, 0.017258062225829082), (1364, 0.0048796471598721485), (1365, 0.0), (1366, 0.03572227823078584), (1367, 0.003924420723705057), (1368, 0.03610362785008908), (1369, 0.0), (1370, 0.024588807011161326), (1371, 0.07988957444836994), (1372, 0.00440831457442658), (1373, 0.03625176758797782), (1374, 0.031312276088203264), (1375, 0.0), (1376, 0.00446233134227161), (1377, 0.0), (1378, 0.013473874385667875), (1379, 0.011789212149901439), (1380, 0.043994038794763095), (1381, 0.01021575409037708), (1382, 0.004850638100452507), (1383, 0.0), (1384, 0.0497447423743873), (1385, 0.03689464388313636), (1386, 0.022760439905438867), (1387, 0.008036362609970994), (1388, 0.013660781487208812), (1389, 0.0360835675303041), (1390, 0.005055903969987225), (1391, 0.0), (1392, 0.020346247214721724), (1393, 0.0), (1394, 0.013317864929795309), (1395, 0.0), (1396, 0.050826701081638885), (1397, 0.011762147066363826), (1398, 0.010305298498001875), (1399, 0.043482271071532935), (1400, 0.014215028842694417), (1401, 0.01436257482341637), (1402, 0.0), (1403, 0.0036106092406483067), (1404, 0.0), (1405, 0.04055589748106799), (1406, 0.0), (1407, 0.0), (1408, 0.021917037170159956), (1409, 0.005027514913116534), (1410, 0.004749613243722036), (1411, 0.004643787200659566), (1412, 0.008473228753120145), (1413, 0.0), (1414, 0.042219895470690105), (1415, 0.0), (1416, 0.0), (1417, 0.0), (1418, 0.017208429908371042), (1419, 0.0), (1420, 0.06639013122818203), (1421, 0.0), (1422, 0.009151162747633869), (1423, 0.00916993490998554), (1424, 0.005365180353739027), (1425, 0.041948696463531866), (1426, 0.0), (1427, 0.0038522731143505067), (1428, 0.0), (1429, 0.0), (1430, 0.02997996429466307), (1431, 0.050429316156899225), (1432, 0.041329497943825996), (1433, 0.03148258837754743), (1434, 0.0), (1435, 0.0), (1436, 0.009419108223050645), (1437, 0.1277234126588111), (1438, 0.0), (1439, 0.0), (1440, 0.00903959423935764), (1441, 0.0050660261679320705), (1442, 0.030392744889213286), (1443, 0.0), (1444, 0.004676221682664957), (1445, 0.004910078911407465), (1446, 0.004503420844990154), (1447, 0.004635208222622022), (1448, 0.024212569503914972), (1449, 0.0), (1450, 0.0), (1451, 0.009705383525071032), (1452, 0.0), (1453, 0.0037811316615278165), (1454, 0.0), (1455, 0.0), (1456, 0.0), (1457, 0.0043764276547552), (1458, 0.007534557524809589), (1459, 0.00876260035499088), (1460, 0.02129371063419634), (1461, 0.0047519732854977275), (1462, 0.030096633857496006), (1463, 0.009962093900537221), (1464, 0.0), (1465, 0.0040742770436429125), (1466, 0.03814375951226309), (1467, 0.0106088044779595), (1468, 0.024009485977333843), (1469, 0.004865008648848242), (1470, 0.009214427769593565), (1471, 0.0), (1472, 0.0), (1473, 0.0047599383234768295), (1474, 0.021450638979899274), (1475, 0.009280346785614294), (1476, 0.00476111493687795), (1477, 0.013864730504067873), (1478, 0.0), (1479, 0.005154233207685275), (1480, 0.09444455487350831), (1481, 0.0), (1482, 0.013139066323135867), (1483, 0.0), (1484, 0.0), (1485, 0.004239842645505244), (1486, 0.005175378759147615), (1487, 0.014251891700391279), (1488, 0.009422412968344306), (1489, 0.005280538639746546), (1490, 0.012995711152309283), (1491, 0.005121202724111619), (1492, 0.0040668080907167265), (1493, 0.0), (1494, 0.004841269475893335), (1495, 0.038069674351913274), (1496, 0.023834604016441583), (1497, 0.0), (1498, 0.0), (1499, 0.0), (1500, 0.0), (1501, 0.004693442082065446), (1502, 0.0), (1503, 0.008071305108582807), (1504, 0.0), (1505, 0.015075326163042236), (1506, 0.03910771831658551), (1507, 0.005381514033113502), (1508, 0.00925603564423006), (1509, 0.020972208162989094), (1510, 0.013613929134330073), (1511, 0.014643490579299166), (1512, 0.013573168247371656), (1513, 0.015658682685998102), (1514, 0.008238667251480649), (1515, 0.05066159692417192), (1516, 0.004839724572194842), (1517, 0.0046787302279369765), (1518, 0.005061250636524072), (1519, 0.0), (1520, 0.016136365873327688), (1521, 0.020670959241440384), (1522, 0.019423275583183547), (1523, 0.012842082163512857), (1524, 0.013766948167551158), (1525, 0.029238650651674046), (1526, 0.004490772165734522), (1527, 0.0), (1528, 0.004268372698525384), (1529, 0.04743467285729089), (1530, 0.00729037026200353), (1531, 0.010917180654782291), (1532, 0.004460785893122016), (1533, 0.01844625772164595), (1534, 0.0), (1535, 0.0), (1536, 0.0), (1537, 0.02715573720686177), (1538, 0.0), (1539, 0.029618785771390807), (1540, 0.0), (1541, 0.010082005157900078), (1542, 0.004865513693298401), (1543, 0.0043296173334524), (1544, 0.004511150248026329), (1545, 0.00450641185847792), (1546, 0.0), (1547, 0.010368275007594581), (1548, 0.04153475841497135), (1549, 0.004635560909002932), (1550, 0.0), (1551, 0.0), (1552, 0.12056391656436262), (1553, 0.028455528043937688), (1554, 0.009801307000251464), (1555, 0.04927006650000419), (1556, 0.0), (1557, 0.015446093843093419), (1558, 0.0), (1559, 0.0), (1560, 0.005295640731929667), (1561, 0.04267582530560867), (1562, 0.0), (1563, 0.010211124386229174), (1564, 0.0048129635298441685), (1565, 0.011526750839409414), (1566, 0.008909313325203635), (1567, 0.012320971440773435), (1568, 0.0), (1569, 0.016327469365057235), (1570, 0.009362162031737054), (1571, 0.003885283434966365), (1572, 0.014472660475393284), (1573, 0.0), (1574, 0.0), (1575, 0.028056876804237563), (1576, 0.0), (1577, 0.013720293301377057), (1578, 0.040917313031276936), (1579, 0.008367758668123643), (1580, 0.04380701210090392), (1581, 0.024743102797803944), (1582, 0.004511611084120314), (1583, 0.005148506717064057), (1584, 0.0), (1585, 0.009617811561291108), (1586, 0.0037544184974599307), (1587, 0.013845222173820188), (1588, 0.04148075134340293), (1589, 0.004603348576980875), (1590, 0.029504115187332865), (1591, 0.03236577317440771), (1592, 0.0177492001624064), (1593, 0.0), (1594, 0.005261548469708005), (1595, 0.0), (1596, 0.00499189103173248), (1597, 0.004526875057004975), (1598, 0.023626302531251732), (1599, 0.004758033110054877), (1600, 0.04491249212690919), (1601, 0.03321443213577161), (1602, 0.0155960173126817), (1603, 0.023493955901365007), (1604, 0.032440974898487025), (1605, 0.0), (1606, 0.009611890590617041), (1607, 0.018731281177165583), (1608, 0.0), (1609, 0.005014852938129876), (1610, 0.026402796597028946), (1611, 0.013745642069903176), (1612, 0.03369742896412191), (1613, 0.02966227883676127), (1614, 0.0330597351525074), (1615, 1.0000000000000002), (1616, 0.02783134080619376), (1617, 0.0), (1618, 0.004550360549822036), (1619, 0.0), (1620, 0.0), (1621, 0.0), (1622, 0.04841096249067486), (1623, 0.0), (1624, 0.0), (1625, 0.0), (1626, 0.004258132928974662), (1627, 0.011527364170915622), (1628, 0.02557057968492082), (1629, 0.0), (1630, 0.026516680747484266), (1631, 0.0467244027123518), (1632, 0.04721847875249961), (1633, 0.06629155481214284), (1634, 0.009315329914491055), (1635, 0.0), (1636, 0.0), (1637, 0.005040855146731846), (1638, 0.004681164394200395), (1639, 0.003978335650662376), (1640, 0.025850266508020556), (1641, 0.0), (1642, 0.004349351734289846), (1643, 0.0), (1644, 0.004694078576301167), (1645, 0.00860002017472058), (1646, 0.030182659527050383), (1647, 0.0), (1648, 0.0), (1649, 0.020864307506876685), (1650, 0.016509625517291716), (1651, 0.0), (1652, 0.016129904954996516), (1653, 0.0), (1654, 0.004485736276555754), (1655, 0.0), (1656, 0.04058428966659234), (1657, 0.0), (1658, 0.005202859644928574), (1659, 0.0360693546465615), (1660, 0.0049100719654670884), (1661, 0.0), (1662, 0.0), (1663, 0.014161063502424276), (1664, 0.030988811494892368), (1665, 0.026166211527921444), (1666, 0.0), (1667, 0.0), (1668, 0.03556811253769849), (1669, 0.0165926131562805), (1670, 0.04318632037969004), (1671, 0.0), (1672, 0.0), (1673, 0.004374936551885585), (1674, 0.0), (1675, 0.008109846181734678), (1676, 0.012002199430847163), (1677, 0.03493041288150159), (1678, 0.0), (1679, 0.005091822025483462), (1680, 0.0), (1681, 0.0), (1682, 0.0), (1683, 0.03051593257796191), (1684, 0.02497975209226975), (1685, 0.0), (1686, 0.009101123910409258), (1687, 0.0), (1688, 0.03609644850187075), (1689, 0.004930469970677801), (1690, 0.01777713119024411), (1691, 0.06138483065681358), (1692, 0.0), (1693, 0.004412328001020334), (1694, 0.004172415031029852), (1695, 0.012166747887431613), (1696, 0.0), (1697, 0.047680216889975195), (1698, 0.004059190268886864), (1699, 0.0), (1700, 0.03129388174084038), (1701, 0.0), (1702, 0.004884360468369487), (1703, 0.0), (1704, 0.010532485954112618), (1705, 0.009532748437231444), (1706, 0.019409773462030655), (1707, 0.0), (1708, 0.0), (1709, 0.00440550477499049), (1710, 0.0), (1711, 0.012957092961572866), (1712, 0.0), (1713, 0.021841413818636933), (1714, 0.0137432374762264), (1715, 0.008417711966195422), (1716, 0.0), (1717, 0.0), (1718, 0.00492583516917827), (1719, 0.04006986946103882), (1720, 0.010291138439003119), (1721, 0.004397442954995029), (1722, 0.004745554754361832), (1723, 0.0), (1724, 0.0), (1725, 0.009841589541279625), (1726, 0.029263288259838975), (1727, 0.032130945641958), (1728, 0.0), (1729, 0.004280189700285345), (1730, 0.029394697576506913), (1731, 0.025659998489875768), (1732, 0.019435661745389927), (1733, 0.005152691219552319), (1734, 0.004924084014823073), (1735, 0.004846323513258238), (1736, 0.0), (1737, 0.005012863437697582), (1738, 0.012912316699534136), (1739, 0.0), (1740, 0.0), (1741, 0.004737413398391519), (1742, 0.0), (1743, 0.0), (1744, 0.01434005300922739), (1745, 0.007619560591541078), (1746, 0.0043858792817816), (1747, 0.0), (1748, 0.0), (1749, 0.0), (1750, 0.016251533681089614), (1751, 0.004754620925264543), (1752, 0.003885383537605594), (1753, 0.042332145570591), (1754, 0.0), (1755, 0.018303373665102624), (1756, 0.04644128638695744), (1757, 0.004629393296308065), (1758, 0.027676198151894326), (1759, 0.008880527837599088), (1760, 0.0), (1761, 0.0), (1762, 0.0), (1763, 0.02761034971617125), (1764, 0.03043033289666698), (1765, 0.004860409326202222), (1766, 0.04550382151368134), (1767, 0.00451434890641667), (1768, 0.0), (1769, 0.015190216257280889), (1770, 0.0), (1771, 0.027802408844865924), (1772, 0.007724977519185505), (1773, 0.0), (1774, 0.020007778773731857), (1775, 0.0), (1776, 0.0), (1777, 0.004827943363074989), (1778, 0.004377181952960626), (1779, 0.0), (1780, 0.0), (1781, 0.003998543715373484), (1782, 0.0), (1783, 0.01414365399572955), (1784, 0.03527722965295067), (1785, 0.004446775880814122), (1786, 0.040629364536394735), (1787, 0.004450951910975998), (1788, 0.04744020658345589), (1789, 0.008220380278962281), (1790, 0.0440376283517872), (1791, 0.005002949461926516), (1792, 0.005522602053572594), (1793, 0.030219360485933513), (1794, 0.004300092087849463), (1795, 0.0), (1796, 0.0), (1797, 0.011924421125203158), (1798, 0.019113591806866753), (1799, 0.0), (1800, 0.009245593075932833), (1801, 0.0), (1802, 0.00758227031938251), (1803, 0.010264338328226678), (1804, 0.028603696508065716), (1805, 0.0), (1806, 0.005130471950432158), (1807, 0.0331927577581504), (1808, 0.0), (1809, 0.008045316878933721), (1810, 0.018389294678891985), (1811, 0.0), (1812, 0.009509657957620939), (1813, 0.0), (1814, 0.0), (1815, 0.032350119738821244), (1816, 0.008472347817776624), (1817, 0.0), (1818, 0.02928468010705145), (1819, 0.0), (1820, 0.03397710670970447), (1821, 0.039364127432445), (1822, 0.004960777078727279), (1823, 0.0), (1824, 0.0044173505509188735), (1825, 0.0), (1826, 0.0), (1827, 0.004249573693067449), (1828, 0.0), (1829, 0.0), (1830, 0.013319145711320216), (1831, 0.07850599081551259), (1832, 0.0), (1833, 0.011646848100567573), (1834, 0.004658824253353154), (1835, 0.0), (1836, 0.02019063052581005), (1837, 0.014884278887405705), (1838, 0.02827762258822208), (1839, 0.014354930243825993), (1840, 0.0), (1841, 0.0340312054167244), (1842, 0.12824039515277197), (1843, 0.05010067084667068), (1844, 0.03762068792272021), (1845, 0.0), (1846, 0.008672077944332642), (1847, 0.04096509444673599), (1848, 0.005058849944523004), (1849, 0.014798102695335429), (1850, 0.029555746647742968), (1851, 0.033986756234051806), (1852, 0.042002652221564615), (1853, 0.0), (1854, 0.00986505107654348), (1855, 0.02533547583456646), (1856, 0.004997655808094131), (1857, 0.0), (1858, 0.0), (1859, 0.0), (1860, 0.0), (1861, 0.007124192618439396), (1862, 0.0), (1863, 0.008923523146144145), (1864, 0.0), (1865, 0.0), (1866, 0.0), (1867, 0.060838230933345), (1868, 0.008802374787955548), (1869, 0.0), (1870, 0.004200218413895587), (1871, 0.035337864392603446), (1872, 0.0), (1873, 0.0), (1874, 0.0), (1875, 0.009488251864100072), (1876, 0.0), (1877, 0.004484355925100579), (1878, 0.014272577308034086), (1879, 0.004754274706230297), (1880, 0.004581807242148847), (1881, 0.004915274345142196), (1882, 0.0), (1883, 0.03676925284095932), (1884, 0.0), (1885, 0.0), (1886, 0.007075633902452023), (1887, 0.0), (1888, 0.04359222529327686), (1889, 0.02429888852279138), (1890, 0.0), (1891, 0.0), (1892, 0.0), (1893, 0.009913154424478255), (1894, 0.00964671860220956), (1895, 0.04576241489872538), (1896, 0.0), (1897, 0.0), (1898, 0.05950105665261221), (1899, 0.0043809843299329665), (1900, 0.004524409792294673), (1901, 0.009123484659505885), (1902, 0.004939547474451627), (1903, 0.017010888817453256), (1904, 0.009414438325131625), (1905, 0.005123420437899154), (1906, 0.004715333577322412), (1907, 0.047791084233730866), (1908, 0.02250647136337287), (1909, 0.0), (1910, 0.0), (1911, 0.0248547433003153), (1912, 0.10791619892106852), (1913, 0.028141952167479965), (1914, 0.004416597200826233), (1915, 0.00446916566556656), (1916, 0.0), (1917, 0.0048239426485271525), (1918, 0.0), (1919, 0.003284590070568829), (1920, 0.0), (1921, 0.0), (1922, 0.0), (1923, 0.03625594100663144), (1924, 0.0), (1925, 0.0), (1926, 0.028782390329916148), (1927, 0.0), (1928, 0.09721384780878192), (1929, 0.004480035285956705), (1930, 0.0), (1931, 0.009095496460291686), (1932, 0.03397568245308459), (1933, 0.0), (1934, 0.015897487452476183), (1935, 0.008531299882893606), (1936, 0.019658575729876747), (1937, 0.0), (1938, 0.030799931150278126), (1939, 0.018050821679016102), (1940, 0.0), (1941, 0.005624602495503021), (1942, 0.0), (1943, 0.024821474601763413), (1944, 0.003903079070535983), (1945, 0.03537253395097929), (1946, 0.0), (1947, 0.0054553664483565495), (1948, 0.006099932173535071), (1949, 0.004871954969537518), (1950, 0.0), (1951, 0.009971885645761692), (1952, 0.0), (1953, 0.03188212995061898), (1954, 0.03272372580327643), (1955, 0.03930524528772983), (1956, 0.10500697639725415), (1957, 0.0039480270647087165), (1958, 0.01054652373670282), (1959, 0.0), (1960, 0.0), (1961, 0.024656386449981967), (1962, 0.0), (1963, 0.0038021628242120207), (1964, 0.0), (1965, 0.06482744697256475), (1966, 0.0), (1967, 0.0), (1968, 0.015836733607296195), (1969, 0.031115228081235142), (1970, 0.0), (1971, 0.029646884061215354), (1972, 0.0), (1973, 0.004420786292784694), (1974, 0.004294672640858404), (1975, 0.0), (1976, 0.0), (1977, 0.0), (1978, 0.004188482732518869), (1979, 0.009507113924519594), (1980, 0.0042150202841184006), (1981, 0.029561839269767916), (1982, 0.024810133083838247), (1983, 0.0), (1984, 0.004319251722222631), (1985, 0.0), (1986, 0.03923944110074221), (1987, 0.012485299966355008), (1988, 0.0), (1989, 0.031807390201120306), (1990, 0.012285901706457377), (1991, 0.0), (1992, 0.004390331175640404), (1993, 0.012875465853566288), (1994, 0.004181325588492346), (1995, 0.0), (1996, 0.0), (1997, 0.0333537601819959), (1998, 0.013648043375800164), (1999, 0.027035835084640962), (2000, 0.0), (2001, 0.004046621709379121), (2002, 0.004918551466064935), (2003, 0.004540062465458935), (2004, 0.0), (2005, 0.004225639312975675), (2006, 0.02041136031402462), (2007, 0.0042894628960241776), (2008, 0.0), (2009, 0.005565899073756933), (2010, 0.007030168716294303), (2011, 0.0), (2012, 0.040709281368303346), (2013, 0.029358731005824153), (2014, 0.04831660497401151), (2015, 0.00929558837928893), (2016, 0.05345885769196467), (2017, 0.0), (2018, 0.014832516813708754), (2019, 0.03716265096371954), (2020, 0.0), (2021, 0.005086785153283133), (2022, 0.0), (2023, 0.0), (2024, 0.0), (2025, 0.0038765943749398866), (2026, 0.004695655295617646), (2027, 0.0), (2028, 0.0072306961410697765), (2029, 0.0), (2030, 0.010544444298968269), (2031, 0.0), (2032, 0.011013814897140076), (2033, 0.016540987530749306), (2034, 0.007334254534160608), (2035, 0.0), (2036, 0.0042778904681219365), (2037, 0.0), (2038, 0.0), (2039, 0.02350736016287343), (2040, 0.0), (2041, 0.050717418609127), (2042, 0.004903770202298432), (2043, 0.004255542940767018), (2044, 0.0), (2045, 0.00904708360676368), (2046, 0.015013075974205474), (2047, 0.06079372998514654), (2048, 0.009162599364137144), (2049, 0.016571750805604538), (2050, 0.022821677169142844), (2051, 0.0), (2052, 0.014018630611429477), (2053, 0.0), (2054, 0.0), (2055, 0.06139292925254233), (2056, 0.004528512279679672), (2057, 0.0477603679052084), (2058, 0.004240813483577936), (2059, 0.004098507861363814), (2060, 0.004651672462766307), (2061, 0.0), (2062, 0.013057673682671895), (2063, 0.004260426510695926), (2064, 0.003461386947193525), (2065, 0.007997888063064222), (2066, 0.010014500025331198), (2067, 0.008955687789434088), (2068, 0.004465520976073888), (2069, 0.0750867797651358), (2070, 0.0), (2071, 0.004371879832972539), (2072, 0.027152711128159323), (2073, 0.013743793673447422), (2074, 0.01190503828307316), (2075, 0.011664507480222405), (2076, 0.0039634623407751104), (2077, 0.005731188723190474), (2078, 0.0), (2079, 0.005364637183948112), (2080, 0.0), (2081, 0.030935957566095393), (2082, 0.016307348406389824), (2083, 0.0), (2084, 0.0), (2085, 0.0), (2086, 0.030372345171713073), (2087, 0.014702172644886494), (2088, 0.0), (2089, 0.0), (2090, 0.004904613882709906), (2091, 0.0), (2092, 0.004827538373768019), (2093, 0.012579450570453054), (2094, 0.012761140498515677), (2095, 0.027173707073734565), (2096, 0.0), (2097, 0.0), (2098, 0.004019796887901734), (2099, 0.05115630359135578), (2100, 0.04443021323879105), (2101, 0.005142609756208255), (2102, 0.013183392169645675), (2103, 0.04272683319838262), (2104, 0.0), (2105, 0.0), (2106, 0.009716127166554156), (2107, 0.0044763147888072265), (2108, 0.005215966299006988), (2109, 0.0), (2110, 0.0), (2111, 0.019327529958006164), (2112, 0.0), (2113, 0.0036774315950788322), (2114, 0.011353034724449637), (2115, 0.0), (2116, 0.005071971510489703), (2117, 0.018450074455114793), (2118, 0.0), (2119, 0.0), (2120, 0.024417630562373043), (2121, 0.0), (2122, 0.004744153662287978), (2123, 0.0), (2124, 0.00503629159469422), (2125, 0.02188970276024852), (2126, 0.0), (2127, 0.007473313134917488), (2128, 0.004621190367336407), (2129, 0.0), (2130, 0.008998721485740793), (2131, 0.004514421997108924), (2132, 0.0), (2133, 0.026432989069136433), (2134, 0.0), (2135, 0.009422353647179664), (2136, 0.054550923820949365), (2137, 0.006660563308419282), (2138, 0.040120615436011794), (2139, 0.008354997083475459), (2140, 0.0044684011445378004), (2141, 0.0), (2142, 0.0), (2143, 0.02954641896995199), (2144, 0.0), (2145, 0.008347267947301461), (2146, 0.004016072244531171), (2147, 0.004988092971904906), (2148, 0.009741781327226145), (2149, 0.0), (2150, 0.023177247744822528), (2151, 0.010020862258449286), (2152, 0.0), (2153, 0.024064798779893017), (2154, 0.013234756162111677), (2155, 0.0), (2156, 0.004184567882753361), (2157, 0.003951539271309085), (2158, 0.03603174970809263), (2159, 0.0), (2160, 0.004422068356231102), (2161, 0.004184422984669609), (2162, 0.0), (2163, 0.0), (2164, 0.015224153731844353), (2165, 0.0), (2166, 0.004425805004193947), (2167, 0.004515766570510854), (2168, 0.0040214028776367605), (2169, 0.0), (2170, 0.01700576867911928), (2171, 0.02077937493781158), (2172, 0.009116475649821511), (2173, 0.0), (2174, 0.0), (2175, 0.0), (2176, 0.011406158472771884), (2177, 0.007653222001190977), (2178, 0.0), (2179, 0.0044147083654708106), (2180, 0.0), (2181, 0.0), (2182, 0.0), (2183, 0.03177581008280547), (2184, 0.0), (2185, 0.05913452957011579), (2186, 0.00532662710091218), (2187, 0.005393446578440637), (2188, 0.0), (2189, 0.04309372175186022), (2190, 0.0), (2191, 0.0), (2192, 0.03564841378073239), (2193, 0.004742139697594543), (2194, 0.004873977367652611), (2195, 0.0), (2196, 0.010926501663418351), (2197, 0.0), (2198, 0.041701382224663644), (2199, 0.01956720320744567), (2200, 0.0048022994685506006), (2201, 0.013983287442938079), (2202, 0.008854437415345024), (2203, 0.028277767822407998), (2204, 0.003983703860885437), (2205, 0.0), (2206, 0.0), (2207, 0.01376176804718562), (2208, 0.014415995731716534), (2209, 0.005231801264407965), (2210, 0.02101054648028342), (2211, 0.015237239273088034), (2212, 0.0), (2213, 0.0), (2214, 0.0), (2215, 0.004410988526699209), (2216, 0.041743815613920425), (2217, 0.004919693169043474), (2218, 0.12531061451150816), (2219, 0.032766192774045515), (2220, 0.0), (2221, 0.0), (2222, 0.0048540281390077), (2223, 0.017091289472025914), (2224, 0.0), (2225, 0.004304316337220045), (2226, 0.0), (2227, 0.0039049519478012934), (2228, 0.1112921578910245), (2229, 0.0), (2230, 0.0), (2231, 0.03562958369860172), (2232, 0.0), (2233, 0.009769275948163975), (2234, 0.009653157214061677), (2235, 0.03313077590278206), (2236, 0.04537994564876588), (2237, 0.007811509373204629), (2238, 0.0), (2239, 0.0), (2240, 0.004123950145134099), (2241, 0.004886772290670029), (2242, 0.017284520451122564), (2243, 0.0), (2244, 0.0), (2245, 0.0), (2246, 0.0), (2247, 0.0), (2248, 0.0), (2249, 0.014224250062484432), (2250, 0.0), (2251, 0.0), (2252, 0.0), (2253, 0.0), (2254, 0.0), (2255, 0.0), (2256, 0.0), (2257, 0.013302814209675726), (2258, 0.04005798609420112), (2259, 0.04326918958299814), (2260, 0.016080178421228712), (2261, 0.05545816402040341), (2262, 0.013542310288757449), (2263, 0.011089421586532063), (2264, 0.004174988180176173), (2265, 0.025888442490877888), (2266, 0.0), (2267, 0.011781150239088373), (2268, 0.0), (2269, 0.02764321831201885), (2270, 0.004060357767572856), (2271, 0.004447389526122537), (2272, 0.0043650267856504025), (2273, 0.0), (2274, 0.00432400579248694), (2275, 0.0), (2276, 0.0), (2277, 0.00902401432648724), (2278, 0.0), (2279, 0.0314149299696072), (2280, 0.004655218714708034), (2281, 0.01994253377621088), (2282, 0.00603780680622637), (2283, 0.034868798621588606), (2284, 0.032821664652137914), (2285, 0.016020714214513055), (2286, 0.01723368888833976), (2287, 0.01485397046412652), (2288, 0.0), (2289, 0.0), (2290, 0.015339379693150693), (2291, 0.0), (2292, 0.03820595625384018), (2293, 0.0), (2294, 0.0), (2295, 0.028390450318076448), (2296, 0.020105327136645788), (2297, 0.017824515298221225), (2298, 0.013421969388906711), (2299, 0.0), (2300, 0.0), (2301, 0.009451543531457007), (2302, 0.005337682059886082), (2303, 0.004432156923603302), (2304, 0.010501370230187972), (2305, 0.005374766631306874), (2306, 0.0), (2307, 0.004820313359960133), (2308, 0.005881140776629457), (2309, 0.03381477760890666), (2310, 0.0), (2311, 0.004420638107039637), (2312, 0.006765715697136097), (2313, 0.0), (2314, 0.0), (2315, 0.036571081439861465), (2316, 0.030137853186901833), (2317, 0.0), (2318, 0.0), (2319, 0.010733773517803925), (2320, 0.005463148743257759), (2321, 0.0), (2322, 0.03784339308344421), (2323, 0.0), (2324, 0.011485853791159944), (2325, 0.004878570429915979), (2326, 0.0), (2327, 0.014014827412834193), (2328, 0.0), (2329, 0.023475778644164048), (2330, 0.05836320172731426), (2331, 0.020811006785764558), (2332, 0.019821445380787762), (2333, 0.0055942343251681155), (2334, 0.0), (2335, 0.033510023646735866), (2336, 0.03945421314790314), (2337, 0.020364168560939745), (2338, 0.0), (2339, 0.005337445980786417), (2340, 0.004711032724220087), (2341, 0.0), (2342, 0.0), (2343, 0.0), (2344, 0.0), (2345, 0.03200348550536768), (2346, 0.0), (2347, 0.0), (2348, 0.004426442102208926), (2349, 0.0), (2350, 0.04348404524948788), (2351, 0.0545855498558327), (2352, 0.016438401740552475), (2353, 0.014003945737449057), (2354, 0.0), (2355, 0.0), (2356, 0.00995162848315617), (2357, 0.005335004554726709), (2358, 0.014888720485102865), (2359, 0.0), (2360, 0.004153205238902092), (2361, 0.0), (2362, 0.0), (2363, 0.005807477770403909), (2364, 0.019243390622073447), (2365, 0.026149532646920458), (2366, 0.0041675760258751355), (2367, 0.05516042051632798), (2368, 0.0056010639761148815), (2369, 0.0), (2370, 0.0), (2371, 0.030891709203890654), (2372, 0.055633961320039345), (2373, 0.003919124891803727), (2374, 0.0), (2375, 0.0051627396063751016), (2376, 0.021051684431652538), (2377, 0.0037304616747078734), (2378, 0.0), (2379, 0.02169373561670366), (2380, 0.03702671837685808), (2381, 0.026684778233658606), (2382, 0.0), (2383, 0.0364844082920516), (2384, 0.12532204310374198), (2385, 0.004949639648095982), (2386, 0.0), (2387, 0.004689171708552831), (2388, 0.0), (2389, 0.03337795035544199), (2390, 0.01132693706034418), (2391, 0.005019201432424375), (2392, 0.0), (2393, 0.011026522661247299), (2394, 0.004951763290784228), (2395, 0.006500482109430254), (2396, 0.035720437542107006), (2397, 0.004779425851221436), (2398, 0.0), (2399, 0.004337904815365012), (2400, 0.0), (2401, 0.01004173514311984), (2402, 0.004255872859596983), (2403, 0.005416310528648151), (2404, 0.006391836052715783), (2405, 0.0), (2406, 0.0), (2407, 0.0), (2408, 0.010231384802197511), (2409, 0.004475804323373176), (2410, 0.005155372765590433), (2411, 0.0205912363344969), (2412, 0.04209256035582691), (2413, 0.009337872167099692), (2414, 0.01938874058995791), (2415, 0.0), (2416, 0.030256506741658494), (2417, 0.0), (2418, 0.0), (2419, 0.01085526729482765), (2420, 0.005263902329015256), (2421, 0.02866801042263457), (2422, 0.004561707248789507), (2423, 0.01894380684502684), (2424, 0.004259541081787942), (2425, 0.0), (2426, 0.012259634759394964), (2427, 0.010340487211467643), (2428, 0.009824301767521535), (2429, 0.0), (2430, 0.010483043065055054), (2431, 0.004836622235421768), (2432, 0.0), (2433, 0.020959193492278653), (2434, 0.0390271242246058), (2435, 0.014843483877315378), (2436, 0.005252353132796955), (2437, 0.015306500955006401), (2438, 0.0), (2439, 0.003858264337084022), (2440, 0.04674558534470511), (2441, 0.0038054501856356563), (2442, 0.008279207468459903), (2443, 0.05518279535621809), (2444, 0.01387409619535412), (2445, 0.004325296386375864), (2446, 0.004364773530343106), (2447, 0.0), (2448, 0.013493851329825439), (2449, 0.015129164661373417), (2450, 0.022249371760938448), (2451, 0.020658252631194387), (2452, 0.005155569369338206), (2453, 0.025684949564624457), (2454, 0.0), (2455, 0.00596476397745118), (2456, 0.029432968268480027), (2457, 0.0), (2458, 0.005121262531861261), (2459, 0.0), (2460, 0.004095456918227352), (2461, 0.014574622059950013), (2462, 0.011070731052186472), (2463, 0.031692570360121484), (2464, 0.005153977638922005), (2465, 0.004529191308873709), (2466, 0.010611247518088337), (2467, 0.004533980487542779), (2468, 0.005490802203786161), (2469, 0.020516040102328246), (2470, 0.0), (2471, 0.0), (2472, 0.02257513057482744), (2473, 0.01831842070131833), (2474, 0.03366524263666324), (2475, 0.0), (2476, 0.0), (2477, 0.028311283472238685), (2478, 0.0053947620367230005), (2479, 0.015188475874567113), (2480, 0.0), (2481, 0.0), (2482, 0.0), (2483, 0.052325699081579295), (2484, 0.013815156399586746), (2485, 0.011563510838242587), (2486, 0.005365461264109363), (2487, 0.004762615798825524), (2488, 0.005743172632756015), (2489, 0.04045778697590754), (2490, 0.05324422433985301), (2491, 0.03658149558395082), (2492, 0.004728803028311156), (2493, 0.005186525378950445), (2494, 0.005066600522335735), (2495, 0.004698975577884269), (2496, 0.0), (2497, 0.016794911168444053), (2498, 0.08108314074611656), (2499, 0.00999305647787837), (2500, 0.025371646290523596), (2501, 0.03979195476188568), (2502, 0.027085723223061086), (2503, 0.0), (2504, 0.023368036368158547), (2505, 0.0), (2506, 0.00893107112293396), (2507, 0.05000134324268693), (2508, 0.003889843881247386), (2509, 0.0038618504115236064), (2510, 0.0053870011531185775), (2511, 0.03888248722013063), (2512, 0.013503956220244244), (2513, 0.01250704783614171), (2514, 0.004222018620459931), (2515, 0.005834365540670316), (2516, 0.015927148886354013), (2517, 0.02264167290885804), (2518, 0.005305155587825565), (2519, 0.004847400202861024), (2520, 0.028444871927997228), (2521, 0.013451870343547924), (2522, 0.009487683351858128), (2523, 0.008122327521779433), (2524, 0.0), (2525, 0.009729462019640466), (2526, 0.0), (2527, 0.052301671749544774), (2528, 0.0), (2529, 0.0068216844042792305), (2530, 0.024447005487403202), (2531, 0.01566585343579735), (2532, 0.03693866777688046), (2533, 0.09968748587193207), (2534, 0.0), (2535, 0.005208560354722414), (2536, 0.006138812533184474), (2537, 0.006446647425858872), (2538, 0.0), (2539, 0.02077695449970833), (2540, 0.0), (2541, 0.0), (2542, 0.004253502724622736), (2543, 0.005896641632750838), (2544, 0.008625955324315733), (2545, 0.0), (2546, 0.004892141288021356), (2547, 0.044561787398339076), (2548, 0.028554788747965208), (2549, 0.02849758484131788), (2550, 0.020897549390755374), (2551, 0.013820116391513622), (2552, 0.0), (2553, 0.03451051410446609), (2554, 0.024144786510596244), (2555, 0.021872866917194277), (2556, 0.0), (2557, 0.0), (2558, 0.0), (2559, 0.011702497967243928), (2560, 0.03007459656026854), (2561, 0.004902767215674618), (2562, 0.014482238664316721), (2563, 0.0), (2564, 0.005838212899604562), (2565, 0.07070566514058706), (2566, 0.009936527565554392), (2567, 0.01056392205040016), (2568, 0.012636899849789216), (2569, 0.013439963143817284), (2570, 0.005531037136093428), (2571, 0.0), (2572, 0.0), (2573, 0.0), (2574, 0.0765828280221295), (2575, 0.014866285917257409), (2576, 0.0), (2577, 0.03232664141623754), (2578, 0.0), (2579, 0.01158160760219448), (2580, 0.0), (2581, 0.05548189643965162), (2582, 0.015335138698993288), (2583, 0.010360714926610752), (2584, 0.03461001022695182), (2585, 0.034174990582631896), (2586, 0.004761423631371278), (2587, 0.008340739834860736), (2588, 0.005033617914420616), (2589, 0.03187150772946552), (2590, 0.03483368303793821), (2591, 0.01348584872741155), (2592, 0.028079844487784052), (2593, 0.009532897455717173), (2594, 0.03057749267516555), (2595, 0.0), (2596, 0.0), (2597, 0.06100167445370148), (2598, 0.0), (2599, 0.0), (2600, 0.0059288933161779815), (2601, 0.004900983865600026), (2602, 0.0), (2603, 0.012624896515443788), (2604, 0.016358668773024904), (2605, 0.014198562259887523), (2606, 0.0), (2607, 0.0), (2608, 0.008232053821984739), (2609, 0.06931002786042281), (2610, 0.00993281467617215), (2611, 0.0), (2612, 0.00997893498758997), (2613, 0.0), (2614, 0.011219124516995254), (2615, 0.03183113159772137), (2616, 0.036586827875306066), (2617, 0.00910965096715389), (2618, 0.0), (2619, 0.011318478557632126), (2620, 0.004484297295920483), (2621, 0.0), (2622, 0.0), (2623, 0.0), (2624, 0.03590435465449548), (2625, 0.0), (2626, 0.005157597718783331), (2627, 0.0), (2628, 0.0), (2629, 0.03172345930921272), (2630, 0.0), (2631, 0.0044627818447461436), (2632, 0.0), (2633, 0.004933592988002167), (2634, 0.0), (2635, 0.04147753492517628), (2636, 0.0), (2637, 0.025696589881602287), (2638, 0.0), (2639, 0.004610782260780146), (2640, 0.009314430446403154), (2641, 0.02145293978248694), (2642, 0.013104513740191098), (2643, 0.01336296273007789), (2644, 0.00447155804661966), (2645, 0.0), (2646, 0.026383917960977922), (2647, 0.009016365723194595), (2648, 0.004845744903082236), (2649, 0.0), (2650, 0.045893786859711884), (2651, 0.0), (2652, 0.02407890525080842), (2653, 0.0045348491131759995), (2654, 0.0217064206213912), (2655, 0.0), (2656, 0.018979078521633812), (2657, 0.006883629483254156), (2658, 0.0), (2659, 0.006769216588592463), (2660, 0.0), (2661, 0.005044807697614079), (2662, 0.010358883048425369), (2663, 0.00918864170536118), (2664, 0.0), (2665, 0.08799472185147086), (2666, 0.013818305244120664), (2667, 0.006403582722800736), (2668, 0.010631298272865533), (2669, 0.05547562184118032), (2670, 0.0), (2671, 0.0034516227007748393), (2672, 0.041941076719954236), (2673, 0.0), (2674, 0.0), (2675, 0.004926338477271626), (2676, 0.0053887396933101055), (2677, 0.004578728169554442), (2678, 0.007653466139053596), (2679, 0.0), (2680, 0.040828217006324864), (2681, 0.00451797851337267), (2682, 0.012581666811394603), (2683, 0.04446792474060362), (2684, 0.0068054998442574855), (2685, 0.004769245705442055), (2686, 0.0), (2687, 0.004623457879921541), (2688, 0.032103175637717266), (2689, 0.0), (2690, 0.00446251870321674), (2691, 0.023291572738382102), (2692, 0.0), (2693, 0.004542854206918373), (2694, 0.0), (2695, 0.0), (2696, 0.005462859029429293), (2697, 0.0), (2698, 0.0), (2699, 0.004384229688383141), (2700, 0.0), (2701, 0.007605739013993304), (2702, 0.005371070465621935), (2703, 0.11556670904946786), (2704, 0.011013483582688865), (2705, 0.0), (2706, 0.004467695745682322), (2707, 0.0104480978372107), (2708, 0.02427742443916102), (2709, 0.004701434487431152), (2710, 0.02162685919995461), (2711, 0.0), (2712, 0.005021064021095939), (2713, 0.008720971020665332), (2714, 0.014272002752203385), (2715, 0.03565900218223663), (2716, 0.0), (2717, 0.011303815933586947), (2718, 0.007768666459228724), (2719, 0.0328952055327185), (2720, 0.00550779623352541), (2721, 0.013061365511604459), (2722, 0.0065971404841666265), (2723, 0.0), (2724, 0.0), (2725, 0.009520561212398316), (2726, 0.04358692849277428), (2727, 0.00565227338416504), (2728, 0.004277511911163019), (2729, 0.044934747881262185), (2730, 0.005773992818958364), (2731, 0.006308035043748961), (2732, 0.009585398335379386), (2733, 0.014979948170337723), (2734, 0.003735094010755813), (2735, 0.0), (2736, 0.0), (2737, 0.007857276910556099), (2738, 0.005545776513990317), (2739, 0.0), (2740, 0.020046527857616705), (2741, 0.0215498843780236), (2742, 0.024329102781790363), (2743, 0.0), (2744, 0.05918547349765186), (2745, 0.0), (2746, 0.01848963400912248), (2747, 0.00814395731100581), (2748, 0.005110193560601242), (2749, 0.00810185075812821), (2750, 0.0), (2751, 0.0), (2752, 0.0478531954827376), (2753, 0.0), (2754, 0.03711199626305674), (2755, 0.014382457532032008), (2756, 0.018095717722544567), (2757, 0.0), (2758, 0.024219364920156174), (2759, 0.0), (2760, 0.037207852010736106), (2761, 0.0), (2762, 0.0), (2763, 0.023373898368862146), (2764, 0.0066951787766324185), (2765, 0.0), (2766, 0.035049773512529456), (2767, 0.025154367119346766), (2768, 0.0), (2769, 0.0055468215768926625), (2770, 0.0780882788944845), (2771, 0.0), (2772, 0.012239537466405244), (2773, 0.0), (2774, 0.03790950175559525), (2775, 0.0), (2776, 0.010122704900921311), (2777, 0.0), (2778, 0.0), (2779, 0.0250146544964221), (2780, 0.0), (2781, 0.018115319840213105), (2782, 0.04784152467128353), (2783, 0.0), (2784, 0.03353850437892199), (2785, 0.0), (2786, 0.00503252253099247), (2787, 0.00446857086122017), (2788, 0.0), (2789, 0.0), (2790, 0.0), (2791, 0.0), (2792, 0.0), (2793, 0.0), (2794, 0.00486516036391706), (2795, 0.06618417404354004), (2796, 0.005378012941357257), (2797, 0.005752003620411974), (2798, 0.0), (2799, 0.016824250829168528), (2800, 0.0), (2801, 0.0), (2802, 0.0), (2803, 0.008101336574436775), (2804, 0.013605716604643329), (2805, 0.004109406592703356), (2806, 0.021301877308836197), (2807, 0.01783986255928458), (2808, 0.0), (2809, 0.0), (2810, 0.016846805436666702), (2811, 0.00514626916571678), (2812, 0.014166299088366661), (2813, 0.028577957724199972), (2814, 0.041226506688205856), (2815, 0.0), (2816, 0.004862455376073402), (2817, 0.005010992972391639), (2818, 0.006580844553250437), (2819, 0.06333111207338193), (2820, 0.004110399834312736), (2821, 0.0), (2822, 0.0233766859292391), (2823, 0.008898582270130705), (2824, 0.0), (2825, 0.0046424354406551845), (2826, 0.00894970032349371), (2827, 0.0), (2828, 0.0), (2829, 0.004502391902510806), (2830, 0.024915912779444424), (2831, 0.01034429457395385), (2832, 0.006167247403792474), (2833, 0.004188851498858077), (2834, 0.049224399779376204), (2835, 0.009442330119701034), (2836, 0.004662857820550353), (2837, 0.01624605492122486), (2838, 0.0060057145295216155), (2839, 0.043821603758970984), (2840, 0.0), (2841, 0.0), (2842, 0.0), (2843, 0.039964585090240354), (2844, 0.051817734768800236), (2845, 0.0), (2846, 0.005498773967410481), (2847, 0.022103505920247735), (2848, 0.05581607007932672), (2849, 0.0), (2850, 0.008847730187586932), (2851, 0.012712412218788837), (2852, 0.04955643754281532), (2853, 0.0), (2854, 0.0), (2855, 0.003985188250909422), (2856, 0.015439583792358087), (2857, 0.005800867471072218), (2858, 0.00666093513548547), (2859, 0.0), (2860, 0.009658493991358808), (2861, 0.0), (2862, 0.0), (2863, 0.0), (2864, 0.015328736993634321), (2865, 0.0), (2866, 0.004372962971349178), (2867, 0.02551697366739885), (2868, 0.0), (2869, 0.0), (2870, 0.0), (2871, 0.027296816433972297), (2872, 0.0760851026760438), (2873, 0.017072799407599797), (2874, 0.059135652677823294), (2875, 0.00597280455767428), (2876, 0.003924856969420058), (2877, 0.003945343591194033), (2878, 0.0), (2879, 0.0), (2880, 0.03981482630968488), (2881, 0.0), (2882, 0.005106649975691105), (2883, 0.0), (2884, 0.03567420011306505), (2885, 0.013675671042710967), (2886, 0.0), (2887, 0.019489661696200606), (2888, 0.009643138407426996), (2889, 0.0), (2890, 0.0), (2891, 0.006656627427412134), (2892, 0.0), (2893, 0.010658416191274271), (2894, 0.0), (2895, 0.010655630235689465), (2896, 0.015264730926377534), (2897, 0.004488712254425553), (2898, 0.009701128525228404), (2899, 0.0), (2900, 0.0), (2901, 0.013265897874762164), (2902, 0.0), (2903, 0.0), (2904, 0.0), (2905, 0.0), (2906, 0.0), (2907, 0.0), (2908, 0.0), (2909, 0.010077034650355064), (2910, 0.0), (2911, 0.0), (2912, 0.0045503849115878245), (2913, 0.0038545541760618383), (2914, 0.005314698688395756), (2915, 0.0), (2916, 0.01157346243364073), (2917, 0.0), (2918, 0.0), (2919, 0.0), (2920, 0.008145147188452667), (2921, 0.0), (2922, 0.006394223763747778), (2923, 0.0), (2924, 0.0054500773837473605), (2925, 0.0037731225527714994), (2926, 0.004914693145505082), (2927, 0.039650541375932755), (2928, 0.006068317754326319), (2929, 0.02926503331497011), (2930, 0.0488158004932434), (2931, 0.009346520123504258), (2932, 0.0), (2933, 0.00399088093197264), (2934, 0.0), (2935, 0.0), (2936, 0.0), (2937, 0.06300941636269765), (2938, 0.022297099724655697), (2939, 0.005852968694070273), (2940, 0.028951548698595342), (2941, 0.006039225471042522), (2942, 0.0), (2943, 0.0), (2944, 0.009214332589229558), (2945, 0.0046001071397042586), (2946, 0.0), (2947, 0.0), (2948, 0.006119813812314722), (2949, 0.0), (2950, 0.00845976751859956), (2951, 0.010354466946807209), (2952, 0.0), (2953, 0.0), (2954, 0.004290942942767261), (2955, 0.02286157934619018), (2956, 0.025057971223592636), (2957, 0.0), (2958, 0.0), (2959, 0.027585450292648327), (2960, 0.009079577825563545), (2961, 0.0), (2962, 0.004471956972772728), (2963, 0.0), (2964, 0.0), (2965, 0.0), (2966, 0.0), (2967, 0.0), (2968, 0.005129487915721621), (2969, 0.0), (2970, 0.005009042569591545), (2971, 0.00408898569901207), (2972, 0.014168957805262119), (2973, 0.009218302373384661), (2974, 0.0), (2975, 0.0), (2976, 0.04775571193742528), (2977, 0.0), (2978, 0.08117528853822349), (2979, 0.0051056060117489425), (2980, 0.010133475441654768), (2981, 0.0), (2982, 0.005348079789374838), (2983, 0.005930986910393958), (2984, 0.0), (2985, 0.026893471001041808), (2986, 0.005558647916253818), (2987, 0.0), (2988, 0.0), (2989, 0.0), (2990, 0.11575625250777663), (2991, 0.0), (2992, 0.004381748208335137), (2993, 0.0), (2994, 0.004729858033556788), (2995, 0.0), (2996, 0.0), (2997, 0.0), (2998, 0.07813678052958765), (2999, 0.0046727432899849415), (3000, 0.0), (3001, 0.034020228809703894), (3002, 0.0), (3003, 0.016698429157810057), (3004, 0.0), (3005, 0.0), (3006, 0.0), (3007, 0.0), (3008, 0.0), (3009, 0.006580317931007114), (3010, 0.0), (3011, 0.0), (3012, 0.0), (3013, 0.0), (3014, 0.0), (3015, 0.0), (3016, 0.00964871271407002), (3017, 0.00558344278702998), (3018, 0.040247562730264655), (3019, 0.039393828107287615), (3020, 0.005705014619687831), (3021, 0.0), (3022, 0.0), (3023, 0.024791995632206777), (3024, 0.0), (3025, 0.0), (3026, 0.005192058317760011), (3027, 0.009297733298650608), (3028, 0.0), (3029, 0.0), (3030, 0.0), (3031, 0.0), (3032, 0.0), (3033, 0.054700409039868454), (3034, 0.004729970545921327), (3035, 0.0), (3036, 0.0), (3037, 0.004960469629875019), (3038, 0.004915911373878336), (3039, 0.005317798744274366), (3040, 0.006562786303120284), (3041, 0.0049603459320825575), (3042, 0.006367379213400852), (3043, 0.0), (3044, 0.005122547749964359), (3045, 0.0), (3046, 0.0), (3047, 0.0), (3048, 0.0), (3049, 0.0), (3050, 0.09511366818976576), (3051, 0.019235963877570574), (3052, 0.0), (3053, 0.0), (3054, 0.005646772863628666), (3055, 0.0), (3056, 0.0), (3057, 0.0), (3058, 0.032426784079842494), (3059, 0.0), (3060, 0.004776902877890333), (3061, 0.004913404345302878), (3062, 0.015079517300158954), (3063, 0.004155839879594509), (3064, 0.0), (3065, 0.007561455345907428), (3066, 0.014686347445155092), (3067, 0.0), (3068, 0.0), (3069, 0.0), (3070, 0.00419785325747696), (3071, 0.004401704344034212), (3072, 0.0), (3073, 0.004636580072277906), (3074, 0.005765644086801834), (3075, 0.0), (3076, 0.0), (3077, 0.008875874440985051), (3078, 0.019315903414347906), (3079, 0.0), (3080, 0.016754937624317505), (3081, 0.012159851814410365), (3082, 0.00417965510596137), (3083, 0.0043685560595393275), (3084, 0.015942898259184046), (3085, 0.0), (3086, 0.03778507210017181), (3087, 0.005928772625685518), (3088, 0.006988092959452985), (3089, 0.03464811446520256), (3090, 0.004621161123470483), (3091, 0.049320065423808505), (3092, 0.0), (3093, 0.013271452474001275), (3094, 0.0), (3095, 0.0), (3096, 0.039498294362336456), (3097, 0.005181905856914784), (3098, 0.07249172555840126), (3099, 0.007918255854852986), (3100, 0.008315570173624711), (3101, 0.0), (3102, 0.03227777562813115), (3103, 0.0), (3104, 0.00468838526655006), (3105, 0.008500635484933078), (3106, 0.004684510221232853), (3107, 0.0), (3108, 0.004217810524946519), (3109, 0.005004945966097552), (3110, 0.0), (3111, 0.018495425821765176), (3112, 0.011110567097701895), (3113, 0.004793137622803172), (3114, 0.00822965442133323), (3115, 0.007315786683606353), (3116, 0.011354090762033468), (3117, 0.0), (3118, 0.0), (3119, 0.0), (3120, 0.0), (3121, 0.046633217930263024), (3122, 0.0), (3123, 0.0), (3124, 0.04437570651895751), (3125, 0.0), (3126, 0.012914459982411855), (3127, 0.05150868897926518), (3128, 0.0), (3129, 0.007648349681513216), (3130, 0.03087147862726261), (3131, 0.00952414332918427), (3132, 0.00943824207688229), (3133, 0.032997441428697934), (3134, 0.009291306697532854), (3135, 0.008337898569564161), (3136, 0.008302818504288195), (3137, 0.027903129518793174), (3138, 0.009276013707500362), (3139, 0.0066534528412519715), (3140, 0.0), (3141, 0.03605094437594811), (3142, 0.020782901381536135), (3143, 0.03047477265552426), (3144, 0.007693293892003873), (3145, 0.0), (3146, 0.005256499744333016), (3147, 0.008749765061950536), (3148, 0.0), (3149, 0.051291896472487365), (3150, 0.004916831503361175), (3151, 0.009842366153032982), (3152, 0.00694680991660757), (3153, 0.0), (3154, 0.0), (3155, 0.00473153774051325), (3156, 0.008574127030102362), (3157, 0.0), (3158, 0.0), (3159, 0.0), (3160, 0.0), (3161, 0.027569333149016998), (3162, 0.018962278188809557), (3163, 0.009689428019557944), (3164, 0.0039796349619837515), (3165, 0.0), (3166, 0.006518612248830482), (3167, 0.0), (3168, 0.0052916715271862265), (3169, 0.004817629735590718), (3170, 0.0), (3171, 0.0), (3172, 0.015837688443911146), (3173, 0.0), (3174, 0.013449325202915134), (3175, 0.0050357211197812335), (3176, 0.0), (3177, 0.0044640867902526775), (3178, 0.007429987864994944), (3179, 0.0), (3180, 0.0), (3181, 0.016380127278287922), (3182, 0.00957435445289791), (3183, 0.0051460543500217205), (3184, 0.01448419504687603), (3185, 0.0), (3186, 0.0), (3187, 0.015818417037248587), (3188, 0.004694034806052112), (3189, 0.015792937073085753), (3190, 0.005445462090642148), (3191, 0.013883140993181784), (3192, 0.04902389976061485), (3193, 0.008362472556303973), (3194, 0.004435615349462197), (3195, 0.0), (3196, 0.04451720020288728), (3197, 0.004270832022497038), (3198, 0.00485465485212925), (3199, 0.0), (3200, 0.0), (3201, 0.0), (3202, 0.009678953571176256), (3203, 0.005659648112374585), (3204, 0.020122079532315155), (3205, 0.04325451570784002), (3206, 0.010770714608252612), (3207, 0.005164239185070876), (3208, 0.05411271257035405), (3209, 0.004806168644389264), (3210, 0.0), (3211, 0.0089460100511984), (3212, 0.012461306988838657), (3213, 0.0), (3214, 0.004486464637490627), (3215, 0.007445010494987592), (3216, 0.03480690813795818), (3217, 0.0060558873374868755), (3218, 0.005010029464113332), (3219, 0.013502910375440123), (3220, 0.004592879953375304), (3221, 0.01681245935956944), (3222, 0.0), (3223, 0.0), (3224, 0.004892645465057329), (3225, 0.0), (3226, 0.0), (3227, 0.034120288622258695), (3228, 0.0), (3229, 0.015611632549809237), (3230, 0.0), (3231, 0.03564541390123336), (3232, 0.011892106533919871), (3233, 0.028749844114065854), (3234, 0.01643061606685256), (3235, 0.0), (3236, 0.015987459423776457), (3237, 0.0), (3238, 0.03548672426303108), (3239, 0.011849685567936545), (3240, 0.0), (3241, 0.0), (3242, 0.0), (3243, 0.0), (3244, 0.0043049052631527395), (3245, 0.00474811776374048), (3246, 0.029625856276400506), (3247, 0.0), (3248, 0.0), (3249, 0.005877587757507227), (3250, 0.0044074239837175195), (3251, 0.0), (3252, 0.0), (3253, 0.005344060589688932), (3254, 0.0), (3255, 0.0), (3256, 0.017522575121308892), (3257, 0.00566253257479361), (3258, 0.005110086855982341), (3259, 0.004956063377869102), (3260, 0.036244550330913596), (3261, 0.0), (3262, 0.0), (3263, 0.0), (3264, 0.0), (3265, 0.009685863497045326), (3266, 0.006500782317558818), (3267, 0.004264108185644859), (3268, 0.0), (3269, 0.03022962010414512), (3270, 0.004668834579277106), (3271, 0.05305077038119678), (3272, 0.033301501785137404), (3273, 0.0), (3274, 0.0), (3275, 0.0), (3276, 0.013438175752968741), (3277, 0.004948209786344156), (3278, 0.0), (3279, 0.03649774025516112), (3280, 0.0), (3281, 0.0), (3282, 0.04590702390248054), (3283, 0.0047866774654145355), (3284, 0.028116459050017806), (3285, 0.0), (3286, 0.036329652931841365), (3287, 0.024742621898920496), (3288, 0.004598003359448064), (3289, 0.004816061741412663), (3290, 0.03860413300268088), (3291, 0.0), (3292, 0.0), (3293, 0.0), (3294, 0.0), (3295, 0.004276617939097266), (3296, 0.0), (3297, 0.020965839071120762), (3298, 0.0), (3299, 0.0), (3300, 0.0), (3301, 0.0), (3302, 0.01643062765280887), (3303, 0.004782277792978249), (3304, 0.004255238174874857), (3305, 0.0), (3306, 0.0), (3307, 0.0), (3308, 0.0055635352488260445), (3309, 0.008974922020303906), (3310, 0.04630670821616497), (3311, 0.004250991194020279), (3312, 0.0), (3313, 0.0), (3314, 0.0), (3315, 0.0044892432287161835), (3316, 0.023614852509978867), (3317, 0.0214623836343608), (3318, 0.0), (3319, 0.008787631073412532), (3320, 0.030661345870166244), (3321, 0.0043481344256004854), (3322, 0.0), (3323, 0.02734719963241047), (3324, 0.00552287434416255), (3325, 0.0), (3326, 0.0), (3327, 0.007984933751733175), (3328, 0.005851270651105865), (3329, 0.004296211929080289), (3330, 0.0), (3331, 0.0), (3332, 0.004755667089268077), (3333, 0.0), (3334, 0.029403218042977516), (3335, 0.010439641543582496), (3336, 0.0), (3337, 0.005422370241534954), (3338, 0.0), (3339, 0.0), (3340, 0.0), (3341, 0.0), (3342, 0.016532799272345543), (3343, 0.004694637795007422), (3344, 0.0), (3345, 0.0), (3346, 0.008878500991258573), (3347, 0.0), (3348, 0.004547880565801547), (3349, 0.004875528893800089), (3350, 0.014829588238862263), (3351, 0.03855512095326357), (3352, 0.009038401722654896), (3353, 0.04753978436151199), (3354, 0.0), (3355, 0.015514420714989624), (3356, 0.0), (3357, 0.005841389230577389), (3358, 0.0), (3359, 0.0), (3360, 0.02499312056793259), (3361, 0.008426981862871136), (3362, 0.0), (3363, 0.0), (3364, 0.00542502462071967), (3365, 0.0), (3366, 0.023114989221401903), (3367, 0.008916167827205395), (3368, 0.0), (3369, 0.0), (3370, 0.01002935876743274), (3371, 0.00520577126853092), (3372, 0.0), (3373, 0.005289262443216206), (3374, 0.0), (3375, 0.00455569726890501), (3376, 0.0), (3377, 0.04108009118217503), (3378, 0.004903789401043045), (3379, 0.01012999407666522), (3380, 0.0), (3381, 0.0), (3382, 0.004903648930128321), (3383, 0.005321170866926203), (3384, 0.0), (3385, 0.015114052700465163), (3386, 0.01842556134214223), (3387, 0.02472216457347416), (3388, 0.004951326006624053), (3389, 0.013824877122234376), (3390, 0.009844614803369225), (3391, 0.0), (3392, 0.006865380830194172), (3393, 0.0040417309906715165), (3394, 0.019524119888404374), (3395, 0.021986832257317183), (3396, 0.0), (3397, 0.04499569909122018), (3398, 0.04556957428777034), (3399, 0.0), (3400, 0.0045957644226456065), (3401, 0.0), (3402, 0.0045794587105864445), (3403, 0.0), (3404, 0.022777572958767558), (3405, 0.007566274459544937), (3406, 0.04189715950959117), (3407, 0.0), (3408, 0.02102925389292036), (3409, 0.0), (3410, 0.003781639582737451), (3411, 0.03105704356899696), (3412, 0.0), (3413, 0.005644530455598966), (3414, 0.0), (3415, 0.00491823111008629), (3416, 0.01347270725733798), (3417, 0.0), (3418, 0.00852951791003195), (3419, 0.010273381654025677), (3420, 0.0), (3421, 0.0032511973205874103), (3422, 0.004956794823490429), (3423, 0.0), (3424, 0.04222457239709006), (3425, 0.0), (3426, 0.008281154146377557), (3427, 0.008935791113956966), (3428, 0.031926944729852316), (3429, 0.0), (3430, 0.003911623235740269), (3431, 0.0), (3432, 0.0), (3433, 0.0), (3434, 0.0), (3435, 0.0), (3436, 0.0), (3437, 0.0), (3438, 0.00950360426645206), (3439, 0.06913420027531618), (3440, 0.0), (3441, 0.0), (3442, 0.004984732599128185), (3443, 0.004635220847450806), (3444, 0.031562528549576356), (3445, 0.013810704951332858), (3446, 0.0), (3447, 0.0091841087324778), (3448, 0.010799160385320042), (3449, 0.0050781413103909495), (3450, 0.0), (3451, 0.0), (3452, 0.0), (3453, 0.0), (3454, 0.021899296965618573), (3455, 0.0), (3456, 0.0), (3457, 0.011015383603036152), (3458, 0.0), (3459, 0.021642224864776287), (3460, 0.024095832647345997), (3461, 0.050900230934256725), (3462, 0.031286996292595425), (3463, 0.02309406548862185), (3464, 0.01927258153618122), (3465, 0.031166961485236643), (3466, 0.03089028205740806), (3467, 0.00901595969578751), (3468, 0.0), (3469, 0.04913976191174831), (3470, 0.05968566247641332), (3471, 0.0), (3472, 0.030174682449433), (3473, 0.011735593568924419), (3474, 0.0), (3475, 0.007638992030628565), (3476, 0.010189995085841473), (3477, 0.030643574722692378), (3478, 0.03224212825957588), (3479, 0.006275920227038678), (3480, 0.011057293960498036), (3481, 0.012650995442800766), (3482, 0.019352351505584182), (3483, 0.0), (3484, 0.0), (3485, 0.013357479631201062), (3486, 0.0436408097623025), (3487, 0.026869289866948382), (3488, 0.0), (3489, 0.00484407505407216), (3490, 0.004512853030164621), (3491, 0.0), (3492, 0.022359945426495102), (3493, 0.004918655301741076), (3494, 0.004729553958272901), (3495, 0.0), (3496, 0.005044346915463177), (3497, 0.03821662208817021), (3498, 0.0), (3499, 0.0), (3500, 0.004359905493246981), (3501, 0.040354342137932875), (3502, 0.0), (3503, 0.014414030226231101), (3504, 0.0), (3505, 0.011546996403480819), (3506, 0.0), (3507, 0.0), (3508, 0.004624771088910011), (3509, 0.004077194152891652), (3510, 0.039825125611017684), (3511, 0.0), (3512, 0.007206106947364237), (3513, 0.0049236745908556555), (3514, 0.0049060048529409005), (3515, 0.030383628508435206), (3516, 0.0), (3517, 0.0048657855511615574), (3518, 0.004677585135984108), (3519, 0.005173857622244486), (3520, 0.009011887073179282), (3521, 0.034428316113883264), (3522, 0.013801665318218815), (3523, 0.0), (3524, 0.01215666596996764), (3525, 0.0), (3526, 0.004809311457364659), (3527, 0.0), (3528, 0.0), (3529, 0.04234875153475618), (3530, 0.0), (3531, 0.004558070123885717), (3532, 0.010249534970868135), (3533, 0.00981537614400095), (3534, 0.0), (3535, 0.0), (3536, 0.010720839664661226), (3537, 0.005828878402154014), (3538, 0.0037471384169078387), (3539, 0.03038168015512726), (3540, 0.0120511410491771), (3541, 0.00472718608414712), (3542, 0.0), (3543, 0.0965052085632507), (3544, 0.005720363019609069), (3545, 0.01492007641346688), (3546, 0.006641697944670263), (3547, 0.03930245100001216), (3548, 0.0), (3549, 0.004860101467665622), (3550, 0.025959029795822593), (3551, 0.035302232256489034), (3552, 0.007643077748373971), (3553, 0.0), (3554, 0.018196368073969373), (3555, 0.00862794532166815), (3556, 0.0), (3557, 0.020264497800206855), (3558, 0.0), (3559, 0.015242099664756408), (3560, 0.010002407004885833), (3561, 0.04161605930035971), (3562, 0.01447889296860756), (3563, 0.01370013806950406), (3564, 0.0), (3565, 0.009301715322483856), (3566, 0.021029321135112407), (3567, 0.008529089503969798), (3568, 0.055768211683807134), (3569, 0.02396029169072035), (3570, 0.004669989369556681), (3571, 0.014416207764405877), (3572, 0.005202876746170731), (3573, 0.0), (3574, 0.025218986126265136), (3575, 0.0037965352867283904), (3576, 0.0), (3577, 0.022473303160766005), (3578, 0.07258087057117188), (3579, 0.0040113052357218645), (3580, 0.04633473148167397), (3581, 0.01652432613754201), (3582, 0.01310305910263278), (3583, 0.0), (3584, 0.005046970635077716), (3585, 0.009160537955414653), (3586, 0.009580483568729222), (3587, 0.025218842437330885), (3588, 0.032195226603835864), (3589, 0.00433360259754362), (3590, 0.0), (3591, 0.0369452496084962), (3592, 0.08287921925564296), (3593, 0.011534093340376937), (3594, 0.0), (3595, 0.004496223369065317), (3596, 0.0), (3597, 0.00911076387600846), (3598, 0.012040426995429518), (3599, 0.004906742776461434), (3600, 0.008027274678839928), (3601, 0.005011825635849651), (3602, 0.0), (3603, 0.0047890791418227704), (3604, 0.0), (3605, 0.0), (3606, 0.015326470246752075), (3607, 0.012414929296417796), (3608, 0.0), (3609, 0.012680122075463427), (3610, 0.06805975032932916), (3611, 0.03844967073920893), (3612, 0.03385279236916295), (3613, 0.029377616587217936), (3614, 0.03165951705249884), (3615, 0.0), (3616, 0.07897546364611022), (3617, 0.0), (3618, 0.0), (3619, 0.0), (3620, 0.012581716210494073), (3621, 0.005529811604351981), (3622, 0.008809728769705854), (3623, 0.0), (3624, 0.032508798245869705), (3625, 0.0), (3626, 0.0036054090107749677), (3627, 0.0), (3628, 0.026172623637002804), (3629, 0.015290602237483443), (3630, 0.023479049751470922), (3631, 0.010901128000074345), (3632, 0.02914846456116012), (3633, 0.013462590397367996), (3634, 0.0), (3635, 0.012035800317091038), (3636, 0.0), (3637, 0.0), (3638, 0.011098979230316143), (3639, 0.0), (3640, 0.0), (3641, 0.02615994470171704), (3642, 0.0), (3643, 0.010496676977355781), (3644, 0.0046171462164255024), (3645, 0.0), (3646, 0.014213567415888391), (3647, 0.034413385222780646), (3648, 0.004862366054953671), (3649, 0.005331201484814213), (3650, 0.015231159427241693), (3651, 0.0), (3652, 0.005192564181749176), (3653, 0.0), (3654, 0.0), (3655, 0.0), (3656, 0.0), (3657, 0.018892469559481526), (3658, 0.003948932609488739), (3659, 0.0), (3660, 0.0), (3661, 0.0), (3662, 0.03538098691465387), (3663, 0.0), (3664, 0.0), (3665, 0.004688207410505129), (3666, 0.0), (3667, 0.0), (3668, 0.041031741914719276), (3669, 0.0), (3670, 0.0), (3671, 0.01871124568245354), (3672, 0.0), (3673, 0.014970936566739496), (3674, 0.003966876833931593), (3675, 0.0), (3676, 0.004748986923537893), (3677, 0.0), (3678, 0.00999881130123906), (3679, 0.0), (3680, 0.0), (3681, 0.0052168607767533615), (3682, 0.011472331905837175), (3683, 0.004810382630867754), (3684, 0.0040784087225263005), (3685, 0.023480159353526275), (3686, 0.005586708491906735), (3687, 0.0), (3688, 0.005207134401872542), (3689, 0.03393987094353713), (3690, 0.009097572906034992), (3691, 0.0), (3692, 0.0), (3693, 0.007595483174934518), (3694, 0.0), (3695, 0.03578895380014465), (3696, 0.029605709076905233), (3697, 0.02466358028120743), (3698, 0.027021292126022667), (3699, 0.0), (3700, 0.008455763758751688), (3701, 0.01059265813120901), (3702, 0.06368079862261275), (3703, 0.0), (3704, 0.011165766413402254), (3705, 0.023711468399202858), (3706, 0.0), (3707, 0.0), (3708, 0.0), (3709, 0.05591228779534213), (3710, 0.0297099649815645), (3711, 0.048285969141848045), (3712, 0.00445148316701232), (3713, 0.0), (3714, 0.0), (3715, 0.0060640277050528725), (3716, 0.013510135406853184), (3717, 0.0), (3718, 0.008254780961417562), (3719, 0.0), (3720, 0.0), (3721, 0.0), (3722, 0.015455189122759278), (3723, 0.012726609679962878), (3724, 0.0), (3725, 0.0), (3726, 0.017349418605147163), (3727, 0.0), (3728, 0.030494457720227325), (3729, 0.0), (3730, 0.005137172111277093), (3731, 0.027496152324571768), (3732, 0.016941992884067943), (3733, 0.013427182087441054), (3734, 0.0), (3735, 0.026484709354273623), (3736, 0.008826539096198134), (3737, 0.0), (3738, 0.012334611794415), (3739, 0.004751055623925478), (3740, 0.044799441823855465), (3741, 0.0), (3742, 0.0375820454537381), (3743, 0.009211094635477014), (3744, 0.010834075059802184), (3745, 0.0), (3746, 0.010171292411939741), (3747, 0.009402339726819784), (3748, 0.004066013166984939), (3749, 0.0), (3750, 0.0), (3751, 0.03146208166774608), (3752, 0.02901224552799551), (3753, 0.02336600163183585), (3754, 0.005449935441663186), (3755, 0.004153292244614947), (3756, 0.0), (3757, 0.0), (3758, 0.0056205408983247915), (3759, 0.005380348452658167), (3760, 0.0), (3761, 0.0), (3762, 0.0), (3763, 0.017715422396429606), (3764, 0.009287350228983967), (3765, 0.004564910196854769), (3766, 0.0), (3767, 0.004316871182710584), (3768, 0.0), (3769, 0.0), (3770, 0.03371610329864651), (3771, 0.0), (3772, 0.005347892539147241), (3773, 0.008706778513829531), (3774, 0.0), (3775, 0.0), (3776, 0.0), (3777, 0.0), (3778, 0.0), (3779, 0.0), (3780, 0.0350350409330704), (3781, 0.0), (3782, 0.009535541859937175), (3783, 0.02111507170441633), (3784, 0.0), (3785, 0.028919026252436857), (3786, 0.050936361987896014), (3787, 0.009745983330830202), (3788, 0.0), (3789, 0.005549910505137604), (3790, 0.029639852087848417), (3791, 0.005362258967609338), (3792, 0.0047790494145835164), (3793, 0.0), (3794, 0.0), (3795, 0.007963236318182375), (3796, 0.02079013237244502), (3797, 0.0), (3798, 0.023221926355125894), (3799, 0.0), (3800, 0.006200017555274133), (3801, 0.0), (3802, 0.0), (3803, 0.020940491980317288), (3804, 0.11396692573178815), (3805, 0.037310483449823496), (3806, 0.0), (3807, 0.010278247988604211), (3808, 0.005217716634008873), (3809, 0.0), (3810, 0.0), (3811, 0.030775361383046256), (3812, 0.029025410094735034), (3813, 0.01127374006008508), (3814, 0.025774064924473577), (3815, 0.03450072911913271), (3816, 0.011315198391284968), (3817, 0.03129955690725933), (3818, 0.004660368273791993), (3819, 0.0), (3820, 0.07472524355057239), (3821, 0.0), (3822, 0.01687808356658396), (3823, 0.0), (3824, 0.004485286027178564), (3825, 0.0), (3826, 0.01849164933574163), (3827, 0.0), (3828, 0.0), (3829, 0.0), (3830, 0.0), (3831, 0.0), (3832, 0.011473947019202554), (3833, 0.0), (3834, 0.009524989626385084), (3835, 0.015781850681418016), (3836, 0.004583172235880791), (3837, 0.005158384595988084), (3838, 0.0), (3839, 0.004334568513173713), (3840, 0.009125883280481238), (3841, 0.009265952915407383), (3842, 0.004277294657577411), (3843, 0.04868288351613716), (3844, 0.005888898465403844), (3845, 0.004901693853097579), (3846, 0.03486801636981956), (3847, 0.024668194990017774), (3848, 0.03894789426207658), (3849, 0.009246184167715756), (3850, 0.0), (3851, 0.005380534616105803), (3852, 0.06758945129110452), (3853, 0.0), (3854, 0.0), (3855, 0.003987491995971779), (3856, 0.004067039690737176), (3857, 0.0), (3858, 0.01723738157252576), (3859, 0.004444961740086218), (3860, 0.0), (3861, 0.004161193658309897), (3862, 0.04146208633910175), (3863, 0.0), (3864, 0.004434777731038908), (3865, 0.04872252707988417), (3866, 0.045735254517841425), (3867, 0.0), (3868, 0.004496519423664487), (3869, 0.00975863468394157), (3870, 0.11306023123962505), (3871, 0.02007568641141025), (3872, 0.0), (3873, 0.0), (3874, 0.04277180994456511), (3875, 0.003819687091035258), (3876, 0.0), (3877, 0.009911608394857814), (3878, 0.0), (3879, 0.004556059546886341), (3880, 0.023530328886204942), (3881, 0.0), (3882, 0.004945913880096459), (3883, 0.0), (3884, 0.04618978107828909), (3885, 0.034124987266148), (3886, 0.03701188326341227), (3887, 0.0), (3888, 0.004649804844195554), (3889, 0.005096563705432145), (3890, 0.009092940892658337), (3891, 0.02481486862960511), (3892, 0.019540832338524702), (3893, 0.0), (3894, 0.009061758950272813), (3895, 0.0), (3896, 0.004531465997398419), (3897, 0.0), (3898, 0.0), (3899, 0.0), (3900, 0.0), (3901, 0.0), (3902, 0.0), (3903, 0.010196695408859209), (3904, 0.0), (3905, 0.00497092913618758), (3906, 0.0), (3907, 0.04108633485466008), (3908, 0.0), (3909, 0.004384497824669234), (3910, 0.0), (3911, 0.0), (3912, 0.015357184887249613), (3913, 0.0), (3914, 0.008227183131754068), (3915, 0.0), (3916, 0.004004351985182832), (3917, 0.008563436073109752), (3918, 0.0), (3919, 0.0049125625015337265), (3920, 0.0), (3921, 0.005415118426498556), (3922, 0.005801275163851863), (3923, 0.021991555968089868), (3924, 0.0), (3925, 0.052063111834951256), (3926, 0.0150559685820051), (3927, 0.0), (3928, 0.0), (3929, 0.0), (3930, 0.004865180248488571), (3931, 0.005497351750974433), (3932, 0.0), (3933, 0.027546180620490118), (3934, 0.052138165530418334), (3935, 0.0), (3936, 0.005944963185014287), (3937, 0.0087857929104622), (3938, 0.011202948652928577), (3939, 0.0), (3940, 0.0), (3941, 0.00440381727088788), (3942, 0.0), (3943, 0.016157422898503398), (3944, 0.0), (3945, 0.0), (3946, 0.0), (3947, 0.0), (3948, 0.021058642875557178), (3949, 0.006459902514640885), (3950, 0.010447813119556667), (3951, 0.039485268302588146), (3952, 0.005389187583868196), (3953, 0.029335721304710502), (3954, 0.03193736131574555), (3955, 0.0), (3956, 0.0), (3957, 0.0), (3958, 0.028138913170998068), (3959, 0.0), (3960, 0.0), (3961, 0.037350896178105795), (3962, 0.005277897008541642), (3963, 0.008835528231290898), (3964, 0.005248432593512988), (3965, 0.05518828354961259), (3966, 0.0), (3967, 0.01038996883522186), (3968, 0.009348415245207879), (3969, 0.009873749473428119), (3970, 0.01289769612666738), (3971, 0.0037897898436638528), (3972, 0.010196273487538952), (3973, 0.010006831972137843), (3974, 0.0), (3975, 0.0), (3976, 0.0), (3977, 0.08516838012647276), (3978, 0.030753140325435455), (3979, 0.0586064246134861), (3980, 0.03706711848973477), (3981, 0.0), (3982, 0.008899933500582031), (3983, 0.01010275109393333), (3984, 0.0049422234001286385), (3985, 0.0), (3986, 0.0), (3987, 0.0), (3988, 0.0059151396154309005), (3989, 0.0), (3990, 0.014261719621180722), (3991, 0.050052180276132514), (3992, 0.005312083982959177), (3993, 0.0), (3994, 0.0), (3995, 0.0), (3996, 0.04595105543115537), (3997, 0.0), (3998, 0.037128932121246905), (3999, 0.0), (4000, 0.0), (4001, 0.004707302180487341), (4002, 0.0), (4003, 0.0051911536615003575), (4004, 0.028341223415157074), (4005, 0.0), (4006, 0.0), (4007, 0.006682160668406663), (4008, 0.004877079559902501), (4009, 0.017772464907466902), (4010, 0.017344605708752896), (4011, 0.012664766241140577), (4012, 0.008870449305286921), (4013, 0.0), (4014, 0.0), (4015, 0.0), (4016, 0.03949245632372739), (4017, 0.045921107114961224), (4018, 0.008010810782150582), (4019, 0.0), (4020, 0.010136576586606803), (4021, 0.014441084022120274), (4022, 0.0), (4023, 0.005549728604865374), (4024, 0.0), (4025, 0.0048753602139364), (4026, 0.010355277506008898), (4027, 0.0049622926190076464), (4028, 0.04113013890832547), (4029, 0.004605369736592495), (4030, 0.0), (4031, 0.0279784240023476), (4032, 0.0), (4033, 0.032386871867669254), (4034, 0.051260996814503815), (4035, 0.0040889948333697156), (4036, 0.026466324019738), (4037, 0.04737479317260436), (4038, 0.035079702915370395), (4039, 0.0), (4040, 0.006064049563819387), (4041, 0.009004053581388397), (4042, 0.0), (4043, 0.031149194348436438), (4044, 0.0), (4045, 0.0), (4046, 0.0), (4047, 0.0), (4048, 0.0), (4049, 0.004769374121313041), (4050, 0.0), (4051, 0.005242868483532258), (4052, 0.004966693360360296), (4053, 0.0), (4054, 0.004983000527179141), (4055, 0.02019261575833326), (4056, 0.0414896102367847), (4057, 0.023291396235183073), (4058, 0.005845274435353414), (4059, 0.0), (4060, 0.0), (4061, 0.005133120232630824), (4062, 0.09154596887215048), (4063, 0.0), (4064, 0.0362149481054152), (4065, 0.0), (4066, 0.013200807368410464), (4067, 0.0), (4068, 0.0), (4069, 0.0), (4070, 0.05737557481438489), (4071, 0.029965448756027913), (4072, 0.0), (4073, 0.004580376614459274), (4074, 0.008011323823741007), (4075, 0.0), (4076, 0.08495351991564297), (4077, 0.0868896795613468), (4078, 0.0), (4079, 0.0), (4080, 0.0), (4081, 0.0), (4082, 0.0), (4083, 0.0), (4084, 0.006042760932497815), (4085, 0.0), (4086, 0.025899209694274894), (4087, 0.028485535239606702), (4088, 0.0), (4089, 0.0), (4090, 0.0), (4091, 0.04520842823330852), (4092, 0.0), (4093, 0.004807120986901595), (4094, 0.010072697289607085), (4095, 0.0), (4096, 0.0), (4097, 0.0051463188144475315), (4098, 0.0), (4099, 0.0636063808388316), (4100, 0.0), (4101, 0.01471854152678863), (4102, 0.005966792757476728), (4103, 0.0089503381289701), (4104, 0.004165487608098313), (4105, 0.005274962378292421), (4106, 0.0), (4107, 0.0), (4108, 0.0052584076000564165), (4109, 0.0042521370309923714), (4110, 0.0), (4111, 0.005030788852703675), (4112, 0.023361806542649095), (4113, 0.005219655334836416), (4114, 0.0), (4115, 0.00634087317405186), (4116, 0.0), (4117, 0.005364456340419774), (4118, 0.025809855325528493), (4119, 0.0), (4120, 0.0), (4121, 0.005344933858350118), (4122, 0.0), (4123, 0.0), (4124, 0.0), (4125, 0.004880891359452219), (4126, 0.0), (4127, 0.044840988622183865), (4128, 0.008869657410984558), (4129, 0.0), (4130, 0.00973001069374079), (4131, 0.005028947514570307), (4132, 0.0050583681874045066), (4133, 0.0), (4134, 0.0), (4135, 0.025724003722430958), (4136, 0.024811755944668765), (4137, 0.0), (4138, 0.0), (4139, 0.0), (4140, 0.02771339170926897), (4141, 0.0), (4142, 0.011381450872223697), (4143, 0.0), (4144, 0.007485096998899267), (4145, 0.0), (4146, 0.010579456679591412), (4147, 0.005722117684328358), (4148, 0.0), (4149, 0.009502157598307725), (4150, 0.0), (4151, 0.0), (4152, 0.008493386934497053), (4153, 0.008112373477440399), (4154, 0.0), (4155, 0.0), (4156, 0.004119383160516967), (4157, 0.010125241639604904), (4158, 0.0), (4159, 0.0), (4160, 0.021565606126865915), (4161, 0.0), (4162, 0.03894929002454765), (4163, 0.0), (4164, 0.0), (4165, 0.0), (4166, 0.006066972015086643), (4167, 0.01446608023747929), (4168, 0.019671928396812116), (4169, 0.0), (4170, 0.0), (4171, 0.0), (4172, 0.0), (4173, 0.01608287864781112), (4174, 0.004325408688107004), (4175, 0.0), (4176, 0.0), (4177, 0.012394862845958058), (4178, 0.0), (4179, 0.0), (4180, 0.004966103908795498), (4181, 0.04598138975706749), (4182, 0.0035653495403167607), (4183, 0.0), (4184, 0.004718568072463772), (4185, 0.0), (4186, 0.004301799740730144), (4187, 0.03968768432582215), (4188, 0.022244147805463), (4189, 0.0), (4190, 0.017927572768964766), (4191, 0.05648357678243828), (4192, 0.004550692977286556), (4193, 0.008095775201363217), (4194, 0.023558767961132168), (4195, 0.05671235333369641), (4196, 0.030636854013026932), (4197, 0.00479077005519674), (4198, 0.006205200872468145), (4199, 0.029691708981061), (4200, 0.0038854044534821683), (4201, 0.0), (4202, 0.0), (4203, 0.005447281625091171), (4204, 0.005593305536721651), (4205, 0.0), (4206, 0.0044638786638876585), (4207, 0.016313511414353648), (4208, 0.0), (4209, 0.0), (4210, 0.05755860697188413), (4211, 0.008738595057452447), (4212, 0.0), (4213, 0.0044686110342230965), (4214, 0.004760079627085997), (4215, 0.0), (4216, 0.025323486457582714), (4217, 0.009077830056089762), (4218, 0.036602111201275024), (4219, 0.0), (4220, 0.0), (4221, 0.0), (4222, 0.006302557277905508), (4223, 0.007203266597154564), (4224, 0.008706161686697383), (4225, 0.0), (4226, 0.0051375587000433735), (4227, 0.0), (4228, 0.0), (4229, 0.0), (4230, 0.0), (4231, 0.0), (4232, 0.0), (4233, 0.009954792530362005), (4234, 0.004584405677895554), (4235, 0.0), (4236, 0.008232904906012948), (4237, 0.01618947811799413), (4238, 0.010388092558575694), (4239, 0.00649248548766578), (4240, 0.0), (4241, 0.0), (4242, 0.012836246261280668), (4243, 0.0), (4244, 0.0), (4245, 0.0), (4246, 0.004449525924511274), (4247, 0.0), (4248, 0.0), (4249, 0.0), (4250, 0.0), (4251, 0.0), (4252, 0.004521436345639438), (4253, 0.0), (4254, 0.004412508861022335), (4255, 0.0), (4256, 0.004986934694678308), (4257, 0.0044269608674090384), (4258, 0.07089163878457869), (4259, 0.053144393264096236), (4260, 0.004966974126841158), (4261, 0.0), (4262, 0.0), (4263, 0.05208873336600251), (4264, 0.0), (4265, 0.0), (4266, 0.026441526266267317), (4267, 0.0), (4268, 0.0), (4269, 0.009548766853262758), (4270, 0.03882945221125062), (4271, 0.0), (4272, 0.012903634691501648), (4273, 0.0), (4274, 0.0), (4275, 0.02716938616294582), (4276, 0.0), (4277, 0.04440254364158033), (4278, 0.0), (4279, 0.012895743212493429), (4280, 0.0), (4281, 0.03028561826599896), (4282, 0.02412087230209893), (4283, 0.04194011584141559), (4284, 0.09725048093808192), (4285, 0.005514826883247447), (4286, 0.0), (4287, 0.004855056784875715), (4288, 0.009057022034781488), (4289, 0.00947497852873872), (4290, 0.0), (4291, 0.00469280300232045), (4292, 0.021093034483295067), (4293, 0.005243947164700507), (4294, 0.022929165743730225), (4295, 0.0053654604794386145), (4296, 0.0), (4297, 0.004306394328786339), (4298, 0.0), (4299, 0.0), (4300, 0.013707873823521184), (4301, 0.029454004880258945), (4302, 0.0), (4303, 0.022982978760744493), (4304, 0.004217741204508409), (4305, 0.004365697452480055), (4306, 0.0), (4307, 0.0), (4308, 0.005153548078049084), (4309, 0.032026320634158674), (4310, 0.027974447872546517), (4311, 0.0038180015445131586), (4312, 0.0), (4313, 0.0), (4314, 0.014494235797455842), (4315, 0.005004497286189867), (4316, 0.0), (4317, 0.005328909725811483), (4318, 0.0), (4319, 0.004830208372658886), (4320, 0.0), (4321, 0.004474026366392861), (4322, 0.0), (4323, 0.028531184534344334), (4324, 0.020159255990918508), (4325, 0.004358843370997372), (4326, 0.0), (4327, 0.004579829557244639), (4328, 0.0), (4329, 0.015434487338462763), (4330, 0.010338185631496865), (4331, 0.0), (4332, 0.005098385557062905), (4333, 0.0), (4334, 0.0), (4335, 0.005352746908072097), (4336, 0.0), (4337, 0.0), (4338, 0.055184926646004336), (4339, 0.0), (4340, 0.010686361604047102), (4341, 0.028390857590302413), (4342, 0.009521257855438444), (4343, 0.0), (4344, 0.0), (4345, 0.0), (4346, 0.03308460443289963), (4347, 0.06806984639664715), (4348, 0.009501931906629858), (4349, 0.0), (4350, 0.0), (4351, 0.025666725067666967), (4352, 0.02730702799122101), (4353, 0.004081082621728394), (4354, 0.009312614534325166), (4355, 0.0), (4356, 0.013979720323193483), (4357, 0.005009363089460984), (4358, 0.022378381295478637), (4359, 0.0), (4360, 0.0), (4361, 0.0), (4362, 0.0), (4363, 0.0), (4364, 0.019252857117378595), (4365, 0.0), (4366, 0.0), (4367, 0.004554010252988269), (4368, 0.0), (4369, 0.0), (4370, 0.005018998537908662), (4371, 0.016119416111861823), (4372, 0.0), (4373, 0.0), (4374, 0.0), (4375, 0.0), (4376, 0.0), (4377, 0.0), (4378, 0.04642062441443058), (4379, 0.0), (4380, 0.010515077840187214), (4381, 0.0), (4382, 0.004544145366231194), (4383, 0.0), (4384, 0.0), (4385, 0.0), (4386, 0.0), (4387, 0.0), (4388, 0.004832672653066768), (4389, 0.0), (4390, 0.031901308055214454), (4391, 0.02824230506937194), (4392, 0.0), (4393, 0.0), (4394, 0.004663266042753394), (4395, 0.024675459275265578), (4396, 0.011559996813966768), (4397, 0.011499231631164198), (4398, 0.0), (4399, 0.0), (4400, 0.0), (4401, 0.009946111414885783), (4402, 0.0), (4403, 0.0), (4404, 0.004801193553945827), (4405, 0.017480995796931405), (4406, 0.036997172591919286), (4407, 0.0), (4408, 0.00564218527612186), (4409, 0.03261874659636626), (4410, 0.0), (4411, 0.0), (4412, 0.0), (4413, 0.005095498487496788), (4414, 0.0), (4415, 0.0), (4416, 0.0), (4417, 0.0), (4418, 0.011691725469696568), (4419, 0.023338987896817022), (4420, 0.004955281049299896), (4421, 0.004905611689947448), (4422, 0.004856339011803223), (4423, 0.0), (4424, 0.0), (4425, 0.0), (4426, 0.004054836330087302), (4427, 0.010320826870080863), (4428, 0.00845306632306814), (4429, 0.0), (4430, 0.0), (4431, 0.0), (4432, 0.03728086323368793), (4433, 0.004902923834955348), (4434, 0.004501757212178365), (4435, 0.0), (4436, 0.0), (4437, 0.012681497187055532), (4438, 0.009905904950379735), (4439, 0.008181875279890906), (4440, 0.006009864699291684), (4441, 0.0), (4442, 0.004558216276425119), (4443, 0.0), (4444, 0.0), (4445, 0.0), (4446, 0.005155156191566708), (4447, 0.013637615018017444), (4448, 0.004907740677515695), (4449, 0.0), (4450, 0.0), (4451, 0.005544631326236234), (4452, 0.005315378052942627), (4453, 0.0052470596444220315), (4454, 0.04316998652275893), (4455, 0.03937518075492478), (4456, 0.009167834790117553), (4457, 0.02384576118462762), (4458, 0.0), (4459, 0.04097646826617242), (4460, 0.005326896337126297), (4461, 0.0), (4462, 0.0), (4463, 0.0052162885944547184), (4464, 0.0), (4465, 0.0), (4466, 0.0092697396329056), (4467, 0.009195500591870565), (4468, 0.0), (4469, 0.0), (4470, 0.0), (4471, 0.0), (4472, 0.0), (4473, 0.004092862707592425), (4474, 0.0), (4475, 0.0), (4476, 0.0), (4477, 0.04638049959991026), (4478, 0.07116093573982951), (4479, 0.0), (4480, 0.006616779249074796), (4481, 0.0), (4482, 0.060169843881656145), (4483, 0.01793149401807241), (4484, 0.00626561860168593), (4485, 0.0), (4486, 0.004870990783108121), (4487, 0.0), (4488, 0.0), (4489, 0.00498414308099649), (4490, 0.0), (4491, 0.009686293312400963), (4492, 0.025710619817018877), (4493, 0.009640944858195152), (4494, 0.0), (4495, 0.0), (4496, 0.0053789470585957865), (4497, 0.0), (4498, 0.007702527811946046), (4499, 0.0), (4500, 0.013654960172126824), (4501, 0.01943291410786932), (4502, 0.0), (4503, 0.0), (4504, 0.0), (4505, 0.0), (4506, 0.005610641141595957), (4507, 0.04557338768774731), (4508, 0.0), (4509, 0.022160507163538193), (4510, 0.0), (4511, 0.0), (4512, 0.0), (4513, 0.0), (4514, 0.03948705541993029), (4515, 0.011497579417804037), (4516, 0.037519930456297826), (4517, 0.0), (4518, 0.0), (4519, 0.010912012904143186), (4520, 0.0), (4521, 0.0), (4522, 0.005121278317812313), (4523, 0.033582705308967335), (4524, 0.0), (4525, 0.0), (4526, 0.021938629467525166), (4527, 0.0), (4528, 0.0), (4529, 0.0), (4530, 0.004595971763863413), (4531, 0.0), (4532, 0.0), (4533, 0.009110878825441612), (4534, 0.0), (4535, 0.009963924645394555), (4536, 0.0), (4537, 0.006117247556666319), (4538, 0.0), (4539, 0.0), (4540, 0.0), (4541, 0.0), (4542, 0.017978834630897743), (4543, 0.03259462532424583), (4544, 0.0), (4545, 0.0), (4546, 0.0), (4547, 0.0), (4548, 0.0), (4549, 0.0), (4550, 0.008630112730640188), (4551, 0.0), (4552, 0.01884899446512381), (4553, 0.0), (4554, 0.0), (4555, 0.007082663867234974), (4556, 0.014704966639468369), (4557, 0.01442793456279097), (4558, 0.004117565720807819), (4559, 0.010725226909721861), (4560, 0.004997612328319134), (4561, 0.0), (4562, 0.005838009730107153), (4563, 0.0), (4564, 0.013096408263966254), (4565, 0.0), (4566, 0.014215765913764687), (4567, 0.0), (4568, 0.0), (4569, 0.06098109760889937), (4570, 0.028610480823693468), (4571, 0.007467439612497245), (4572, 0.0), (4573, 0.0), (4574, 0.0), (4575, 0.0), (4576, 0.05696120865364432), (4577, 0.004314886420524368), (4578, 0.0), (4579, 0.0), (4580, 0.005244041875374563), (4581, 0.022596017657572617), (4582, 0.0), (4583, 0.0), (4584, 0.0), (4585, 0.0), (4586, 0.0), (4587, 0.0), (4588, 0.008621452795976403), (4589, 0.010419615659090754), (4590, 0.0), (4591, 0.0), (4592, 0.004684838782987911), (4593, 0.0), (4594, 0.0), (4595, 0.0), (4596, 0.004141908267537725), (4597, 0.0), (4598, 0.008106088044642893), (4599, 0.02263309938701941), (4600, 0.004300605209182288), (4601, 0.0), (4602, 0.0), (4603, 0.004383588846366227), (4604, 0.010388234119821699), (4605, 0.0), (4606, 0.0), (4607, 0.0), (4608, 0.0), (4609, 0.027273083655175112), (4610, 0.003944045877837198), (4611, 0.017974793736787217), (4612, 0.0), (4613, 0.033123583216593186), (4614, 0.0), (4615, 0.0), (4616, 0.0), (4617, 0.0), (4618, 0.0), (4619, 0.0), (4620, 0.0), (4621, 0.0), (4622, 0.004988319208433273), (4623, 0.0), (4624, 0.0), (4625, 0.0), (4626, 0.007197327640868537), (4627, 0.004032384058363097), (4628, 0.009700998374037812), (4629, 0.0), (4630, 0.0), (4631, 0.00570675481463341), (4632, 0.0), (4633, 0.005522818753858838), (4634, 0.0), (4635, 0.0), (4636, 0.003962992921720033), (4637, 0.0), (4638, 0.0), (4639, 0.0), (4640, 0.0), (4641, 0.0), (4642, 0.0), (4643, 0.009157049427508468), (4644, 0.0), (4645, 0.0), (4646, 0.0), (4647, 0.00424947199579809), (4648, 0.0048600904936078725), (4649, 0.0), (4650, 0.005415757988783117), (4651, 0.0), (4652, 0.09216988722880473), (4653, 0.0), (4654, 0.0), (4655, 0.004974207666387804), (4656, 0.0), (4657, 0.0), (4658, 0.0), (4659, 0.0), (4660, 0.03785600309925269), (4661, 0.0), (4662, 0.010932471220772594), (4663, 0.009109208586930146), (4664, 0.0), (4665, 0.0), (4666, 0.0), (4667, 0.004394715624184072), (4668, 0.0), (4669, 0.0), (4670, 0.0), (4671, 0.0), (4672, 0.0), (4673, 0.0), (4674, 0.0), (4675, 0.07643992636923637), (4676, 0.02430028631380151), (4677, 0.0), (4678, 0.04353314834002676), (4679, 0.0), (4680, 0.0), (4681, 0.0), (4682, 0.0), (4683, 0.0), (4684, 0.0), (4685, 0.0), (4686, 0.0), (4687, 0.0), (4688, 0.00466619410042941), (4689, 0.0), (4690, 0.004407098177562787), (4691, 0.0), (4692, 0.0), (4693, 0.0), (4694, 0.0), (4695, 0.0), (4696, 0.0), (4697, 0.0), (4698, 0.0), (4699, 0.029565363597308898), (4700, 0.006363067958277792), (4701, 0.0), (4702, 0.00477198553583111), (4703, 0.009541242267470218), (4704, 0.0), (4705, 0.0), (4706, 0.0052209744632478305), (4707, 0.0), (4708, 0.0), (4709, 0.0), (4710, 0.0), (4711, 0.017741351305433195), (4712, 0.0), (4713, 0.0), (4714, 0.0), (4715, 0.0), (4716, 0.0), (4717, 0.0055489624347990745), (4718, 0.011588144955551327), (4719, 0.009101677773432524), (4720, 0.0057038545276578475), (4721, 0.005848833423825055), (4722, 0.0), (4723, 0.0), (4724, 0.0), (4725, 0.0057367014776161275), (4726, 0.018258988905181444), (4727, 0.0), (4728, 0.0), (4729, 0.0), (4730, 0.012308388616611172), (4731, 0.0), (4732, 0.0), (4733, 0.0), (4734, 0.0050785922383458455), (4735, 0.0), (4736, 0.0), (4737, 0.01704392313902541), (4738, 0.004697258354249413), (4739, 0.0), (4740, 0.013413938475443688), (4741, 0.0), (4742, 0.024854106354558737), (4743, 0.0), (4744, 0.00380958119176611), (4745, 0.00696492966875329), (4746, 0.005330129667592838), (4747, 0.03216237407112395), (4748, 0.0), (4749, 0.0), (4750, 0.0), (4751, 0.0), (4752, 0.0), (4753, 0.0), (4754, 0.04098401357747264), (4755, 0.0), (4756, 0.015602459757040235), (4757, 0.0), (4758, 0.11061561649745223), (4759, 0.0)]\n"
          ]
        }
      ]
    },
    {
      "cell_type": "code",
      "source": [
        "len(Recommendation_Score)"
      ],
      "metadata": {
        "colab": {
          "base_uri": "https://localhost:8080/"
        },
        "id": "FtgSXGmD-dkF",
        "outputId": "5a9c0d4d-4697-4951-efd8-5d661ab05d9e"
      },
      "execution_count": 33,
      "outputs": [
        {
          "output_type": "execute_result",
          "data": {
            "text/plain": [
              "4760"
            ]
          },
          "metadata": {},
          "execution_count": 33
        }
      ]
    },
    {
      "cell_type": "markdown",
      "source": [
        "\n",
        "\n",
        "> Get All Movies Sort Based On Recommendation Score with respect to Favourite Movie\n",
        "\n"
      ],
      "metadata": {
        "id": "ccgboLov-kZ1"
      }
    },
    {
      "cell_type": "code",
      "source": [
        "Sorted_Similar_Movies = sorted(Recommendation_Score, key = lambda x:x[1], reverse = True)\n",
        "print(Sorted_Similar_Movies)"
      ],
      "metadata": {
        "colab": {
          "base_uri": "https://localhost:8080/"
        },
        "id": "R4FCBzW2-doh",
        "outputId": "ac1ed73e-ab8c-4713-d6ce-bfe188de4192"
      },
      "execution_count": 34,
      "outputs": [
        {
          "output_type": "stream",
          "name": "stdout",
          "text": [
            "[(1615, 1.0000000000000002), (1842, 0.12824039515277197), (1437, 0.1277234126588111), (2384, 0.12532204310374198), (2218, 0.12531061451150816), (1552, 0.12056391656436262), (2990, 0.11575625250777663), (2703, 0.11556670904946786), (3804, 0.11396692573178815), (3870, 0.11306023123962505), (2228, 0.1112921578910245), (4758, 0.11061561649745223), (1912, 0.10791619892106852), (1956, 0.10500697639725415), (2533, 0.09968748587193207), (4284, 0.09725048093808192), (1928, 0.09721384780878192), (3543, 0.0965052085632507), (3050, 0.09511366818976576), (1480, 0.09444455487350831), (4652, 0.09216988722880473), (1169, 0.09156773112468614), (4062, 0.09154596887215048), (420, 0.08824040737352057), (2665, 0.08799472185147086), (4077, 0.0868896795613468), (937, 0.08591804463068559), (3977, 0.08516838012647276), (4076, 0.08495351991564297), (1058, 0.08432432185023156), (3592, 0.08287921925564296), (2978, 0.08117528853822349), (2498, 0.08108314074611656), (834, 0.08062777932657786), (401, 0.07991639981090898), (1371, 0.07988957444836994), (3616, 0.07897546364611022), (1831, 0.07850599081551259), (635, 0.07821020183448296), (2998, 0.07813678052958765), (2770, 0.0780882788944845), (2574, 0.0765828280221295), (4675, 0.07643992636923637), (2872, 0.0760851026760438), (2069, 0.0750867797651358), (3820, 0.07472524355057239), (824, 0.07401729859559553), (809, 0.07385760860368118), (3578, 0.07258087057117188), (3098, 0.07249172555840126), (4478, 0.07116093573982951), (4258, 0.07089163878457869), (2565, 0.07070566514058706), (363, 0.06952260300200548), (2609, 0.06931002786042281), (3439, 0.06913420027531618), (789, 0.06831327796575254), (4347, 0.06806984639664715), (3610, 0.06805975032932916), (3852, 0.06758945129110452), (1420, 0.06639013122818203), (1633, 0.06629155481214284), (298, 0.06624833578473083), (2795, 0.06618417404354004), (870, 0.06572854555860458), (1965, 0.06482744697256475), (368, 0.06397949232463074), (554, 0.06392884321195105), (3702, 0.06368079862261275), (4099, 0.0636063808388316), (2819, 0.06333111207338193), (1155, 0.0630169335013669), (2937, 0.06300941636269765), (742, 0.0619491185901436), (845, 0.06178506413596507), (1069, 0.06176038091302957), (2055, 0.06139292925254233), (1691, 0.06138483065681358), (2597, 0.06100167445370148), (563, 0.0609975923966871), (4569, 0.06098109760889937), (1258, 0.06089030046065247), (1867, 0.060838230933345), (2047, 0.06079372998514654), (4482, 0.060169843881656145), (3470, 0.05968566247641332), (1254, 0.05959735981635539), (726, 0.059583697017568986), (1898, 0.05950105665261221), (2744, 0.05918547349765186), (2874, 0.059135652677823294), (2185, 0.05913452957011579), (410, 0.05883416694629145), (3979, 0.0586064246134861), (2330, 0.05836320172731426), (25, 0.05817285571760829), (4210, 0.05755860697188413), (4070, 0.05737557481438489), (430, 0.05724441116164963), (4576, 0.05696120865364432), (4195, 0.05671235333369641), (4191, 0.05648357678243828), (576, 0.05640036295048425), (308, 0.05594743002745614), (3709, 0.05591228779534213), (2848, 0.05581607007932672), (3568, 0.055768211683807134), (2372, 0.055633961320039345), (2581, 0.05548189643965162), (2669, 0.05547562184118032), (2261, 0.05545816402040341), (3965, 0.05518828354961259), (4338, 0.055184926646004336), (2443, 0.05518279535621809), (2367, 0.05516042051632798), (977, 0.05511096861737724), (3033, 0.054700409039868454), (2351, 0.0545855498558327), (2136, 0.054550923820949365), (1176, 0.05428950245416833), (266, 0.054275395164980436), (1074, 0.054113242244490545), (3208, 0.05411271257035405), (413, 0.05385100958970383), (2016, 0.05345885769196467), (2490, 0.05324422433985301), (4259, 0.053144393264096236), (3271, 0.05305077038119678), (257, 0.05296697129749032), (2483, 0.052325699081579295), (2527, 0.052301671749544774), (3934, 0.052138165530418334), (4263, 0.05208873336600251), (3925, 0.052063111834951256), (2844, 0.051817734768800236), (1280, 0.051753403481817103), (3127, 0.05150868897926518), (383, 0.05135769669813517), (3149, 0.051291896472487365), (462, 0.05127775166035041), (4034, 0.051260996814503815), (2099, 0.05115630359135578), (1251, 0.050992275946694914), (3786, 0.050936361987896014), (3461, 0.050900230934256725), (1396, 0.050826701081638885), (736, 0.05076488974961683), (101, 0.05072695044108167), (2041, 0.050717418609127), (1515, 0.05066159692417192), (665, 0.05054309694200469), (1431, 0.050429316156899225), (1843, 0.05010067084667068), (3991, 0.050052180276132514), (2507, 0.05000134324268693), (1384, 0.0497447423743873), (2852, 0.04955643754281532), (3091, 0.049320065423808505), (1555, 0.04927006650000419), (2834, 0.049224399779376204), (3469, 0.04913976191174831), (86, 0.04911258901575294), (351, 0.04904164176182644), (3192, 0.04902389976061485), (2930, 0.0488158004932434), (3865, 0.04872252707988417), (1016, 0.04869557517436531), (3843, 0.04868288351613716), (1622, 0.04841096249067486), (2014, 0.04831660497401151), (3711, 0.048285969141848045), (2752, 0.0478531954827376), (2782, 0.04784152467128353), (1907, 0.047791084233730866), (2057, 0.0477603679052084), (2976, 0.04775571193742528), (794, 0.0477369059675911), (1697, 0.047680216889975195), (3353, 0.04753978436151199), (1788, 0.04744020658345589), (1529, 0.04743467285729089), (4037, 0.04737479317260436), (1632, 0.04721847875249961), (2440, 0.04674558534470511), (1631, 0.0467244027123518), (3121, 0.046633217930263024), (741, 0.046599154362961595), (835, 0.04656406407322619), (1756, 0.04644128638695744), (4378, 0.04642062441443058), (4477, 0.04638049959991026), (3580, 0.04633473148167397), (3310, 0.04630670821616497), (3884, 0.04618978107828909), (4181, 0.04598138975706749), (3996, 0.04595105543115537), (4017, 0.045921107114961224), (3282, 0.04590702390248054), (2650, 0.045893786859711884), (818, 0.04579630960962871), (1895, 0.04576241489872538), (3866, 0.045735254517841425), (463, 0.04564175389271143), (199, 0.04561997644329145), (4507, 0.04557338768774731), (3398, 0.04556957428777034), (1766, 0.04550382151368134), (2236, 0.04537994564876588), (609, 0.04531080220788135), (71, 0.045265696071066175), (4091, 0.04520842823330852), (935, 0.04520579383088936), (3397, 0.04499569909122018), (2729, 0.044934747881262185), (1600, 0.04491249212690919), (207, 0.04484134446123495), (4127, 0.044840988622183865), (3740, 0.044799441823855465), (150, 0.04478504379264005), (201, 0.04459408391368802), (2547, 0.044561787398339076), (569, 0.04452272749690288), (3196, 0.04451720020288728), (120, 0.044496901327058774), (2683, 0.04446792474060362), (2100, 0.04443021323879105), (4277, 0.04440254364158033), (3124, 0.04437570651895751), (1790, 0.0440376283517872), (1380, 0.043994038794763095), (1173, 0.04396231857193558), (2839, 0.043821603758970984), (1580, 0.04380701210090392), (3486, 0.0436408097623025), (1888, 0.04359222529327686), (2726, 0.04358692849277428), (4678, 0.04353314834002676), (2350, 0.04348404524948788), (1399, 0.043482271071532935), (2259, 0.04326918958299814), (3205, 0.04325451570784002), (714, 0.04324760741267325), (1670, 0.04318632037969004), (4454, 0.04316998652275893), (2189, 0.04309372175186022), (331, 0.042944343691777895), (3874, 0.04277180994456511), (2103, 0.04272683319838262), (1561, 0.04267582530560867), (367, 0.04253321549145051), (344, 0.04248636410964751), (3529, 0.04234875153475618), (1753, 0.042332145570591), (3424, 0.04222457239709006), (1414, 0.042219895470690105), (2412, 0.04209256035582691), (1852, 0.042002652221564615), (1425, 0.041948696463531866), (2672, 0.041941076719954236), (4283, 0.04194011584141559), (3406, 0.04189715950959117), (939, 0.04187772694020571), (36, 0.04180850796166816), (2216, 0.041743815613920425), (2198, 0.041701382224663644), (3561, 0.04161605930035971), (451, 0.041610427323693557), (365, 0.04155374858258283), (1548, 0.04153475841497135), (4056, 0.0414896102367847), (1588, 0.04148075134340293), (2635, 0.04147753492517628), (3862, 0.04146208633910175), (1432, 0.041329497943825996), (362, 0.04131410992062398), (2814, 0.041226506688205856), (862, 0.04120052085763636), (4028, 0.04113013890832547), (3907, 0.04108633485466008), (3377, 0.04108009118217503), (1067, 0.04106170772390184), (3668, 0.041031741914719276), (4754, 0.04098401357747264), (4459, 0.04097646826617242), (1847, 0.04096509444673599), (1578, 0.040917313031276936), (2680, 0.040828217006324864), (2012, 0.040709281368303346), (1786, 0.040629364536394735), (1656, 0.04058428966659234), (1405, 0.04055589748106799), (2489, 0.04045778697590754), (3501, 0.040354342137932875), (678, 0.040272366639030464), (3018, 0.040247562730264655), (83, 0.04022975019572331), (1178, 0.0401750441264194), (567, 0.04012220810571813), (2138, 0.040120615436011794), (1719, 0.04006986946103882), (2258, 0.04005798609420112), (2843, 0.039964585090240354), (1131, 0.03983210027059562), (3510, 0.039825125611017684), (2880, 0.03981482630968488), (2501, 0.03979195476188568), (361, 0.03972121099433605), (4187, 0.03968768432582215), (2927, 0.039650541375932755), (713, 0.03962651736753153), (990, 0.03953464114974348), (869, 0.03951407328318509), (3096, 0.039498294362336456), (4016, 0.03949245632372739), (4514, 0.03948705541993029), (3951, 0.039485268302588146), (2336, 0.03945421314790314), (3019, 0.039393828107287615), (4455, 0.03937518075492478), (1821, 0.039364127432445), (725, 0.039305841940457255), (1955, 0.03930524528772983), (3547, 0.03930245100001216), (1159, 0.03928863893923433), (1986, 0.03923944110074221), (1506, 0.03910771831658551), (239, 0.039084896671207646), (2434, 0.0390271242246058), (1213, 0.039001791198176546), (911, 0.03897935949639488), (4162, 0.03894929002454765), (3848, 0.03894789426207658), (2511, 0.03888248722013063), (4270, 0.03882945221125062), (716, 0.03864048688225834), (3290, 0.03860413300268088), (3351, 0.03855512095326357), (875, 0.03853053131901733), (3611, 0.03844967073920893), (107, 0.03837993972603498), (27, 0.03827706119219894), (3497, 0.03821662208817021), (2292, 0.03820595625384018), (396, 0.03814997675422496), (1466, 0.03814375951226309), (528, 0.03810119688934474), (1495, 0.038069674351913274), (151, 0.03806425360153058), (377, 0.03806232352547564), (2774, 0.03790950175559525), (4660, 0.03785600309925269), (2322, 0.03784339308344421), (1153, 0.037824727235251196), (952, 0.03781029462655378), (3086, 0.03778507210017181), (1255, 0.03772069996512183), (404, 0.0377015860873126), (1844, 0.03762068792272021), (3742, 0.0375820454537381), (4516, 0.037519930456297826), (3961, 0.037350896178105795), (3805, 0.037310483449823496), (4432, 0.03728086323368793), (2760, 0.037207852010736106), (2019, 0.03716265096371954), (3998, 0.037128932121246905), (2754, 0.03711199626305674), (3980, 0.03706711848973477), (2380, 0.03702671837685808), (535, 0.0370135135163361), (3886, 0.03701188326341227), (4406, 0.036997172591919286), (191, 0.03696614895173763), (3591, 0.0369452496084962), (2532, 0.03693866777688046), (1385, 0.03689464388313636), (1883, 0.03676925284095932), (4218, 0.036602111201275024), (2616, 0.036586827875306066), (2491, 0.03658149558395082), (2315, 0.036571081439861465), (444, 0.03656067487879936), (3279, 0.03649774025516112), (2383, 0.0364844082920516), (844, 0.0364744120924441), (359, 0.03643256166979186), (235, 0.03639180819097036), (3286, 0.036329652931841365), (1259, 0.036285510942008964), (1923, 0.03625594100663144), (1373, 0.03625176758797782), (3260, 0.036244550330913596), (4064, 0.0362149481054152), (715, 0.036106162393979346), (546, 0.0361037268195303), (1368, 0.03610362785008908), (1688, 0.03609644850187075), (1389, 0.0360835675303041), (250, 0.03607859182682029), (1659, 0.0360693546465615), (3141, 0.03605094437594811), (2158, 0.03603174970809263), (902, 0.03601188576657272), (720, 0.035988833060799655), (2624, 0.03590435465449548), (1302, 0.03590277797883687), (700, 0.03589839363402483), (3695, 0.03578895380014465), (1366, 0.03572227823078584), (2396, 0.035720437542107006), (253, 0.03569206115686759), (2884, 0.03567420011306505), (498, 0.035673558875492964), (2715, 0.03565900218223663), (2192, 0.03564841378073239), (3231, 0.03564541390123336), (2231, 0.03562958369860172), (1668, 0.03556811253769849), (3238, 0.03548672426303108), (53, 0.0354581697034515), (3662, 0.03538098691465387), (1945, 0.03537253395097929), (1871, 0.035337864392603446), (3551, 0.035302232256489034), (1784, 0.03527722965295067), (1103, 0.03517818645900958), (340, 0.035155472669269515), (4038, 0.035079702915370395), (305, 0.03507197268429074), (2766, 0.035049773512529456), (3780, 0.0350350409330704), (545, 0.03496764478269237), (1677, 0.03493041288150159), (2283, 0.034868798621588606), (3846, 0.03486801636981956), (2590, 0.03483368303793821), (3216, 0.03480690813795818), (752, 0.03475970995310761), (1090, 0.034742686882962295), (3089, 0.03464811446520256), (297, 0.03461604850905439), (301, 0.034611481285632587), (2584, 0.03461001022695182), (2553, 0.03451051410446609), (3815, 0.03450072911913271), (468, 0.034481299954465375), (3521, 0.034428316113883264), (3647, 0.034413385222780646), (502, 0.03435140909365138), (147, 0.03434659518067151), (1308, 0.03433074016785341), (474, 0.034302273876296446), (930, 0.034222107913483735), (2585, 0.034174990582631896), (3885, 0.034124987266148), (3227, 0.034120288622258695), (193, 0.03408922457794286), (220, 0.03408704707957281), (551, 0.034077573972034696), (1841, 0.0340312054167244), (3001, 0.034020228809703894), (35, 0.03400090839875113), (1851, 0.033986756234051806), (11, 0.03397902374262149), (1820, 0.03397710670970447), (1932, 0.03397568245308459), (3689, 0.03393987094353713), (1195, 0.0339166031933671), (3, 0.03388017336160917), (3612, 0.03385279236916295), (2309, 0.03381477760890666), (1310, 0.03377282350244241), (3770, 0.03371610329864651), (1612, 0.03369742896412191), (2474, 0.03366524263666324), (37, 0.03363823155784703), (1355, 0.03360204078751534), (4523, 0.033582705308967335), (2784, 0.03353850437892199), (2335, 0.033510023646735866), (2389, 0.03337795035544199), (1997, 0.0333537601819959), (980, 0.03332299721399294), (3272, 0.033301501785137404), (568, 0.03327097856471594), (1601, 0.03321443213577161), (1807, 0.0331927577581504), (2235, 0.03313077590278206), (4613, 0.033123583216593186), (4346, 0.03308460443289963), (909, 0.03307022796218563), (1614, 0.0330597351525074), (3133, 0.032997441428697934), (2719, 0.0328952055327185), (2284, 0.032821664652137914), (2219, 0.032766192774045515), (1954, 0.03272372580327643), (299, 0.03271463669012193), (963, 0.03269545771613666), (751, 0.032686066647959894), (4409, 0.03261874659636626), (4543, 0.03259462532424583), (3624, 0.032508798245869705), (724, 0.032494290304722034), (343, 0.0324865595228533), (1604, 0.032440974898487025), (3058, 0.032426784079842494), (4033, 0.032386871867669254), (1591, 0.03236577317440771), (1815, 0.032350119738821244), (2577, 0.03232664141623754), (562, 0.0323134793415847), (3102, 0.03227777562813115), (1110, 0.03225293395299558), (656, 0.03225226977797461), (3478, 0.03224212825957588), (3588, 0.032195226603835864), (4747, 0.03216237407112395), (1727, 0.032130945641958), (2688, 0.032103175637717266), (4309, 0.032026320634158674), (2345, 0.03200348550536768), (953, 0.03195599317347571), (3954, 0.03193736131574555), (3428, 0.031926944729852316), (348, 0.031916905229004214), (4390, 0.031901308055214454), (1953, 0.03188212995061898), (2589, 0.03187150772946552), (2615, 0.03183113159772137), (1989, 0.031807390201120306), (1011, 0.03177613959205836), (2183, 0.03177581008280547), (2629, 0.03172345930921272), (364, 0.03170078538972232), (2463, 0.031692570360121484), (3614, 0.03165951705249884), (478, 0.03162788358796673), (3444, 0.031562528549576356), (865, 0.031522017968555326), (1334, 0.031514498271199065), (1433, 0.03148258837754743), (3751, 0.03146208166774608), (179, 0.03145043773490679), (2279, 0.0314149299696072), (1374, 0.031312276088203264), (3817, 0.03129955690725933), (1700, 0.03129388174084038), (3462, 0.031286996292595425), (300, 0.031172347363049885), (3465, 0.031166961485236643), (4043, 0.031149194348436438), (1969, 0.031115228081235142), (1076, 0.031079464292345843), (3411, 0.03105704356899696), (697, 0.031032454080667644), (1664, 0.030988811494892368), (649, 0.03093917507943927), (1170, 0.03093799003378949), (247, 0.03093765065643558), (2081, 0.030935957566095393), (2371, 0.030891709203890654), (3466, 0.03089028205740806), (3130, 0.03087147862726261), (1246, 0.030807118636073196), (347, 0.03080326945699323), (1938, 0.030799931150278126), (48, 0.03079245529902014), (3811, 0.030775361383046256), (3978, 0.030753140325435455), (3320, 0.030661345870166244), (3477, 0.030643574722692378), (4196, 0.030636854013026932), (570, 0.03057815260071451), (2594, 0.03057749267516555), (70, 0.03056623983418557), (279, 0.0305613953935735), (1683, 0.03051593257796191), (3728, 0.030494457720227325), (3143, 0.03047477265552426), (1764, 0.03043033289666698), (1442, 0.030392744889213286), (3515, 0.030383628508435206), (3539, 0.03038168015512726), (2086, 0.030372345171713073), (233, 0.03029915606616379), (4281, 0.03028561826599896), (2416, 0.030256506741658494), (3269, 0.03022962010414512), (192, 0.030225683997404662), (1793, 0.030219360485933513), (1646, 0.030182659527050383), (3472, 0.030174682449433), (2316, 0.030137853186901833), (1462, 0.030096633857496006), (2560, 0.03007459656026854), (781, 0.030032297801929755), (1430, 0.02997996429466307), (4071, 0.029965448756027913), (49, 0.02995421909950243), (1142, 0.029875163114029067), (352, 0.02982296511712228), (899, 0.029721204599814987), (3710, 0.0297099649815645), (4199, 0.029691708981061), (1613, 0.02966227883676127), (1971, 0.029646884061215354), (3790, 0.029639852087848417), (3246, 0.029625856276400506), (1539, 0.029618785771390807), (3696, 0.029605709076905233), (4699, 0.029565363597308898), (1981, 0.029561839269767916), (1850, 0.029555746647742968), (2143, 0.02954641896995199), (883, 0.029520371038697608), (961, 0.02950487657209246), (1590, 0.029504115187332865), (624, 0.029490961819875088), (4301, 0.029454004880258945), (2456, 0.029432968268480027), (3334, 0.029403218042977516), (1730, 0.029394697576506913), (3613, 0.029377616587217936), (2013, 0.029358731005824153), (3953, 0.029335721304710502), (732, 0.029292032688508243), (1818, 0.02928468010705145), (2929, 0.02926503331497011), (1726, 0.029263288259838975), (1525, 0.029238650651674046), (3632, 0.02914846456116012), (3812, 0.029025410094735034), (1203, 0.029015562407170972), (3752, 0.02901224552799551), (2940, 0.028951548698595342), (3785, 0.028919026252436857), (1926, 0.028782390329916148), (137, 0.028772061860463237), (277, 0.028761388164867237), (3233, 0.028749844114065854), (1294, 0.028688669926158594), (403, 0.02868234191046485), (2421, 0.02866801042263457), (4570, 0.028610480823693468), (1804, 0.028603696508065716), (2813, 0.028577957724199972), (2548, 0.028554788747965208), (4323, 0.028531184534344334), (2549, 0.02849758484131788), (1149, 0.02848896172204253), (4087, 0.028485535239606702), (1553, 0.028455528043937688), (2520, 0.028444871927997228), (130, 0.02840594952905853), (4341, 0.028390857590302413), (2295, 0.028390450318076448), (461, 0.028342992582340392), (4004, 0.028341223415157074), (1196, 0.028330996439543447), (188, 0.02833098597091725), (2477, 0.028311283472238685), (2203, 0.028277767822407998), (1838, 0.02827762258822208), (4391, 0.02824230506937194), (586, 0.02821569332781359), (1913, 0.028141952167479965), (3958, 0.028138913170998068), (153, 0.028130005073289225), (3284, 0.028116459050017806), (2592, 0.028079844487784052), (378, 0.02806582345193339), (1575, 0.028056876804237563), (4031, 0.0279784240023476), (4310, 0.027974447872546517), (63, 0.027939729977929085), (3137, 0.027903129518793174), (280, 0.027873067305674737), (1616, 0.02783134080619376), (843, 0.0278288510979834), (1771, 0.027802408844865924), (4140, 0.02771339170926897), (1758, 0.027676198151894326), (662, 0.027649261730675674), (2269, 0.02764321831201885), (1763, 0.02761034971617125), (891, 0.02760236382138975), (2959, 0.027585450292648327), (3161, 0.027569333149016998), (1318, 0.027560795519104054), (672, 0.02755647727750194), (3933, 0.027546180620490118), (3731, 0.027496152324571768), (58, 0.02743524502697671), (1051, 0.027379731432791342), (84, 0.02736264957765213), (3323, 0.02734719963241047), (4352, 0.02730702799122101), (2871, 0.027296816433972297), (4609, 0.027273083655175112), (1199, 0.027261161235963168), (2095, 0.027173707073734565), (4275, 0.02716938616294582), (1537, 0.02715573720686177), (2072, 0.027152711128159323), (72, 0.02710302136826606), (2502, 0.027085723223061086), (849, 0.027069017110387464), (877, 0.027061842119239374), (1999, 0.027035835084640962), (3698, 0.027021292126022667), (283, 0.026965669380317074), (859, 0.02695614285711949), (1136, 0.026913626676870063), (2985, 0.026893471001041808), (85, 0.026884513083110354), (3487, 0.026869289866948382), (2381, 0.026684778233658606), (1101, 0.02663459021278595), (131, 0.026548193711193758), (1630, 0.026516680747484266), (3735, 0.026484709354273623), (4036, 0.026466324019738), (4266, 0.026441526266267317), (2133, 0.026432989069136433), (1610, 0.026402796597028946), (2646, 0.026383917960977922), (807, 0.026372993473447168), (387, 0.026356499885669696), (1206, 0.026302634632756297), (3628, 0.026172623637002804), (491, 0.026172405572963166), (1665, 0.026166211527921444), (3641, 0.02615994470171704), (2365, 0.026149532646920458), (957, 0.02603953405721302), (3550, 0.025959029795822593), (4086, 0.025899209694274894), (399, 0.025895020797066046), (2265, 0.025888442490877888), (1640, 0.025850266508020556), (4118, 0.025809855325528493), (3814, 0.025774064924473577), (1082, 0.02573546745557362), (4135, 0.025724003722430958), (4492, 0.025710619817018877), (604, 0.025701809608791773), (2637, 0.025696589881602287), (2453, 0.025684949564624457), (4351, 0.025666725067666967), (1731, 0.025659998489875768), (228, 0.0256287387667242), (1628, 0.02557057968492082), (1333, 0.025522984906688632), (2867, 0.02551697366739885), (2500, 0.025371646290523596), (541, 0.025345751517229193), (1855, 0.02533547583456646), (703, 0.02533111078955482), (4216, 0.025323486457582714), (1013, 0.025289468324145473), (1298, 0.02522371771184495), (3574, 0.025218986126265136), (3587, 0.025218842437330885), (346, 0.025203556990854352), (712, 0.025194706478993363), (2767, 0.025154367119346766), (836, 0.025140036090148865), (912, 0.02507611571543168), (2956, 0.025057971223592636), (2779, 0.0250146544964221), (3360, 0.02499312056793259), (1684, 0.02497975209226975), (803, 0.024977473238322574), (2830, 0.024915912779444424), (144, 0.024901939990974366), (1911, 0.0248547433003153), (4742, 0.024854106354558737), (1943, 0.024821474601763413), (3891, 0.02481486862960511), (4136, 0.024811755944668765), (1240, 0.024811488715290757), (1982, 0.024810133083838247), (1165, 0.024792045890211223), (3023, 0.024791995632206777), (408, 0.024774546054804104), (1581, 0.024743102797803944), (3287, 0.024742621898920496), (3387, 0.02472216457347416), (4395, 0.024675459275265578), (3847, 0.024668194990017774), (3697, 0.02466358028120743), (1961, 0.024656386449981967), (184, 0.02460890799239227), (1370, 0.024588807011161326), (2530, 0.024447005487403202), (2120, 0.024417630562373043), (1085, 0.024399616081427183), (866, 0.024360238985181006), (219, 0.024351753835937923), (2742, 0.024329102781790363), (4676, 0.02430028631380151), (1889, 0.02429888852279138), (2708, 0.02427742443916102), (456, 0.024245397734941915), (2758, 0.024219364920156174), (1448, 0.024212569503914972), (1150, 0.024146879014416256), (2554, 0.024144786510596244), (4282, 0.02412087230209893), (669, 0.02411051765922792), (232, 0.024104059529765597), (3460, 0.024095832647345997), (6, 0.02408728175322918), (2652, 0.02407890525080842), (2153, 0.024064798779893017), (43, 0.024051901386918824), (1468, 0.024009485977333843), (3569, 0.02396029169072035), (1014, 0.02394156104813211), (4457, 0.02384576118462762), (1496, 0.023834604016441583), (946, 0.023817350499581964), (17, 0.02378141101423705), (853, 0.02373600886490951), (3705, 0.023711468399202858), (1198, 0.02369144763552775), (1007, 0.023690821574078896), (571, 0.023669653358853824), (1598, 0.023626302531251732), (3316, 0.023614852509978867), (804, 0.02356834339650636), (4194, 0.023558767961132168), (3880, 0.023530328886204942), (2039, 0.02350736016287343), (1603, 0.023493955901365007), (3685, 0.023480159353526275), (3630, 0.023479049751470922), (231, 0.02347609781578141), (2329, 0.023475778644164048), (196, 0.023473095761292688), (117, 0.023456789501848076), (55, 0.023392551990397113), (2822, 0.0233766859292391), (2763, 0.023373898368862146), (2504, 0.023368036368158547), (3753, 0.02336600163183585), (4112, 0.023361806542649095), (4419, 0.023338987896817022), (2691, 0.023291572738382102), (4057, 0.023291396235183073), (3798, 0.023221926355125894), (14, 0.023209720956460025), (345, 0.023196574448979445), (615, 0.023190833548632987), (2150, 0.023177247744822528), (522, 0.023119891209815505), (3366, 0.023114989221401903), (3463, 0.02309406548862185), (4303, 0.022982978760744493), (1045, 0.022956182330875485), (317, 0.022944722523771784), (4294, 0.022929165743730225), (1111, 0.022877445989897854), (951, 0.02286642254459084), (2955, 0.02286157934619018), (2050, 0.022821677169142844), (653, 0.022798773779092743), (56, 0.022793631068262824), (3404, 0.022777572958767558), (1386, 0.022760439905438867), (1327, 0.02275944435002058), (592, 0.022738276708818502), (54, 0.022735538388931983), (45, 0.022715095891052167), (2517, 0.02264167290885804), (4599, 0.02263309938701941), (185, 0.02262718339602024), (542, 0.02260961716409296), (4581, 0.022596017657572617), (1175, 0.022593453977488763), (2472, 0.02257513057482744), (1346, 0.022515390891635956), (1908, 0.02250647136337287), (3577, 0.022473303160766005), (4358, 0.022378381295478637), (3492, 0.022359945426495102), (2938, 0.022297099724655697), (610, 0.022258854609238557), (2450, 0.022249371760938448), (4188, 0.022244147805463), (1341, 0.022231416447709207), (0, 0.02220844178563958), (674, 0.022192206178720007), (4509, 0.022160507163538193), (745, 0.022128850375865775), (2847, 0.022103505920247735), (613, 0.022066795010748274), (409, 0.022035110683236), (1217, 0.02202028666726679), (1079, 0.022009533842061575), (3923, 0.021991555968089868), (3395, 0.021986832257317183), (920, 0.02197178326545588), (4526, 0.021938629467525166), (1408, 0.021917037170159956), (3454, 0.021899296965618573), (2125, 0.02188970276024852), (2555, 0.021872866917194277), (1713, 0.021841413818636933), (2654, 0.0217064206213912), (2379, 0.02169373561670366), (3459, 0.021642224864776287), (2710, 0.02162685919995461), (4160, 0.021565606126865915), (2741, 0.0215498843780236), (3317, 0.0214623836343608), (2641, 0.02145293978248694), (1474, 0.021450638979899274), (2806, 0.021301877308836197), (497, 0.02129859407251376), (1460, 0.02129371063419634), (686, 0.021258255302667693), (91, 0.021188673336190785), (3783, 0.02111507170441633), (4292, 0.021093034483295067), (3948, 0.021058642875557178), (2376, 0.021051684431652538), (3566, 0.021029321135112407), (3408, 0.02102925389292036), (2210, 0.02101054648028342), (1509, 0.020972208162989094), (3297, 0.020965839071120762), (2433, 0.020959193492278653), (3803, 0.020940491980317288), (2550, 0.020897549390755374), (1649, 0.020864307506876685), (2331, 0.020811006785764558), (3796, 0.02079013237244502), (3142, 0.020782901381536135), (2171, 0.02077937493781158), (2539, 0.02077695449970833), (73, 0.020720925104660167), (9, 0.02071748517568665), (1521, 0.020670959241440384), (2451, 0.020658252631194387), (168, 0.020594372644067216), (382, 0.02059126775143243), (2411, 0.0205912363344969), (2469, 0.020516040102328246), (159, 0.020508468396766504), (218, 0.02043874609014064), (2006, 0.02041136031402462), (2337, 0.020364168560939745), (1392, 0.020346247214721724), (177, 0.0203042068859594), (1328, 0.02028359872649086), (3557, 0.020264497800206855), (4055, 0.02019261575833326), (1836, 0.02019063052581005), (4324, 0.020159255990918508), (681, 0.02015718762209384), (699, 0.020132742360655986), (385, 0.020130602434692446), (3204, 0.020122079532315155), (2296, 0.020105327136645788), (3871, 0.02007568641141025), (2740, 0.020046527857616705), (954, 0.02000863468349287), (1774, 0.020007778773731857), (141, 0.019973818551308996), (940, 0.019957911287440684), (2281, 0.01994253377621088), (882, 0.01984505455793317), (2332, 0.019821445380787762), (1283, 0.01968787933830484), (4168, 0.019671928396812116), (1936, 0.019658575729876747), (2199, 0.01956720320744567), (3892, 0.019540832338524702), (3394, 0.019524119888404374), (2887, 0.019489661696200606), (1732, 0.019435661745389927), (4501, 0.01943291410786932), (336, 0.01942636377655985), (1522, 0.019423275583183547), (1706, 0.019409773462030655), (2414, 0.01938874058995791), (3482, 0.019352351505584182), (2111, 0.019327529958006164), (3078, 0.019315903414347906), (3464, 0.01927258153618122), (4364, 0.019252857117378595), (391, 0.019251830926658657), (2364, 0.019243390622073447), (3051, 0.019235963877570574), (415, 0.019207292513409916), (1798, 0.019113591806866753), (1306, 0.01910223972937858), (204, 0.01899805752501562), (2656, 0.018979078521633812), (3162, 0.018962278188809557), (1358, 0.018956787480424037), (2423, 0.01894380684502684), (639, 0.01890440266211155), (3657, 0.018892469559481526), (4552, 0.01884899446512381), (640, 0.018741789400182163), (1607, 0.018731281177165583), (599, 0.018730890027571917), (3671, 0.01871124568245354), (238, 0.018547128598565044), (421, 0.018510253919089385), (3111, 0.018495425821765176), (3826, 0.01849164933574163), (2746, 0.01848963400912248), (57, 0.018463617962316575), (28, 0.018463095101349202), (2117, 0.018450074455114793), (1533, 0.01844625772164595), (3386, 0.01842556134214223), (1810, 0.018389294678891985), (2473, 0.01831842070131833), (1755, 0.018303373665102624), (381, 0.01828509431374401), (822, 0.018261660570259), (4726, 0.018258988905181444), (3554, 0.018196368073969373), (1266, 0.01816429771716542), (2781, 0.018115319840213105), (1307, 0.018100921708812397), (2756, 0.018095717722544567), (1939, 0.018050821679016102), (4542, 0.017978834630897743), (4611, 0.017974793736787217), (4483, 0.01793149401807241), (4190, 0.017927572768964766), (2807, 0.01783986255928458), (2297, 0.017824515298221225), (1690, 0.01777713119024411), (4009, 0.017772464907466902), (1592, 0.0177492001624064), (4711, 0.017741351305433195), (1114, 0.01771626720790129), (3763, 0.017715422396429606), (65, 0.017655820760732334), (457, 0.0176537002163194), (1261, 0.01760643386744397), (339, 0.01759757868813823), (3256, 0.017522575121308892), (4405, 0.017480995796931405), (3726, 0.017349418605147163), (4010, 0.017344605708752896), (1190, 0.017288863779371715), (2242, 0.017284520451122564), (508, 0.017284019865028782), (1363, 0.017258062225829082), (3858, 0.01723738157252576), (2286, 0.01723368888833976), (1418, 0.017208429908371042), (19, 0.01717806163548543), (1256, 0.01716971747633074), (2223, 0.017091289472025914), (2873, 0.017072799407599797), (4737, 0.01704392313902541), (1903, 0.017010888817453256), (2170, 0.01700576867911928), (519, 0.016983123823425213), (3732, 0.016941992884067943), (3822, 0.01687808356658396), (2810, 0.016846805436666702), (2799, 0.016824250829168528), (3221, 0.01681245935956944), (770, 0.016796088567858303), (2497, 0.016794911168444053), (3080, 0.016754937624317505), (661, 0.016702070157088904), (3003, 0.016698429157810057), (242, 0.016653381122018283), (842, 0.016631302770565567), (1669, 0.0165926131562805), (338, 0.01659082710287814), (2049, 0.016571750805604538), (2033, 0.016540987530749306), (3342, 0.016532799272345543), (3581, 0.01652432613754201), (1650, 0.016509625517291716), (2352, 0.016438401740552475), (3302, 0.01643062765280887), (3234, 0.01643061606685256), (3181, 0.016380127278287922), (527, 0.01635963309017085), (2604, 0.016358668773024904), (1569, 0.016327469365057235), (4207, 0.016313511414353648), (2082, 0.016307348406389824), (1750, 0.016251533681089614), (2837, 0.01624605492122486), (146, 0.0162143588769959), (4237, 0.01618947811799413), (3943, 0.016157422898503398), (1520, 0.016136365873327688), (1652, 0.016129904954996516), (4371, 0.016119416111861823), (405, 0.016114817872349807), (4173, 0.01608287864781112), (2260, 0.016080178421228712), (2285, 0.016020714214513055), (3236, 0.015987459423776457), (392, 0.015967372659958495), (3084, 0.015942898259184046), (851, 0.015930472680428066), (2516, 0.015927148886354013), (1934, 0.015897487452476183), (3172, 0.015837688443911146), (1968, 0.015836733607296195), (3187, 0.015818417037248587), (3189, 0.015792937073085753), (1336, 0.015783392423028113), (3835, 0.015781850681418016), (1249, 0.015765467719753803), (1212, 0.015687760187983388), (2531, 0.01566585343579735), (1309, 0.01566290713666443), (1513, 0.015658682685998102), (1321, 0.015653961930937314), (756, 0.01563423611564792), (3229, 0.015611632549809237), (4756, 0.015602459757040235), (1602, 0.0155960173126817), (60, 0.015555702902287884), (1143, 0.015535296230800423), (3355, 0.015514420714989624), (730, 0.015477848785203668), (3722, 0.015455189122759278), (1557, 0.015446093843093419), (2856, 0.015439583792358087), (125, 0.015438156272603308), (4329, 0.015434487338462763), (245, 0.015418727349654684), (3912, 0.015357184887249613), (2290, 0.015339379693150693), (2582, 0.015335138698993288), (2864, 0.015328736993634321), (3606, 0.015326470246752075), (1166, 0.015322644026595762), (2437, 0.015306500955006401), (3629, 0.015290602237483443), (1361, 0.015269244766157247), (2896, 0.015264730926377534), (1204, 0.015251261617639116), (3559, 0.015242099664756408), (2211, 0.015237239273088034), (3650, 0.015231159427241693), (2164, 0.015224153731844353), (1769, 0.015190216257280889), (2479, 0.015188475874567113), (312, 0.01513582482299999), (2449, 0.015129164661373417), (3385, 0.015114052700465163), (3062, 0.015079517300158954), (1505, 0.015075326163042236), (3926, 0.0150559685820051), (1332, 0.01502495137721778), (931, 0.015021436820941782), (2046, 0.015013075974205474), (538, 0.01500046758381417), (2733, 0.014979948170337723), (3673, 0.014970936566739496), (78, 0.01496605555528708), (3545, 0.01492007641346688), (956, 0.014902169064133303), (2358, 0.014888720485102865), (1837, 0.014884278887405705), (2575, 0.014866285917257409), (2287, 0.01485397046412652), (2435, 0.014843483877315378), (2018, 0.014832516813708754), (3350, 0.014829588238862263), (162, 0.014811438938660375), (1849, 0.014798102695335429), (1043, 0.014736677276628597), (1084, 0.014729218544022739), (459, 0.014726493437014538), (4101, 0.01471854152678863), (4556, 0.014704966639468369), (2087, 0.014702172644886494), (3066, 0.014686347445155092), (887, 0.01466304858827124), (1511, 0.014643490579299166), (1235, 0.014598907104000833), (2461, 0.014574622059950013), (872, 0.014561248641124108), (773, 0.014541448059113601), (4314, 0.014494235797455842), (3184, 0.01448419504687603), (2562, 0.014482238664316721), (3562, 0.01447889296860756), (991, 0.0144755086399371), (1572, 0.014472660475393284), (395, 0.014468388241651128), (4167, 0.01446608023747929), (4021, 0.014441084022120274), (4557, 0.01442793456279097), (1099, 0.014422747231444474), (3571, 0.014416207764405877), (2208, 0.014415995731716534), (3503, 0.014414030226231101), (180, 0.014410455041153302), (418, 0.01438709240973406), (2755, 0.014382457532032008), (1401, 0.01436257482341637), (1839, 0.014354930243825993), (1744, 0.01434005300922739), (493, 0.014317923757630548), (206, 0.014305003533827805), (1320, 0.014275034144938411), (1878, 0.014272577308034086), (2714, 0.014272002752203385), (3990, 0.014261719621180722), (1487, 0.014251891700391279), (483, 0.014238265210599902), (2249, 0.014224250062484432), (4566, 0.014215765913764687), (1400, 0.014215028842694417), (3646, 0.014213567415888391), (477, 0.01420205556157456), (2605, 0.014198562259887523), (2972, 0.014168957805262119), (2812, 0.014166299088366661), (1663, 0.014161063502424276), (1783, 0.01414365399572955), (793, 0.014125703026321216), (1244, 0.014029753095193831), (2052, 0.014018630611429477), (2327, 0.014014827412834193), (59, 0.014013579123702208), (2353, 0.014003945737449057), (2201, 0.013983287442938079), (4356, 0.013979720323193483), (1291, 0.01392395115898993), (3191, 0.013883140993181784), (1108, 0.013878187606754536), (2444, 0.01387409619535412), (1477, 0.013864730504067873), (1587, 0.013845222173820188), (3389, 0.013824877122234376), (2551, 0.013820116391513622), (2666, 0.013818305244120664), (2484, 0.013815156399586746), (3445, 0.013810704951332858), (3522, 0.013801665318218815), (641, 0.013773853410397557), (945, 0.013772420940283766), (1524, 0.013766948167551158), (2207, 0.01376176804718562), (1611, 0.013745642069903176), (1250, 0.013744627940439519), (2073, 0.013743793673447422), (1714, 0.0137432374762264), (1577, 0.013720293301377057), (182, 0.013710015417290847), (4300, 0.013707873823521184), (3563, 0.01370013806950406), (2885, 0.013675671042710967), (1388, 0.013660781487208812), (414, 0.013655772390595605), (4500, 0.013654960172126824), (1998, 0.013648043375800164), (4447, 0.013637615018017444), (264, 0.013620276951806783), (1510, 0.013613929134330073), (2804, 0.013605716604643329), (1512, 0.013573168247371656), (965, 0.013571812736775976), (1278, 0.013555723548466025), (2262, 0.013542310288757449), (1022, 0.013539347048391312), (1223, 0.013537486684214199), (3716, 0.013510135406853184), (1238, 0.013508836376620665), (2512, 0.013503956220244244), (3219, 0.013502910375440123), (1172, 0.013501716196015772), (2448, 0.013493851329825439), (1129, 0.013490418754774828), (2591, 0.01348584872741155), (1378, 0.013473874385667875), (3416, 0.01347270725733798), (3633, 0.013462590397367996), (2521, 0.013451870343547924), (3174, 0.013449325202915134), (2569, 0.013439963143817284), (3276, 0.013438175752968741), (1126, 0.013430965877684286), (3733, 0.013427182087441054), (2298, 0.013421969388906711), (4740, 0.013413938475443688), (181, 0.013395561598673125), (1025, 0.01339532552506785), (2643, 0.01336296273007789), (3485, 0.013357479631201062), (375, 0.013327268308436302), (1830, 0.013319145711320216), (1394, 0.013317864929795309), (61, 0.013313816813026947), (2257, 0.013302814209675726), (1253, 0.013297133003917624), (880, 0.013291681201941418), (3093, 0.013271452474001275), (2901, 0.013265897874762164), (2154, 0.013234756162111677), (4066, 0.013200807368410464), (2102, 0.013183392169645675), (1482, 0.013139066323135867), (230, 0.013132673943172319), (1113, 0.013130425092903398), (2642, 0.013104513740191098), (3582, 0.01310305910263278), (4564, 0.013096408263966254), (1293, 0.013073447211194501), (1245, 0.013071807381923468), (2721, 0.013061365511604459), (2062, 0.013057673682671895), (1231, 0.013033719839804395), (1490, 0.012995711152309283), (1711, 0.012957092961572866), (3126, 0.012914459982411855), (1738, 0.012912316699534136), (4272, 0.012903634691501648), (3970, 0.01289769612666738), (4279, 0.012895743212493429), (1008, 0.012880575594079142), (1993, 0.012875465853566288), (263, 0.012871503369113468), (1218, 0.012864731691934231), (1088, 0.0128497915674816), (1523, 0.012842082163512857), (4242, 0.012836246261280668), (644, 0.012810483972334093), (819, 0.01278166372705543), (2094, 0.012761140498515677), (434, 0.012757799047129197), (903, 0.01274966426169627), (116, 0.012727505191175274), (3723, 0.012726609679962878), (2851, 0.012712412218788837), (1300, 0.012710505526482152), (4437, 0.012681497187055532), (3609, 0.012680122075463427), (4011, 0.012664766241140577), (3481, 0.012650995442800766), (2568, 0.012636899849789216), (417, 0.01263408343183485), (2603, 0.012624896515443788), (1222, 0.012601239316298715), (492, 0.012590433388383473), (3620, 0.012581716210494073), (2682, 0.012581666811394603), (2093, 0.012579450570453054), (2513, 0.01250704783614171), (1987, 0.012485299966355008), (3212, 0.012461306988838657), (821, 0.012456808647363978), (136, 0.012453116350028466), (1242, 0.012442828400819473), (355, 0.012434755058710832), (122, 0.012422418212800358), (3607, 0.012414929296417796), (1168, 0.012407474384752575), (4177, 0.012394862845958058), (411, 0.01237774917708393), (1288, 0.012375544830408577), (3738, 0.012334611794415), (1567, 0.012320971440773435), (1055, 0.012313513206649123), (4730, 0.012308388616611172), (1990, 0.012285901706457377), (2426, 0.012259634759394964), (2772, 0.012239537466405244), (1171, 0.012215486658237623), (1695, 0.012166747887431613), (3081, 0.012159851814410365), (594, 0.012157303961536033), (3524, 0.01215666596996764), (691, 0.012149028844105344), (627, 0.012054271018365797), (3540, 0.0120511410491771), (3598, 0.012040426995429518), (3635, 0.012035800317091038), (1268, 0.012033991231749978), (1676, 0.012002199430847163), (495, 0.01192726167331546), (1797, 0.011924421125203158), (2074, 0.01190503828307316), (3232, 0.011892106533919871), (1194, 0.011883707526757447), (3239, 0.011849685567936545), (480, 0.011833346725638816), (1379, 0.011789212149901439), (2267, 0.011781150239088373), (1397, 0.011762147066363826), (3473, 0.011735593568924419), (2559, 0.011702497967243928), (4418, 0.011691725469696568), (2075, 0.011664507480222405), (1833, 0.011646848100567573), (4718, 0.011588144955551327), (2579, 0.01158160760219448), (2916, 0.01157346243364073), (2485, 0.011563510838242587), (4396, 0.011559996813966768), (3505, 0.011546996403480819), (3593, 0.011534093340376937), (779, 0.011527372746448907), (1627, 0.011527364170915622), (1565, 0.011526750839409414), (4397, 0.011499231631164198), (4515, 0.011497579417804037), (2324, 0.011485853791159944), (3832, 0.011473947019202554), (3682, 0.011472331905837175), (1046, 0.011453930940919982), (2176, 0.011406158472771884), (4142, 0.011381450872223697), (3116, 0.011354090762033468), (2114, 0.011353034724449637), (2390, 0.01132693706034418), (2619, 0.011318478557632126), (3816, 0.011315198391284968), (2717, 0.011303815933586947), (531, 0.011284557340317278), (3813, 0.01127374006008508), (2614, 0.011219124516995254), (3938, 0.011202948652928577), (3704, 0.011165766413402254), (341, 0.011125273455867207), (3112, 0.011110567097701895), (1326, 0.011103397347188328), (3638, 0.011098979230316143), (2263, 0.011089421586532063), (2462, 0.011070731052186472), (3480, 0.011057293960498036), (1141, 0.01104197302349154), (2393, 0.011026522661247299), (914, 0.011022324806942789), (3457, 0.011015383603036152), (2032, 0.011013814897140076), (2704, 0.011013483582688865), (1116, 0.010946106799687362), (4662, 0.010932471220772594), (1115, 0.010929121344355527), (2196, 0.010926501663418351), (1531, 0.010917180654782291), (4519, 0.010912012904143186), (3631, 0.010901128000074345), (470, 0.010897442163043378), (2419, 0.01085526729482765), (3744, 0.010834075059802184), (225, 0.010809268024074302), (3448, 0.010799160385320042), (717, 0.010774992590927278), (3206, 0.010770714608252612), (2319, 0.010733773517803925), (4559, 0.010725226909721861), (3536, 0.010720839664661226), (4340, 0.010686361604047102), (2893, 0.010658416191274271), (2895, 0.010655630235689465), (1201, 0.010644367008039366), (2668, 0.010631298272865533), (2466, 0.010611247518088337), (1467, 0.0106088044779595), (926, 0.010608586876602022), (737, 0.010600826135511792), (3701, 0.01059265813120901), (4146, 0.010579456679591412), (2567, 0.01056392205040016), (1958, 0.01054652373670282), (2030, 0.010544444298968269), (1182, 0.01054187271316752), (1704, 0.010532485954112618), (4380, 0.010515077840187214), (2304, 0.010501370230187972), (3643, 0.010496676977355781), (2430, 0.010483043065055054), (2707, 0.0104480978372107), (3950, 0.010447813119556667), (3335, 0.010439641543582496), (1109, 0.010421872902650018), (4589, 0.010419615659090754), (3967, 0.01038996883522186), (4604, 0.010388234119821699), (4238, 0.010388092558575694), (1547, 0.010368275007594581), (2583, 0.010360714926610752), (2662, 0.010358883048425369), (4026, 0.010355277506008898), (2951, 0.010354466946807209), (2831, 0.01034429457395385), (2427, 0.010340487211467643), (4330, 0.010338185631496865), (4427, 0.010320826870080863), (1398, 0.010305298498001875), (1720, 0.010291138439003119), (3807, 0.010278247988604211), (3419, 0.010273381654025677), (1803, 0.010264338328226678), (423, 0.01025517298455857), (3532, 0.010249534970868135), (490, 0.010231483163078555), (2408, 0.010231384802197511), (1381, 0.01021575409037708), (1563, 0.010211124386229174), (3903, 0.010196695408859209), (3972, 0.010196273487538952), (3476, 0.010189995085841473), (3746, 0.010171292411939741), (4020, 0.010136576586606803), (2980, 0.010133475441654768), (537, 0.01013322081857534), (3379, 0.01012999407666522), (4157, 0.010125241639604904), (2776, 0.010122704900921311), (424, 0.010107818447522938), (3983, 0.01010275109393333), (1359, 0.010099472151404177), (425, 0.01009904879081923), (332, 0.010097364159571536), (1541, 0.010082005157900078), (2909, 0.010077034650355064), (4094, 0.010072697289607085), (2401, 0.01004173514311984), (3370, 0.01002935876743274), (419, 0.010026181470595662), (2151, 0.010020862258449286), (666, 0.01001744420516989), (2066, 0.010014500025331198), (3973, 0.010006831972137843), (3560, 0.010002407004885833), (3678, 0.00999881130123906), (246, 0.00999536295699253), (2499, 0.00999305647787837), (2612, 0.00997893498758997), (1951, 0.009971885645761692), (4535, 0.009963924645394555), (1463, 0.009962093900537221), (4233, 0.009954792530362005), (2356, 0.00995162848315617), (4401, 0.009946111414885783), (2566, 0.009936527565554392), (2610, 0.00993281467617215), (1893, 0.009913154424478255), (3877, 0.009911608394857814), (4438, 0.009905904950379735), (41, 0.00990562323893694), (3969, 0.009873749473428119), (1854, 0.00986505107654348), (3390, 0.009844614803369225), (3151, 0.009842366153032982), (1725, 0.009841589541279625), (550, 0.009832873737029735), (2428, 0.009824301767521535), (211, 0.009824077442359101), (3533, 0.00981537614400095), (437, 0.009804050421913355), (1554, 0.009801307000251464), (591, 0.00977630119282366), (69, 0.009774601877458426), (2233, 0.009769275948163975), (3869, 0.00975863468394157), (677, 0.009756056107573257), (3787, 0.009745983330830202), (1091, 0.009745875448960712), (2148, 0.009741781327226145), (4130, 0.00973001069374079), (2525, 0.009729462019640466), (2106, 0.009716127166554156), (1451, 0.009705383525071032), (2898, 0.009701128525228404), (4628, 0.009700998374037812), (3163, 0.009689428019557944), (4491, 0.009686293312400963), (3265, 0.009685863497045326), (3202, 0.009678953571176256), (778, 0.009672485224968226), (2860, 0.009658493991358808), (2234, 0.009653157214061677), (3016, 0.00964871271407002), (1894, 0.00964671860220956), (2888, 0.009643138407426996), (4493, 0.009640944858195152), (1585, 0.009617811561291108), (1606, 0.009611890590617041), (768, 0.009588151711671513), (549, 0.00958646381669914), (2732, 0.009585398335379386), (3586, 0.009580483568729222), (3182, 0.00957435445289791), (1228, 0.00955295459422944), (335, 0.009552147474968005), (4269, 0.009548766853262758), (4703, 0.009541242267470218), (3782, 0.009535541859937175), (2593, 0.009532897455717173), (1705, 0.009532748437231444), (3834, 0.009524989626385084), (3131, 0.00952414332918427), (4342, 0.009521257855438444), (2725, 0.009520561212398316), (1812, 0.009509657957620939), (1979, 0.009507113924519594), (3438, 0.00950360426645206), (4149, 0.009502157598307725), (4348, 0.009501931906629858), (1324, 0.009495987866504779), (826, 0.009494081595829248), (1875, 0.009488251864100072), (2522, 0.009487683351858128), (524, 0.009478703767973705), (183, 0.009476022398176086), (4289, 0.00947497852873872), (603, 0.00946853971957126), (2301, 0.009451543531457007), (208, 0.009451099457077915), (2835, 0.009442330119701034), (3132, 0.00943824207688229), (1488, 0.009422412968344306), (2135, 0.009422353647179664), (1436, 0.009419108223050645), (1904, 0.009414438325131625), (511, 0.009410130359485064), (1297, 0.009406653113160284), (3747, 0.009402339726819784), (1225, 0.00939127516399616), (1185, 0.009378855546475178), (600, 0.00936722033823611), (1570, 0.009362162031737054), (3968, 0.009348415245207879), (2931, 0.009346520123504258), (2413, 0.009337872167099692), (320, 0.00933262496329279), (1634, 0.009315329914491055), (2640, 0.009314430446403154), (4354, 0.009312614534325166), (3565, 0.009301715322483856), (3027, 0.009297733298650608), (2015, 0.00929558837928893), (3134, 0.009291306697532854), (597, 0.009288041933743954), (3764, 0.009287350228983967), (1475, 0.009280346785614294), (3138, 0.009276013707500362), (1329, 0.009274851116161826), (4466, 0.0092697396329056), (3841, 0.009265952915407383), (1508, 0.00925603564423006), (3849, 0.009246184167715756), (1800, 0.009245593075932833), (189, 0.009218559339836743), (2973, 0.009218302373384661), (1470, 0.009214427769593565), (2944, 0.009214332589229558), (918, 0.009212603470661954), (3743, 0.009211094635477014), (4467, 0.009195500591870565), (2663, 0.00918864170536118), (3447, 0.0091841087324778), (657, 0.009175404820268344), (1423, 0.00916993490998554), (4456, 0.009167834790117553), (1009, 0.009166164219667637), (472, 0.00916480598654979), (2048, 0.009162599364137144), (3585, 0.009160537955414653), (95, 0.009157300114778324), (4643, 0.009157049427508468), (631, 0.00915310725921304), (1422, 0.009151162747633869), (871, 0.009146809497809966), (118, 0.009134197796955299), (572, 0.009126066710670478), (3840, 0.009125883280481238), (1901, 0.009123484659505885), (2172, 0.009116475649821511), (4533, 0.009110878825441612), (3597, 0.00911076387600846), (2617, 0.00910965096715389), (4663, 0.009109208586930146), (4719, 0.009101677773432524), (1686, 0.009101123910409258), (3690, 0.009097572906034992), (1931, 0.009095496460291686), (3890, 0.009092940892658337), (2960, 0.009079577825563545), (4217, 0.009077830056089762), (3894, 0.009061758950272813), (4288, 0.009057022034781488), (1087, 0.009050405112839407), (2045, 0.00904708360676368), (919, 0.009046665490618508), (1440, 0.00903959423935764), (3352, 0.009038401722654896), (2277, 0.00902401432648724), (2647, 0.009016365723194595), (3467, 0.00901595969578751), (3520, 0.009011887073179282), (4041, 0.009004053581388397), (2130, 0.008998721485740793), (3309, 0.008974922020303906), (258, 0.008962906045452065), (2067, 0.008955687789434088), (1002, 0.008955118689679483), (4103, 0.0089503381289701), (2826, 0.00894970032349371), (3211, 0.0089460100511984), (39, 0.008938705102994578), (3427, 0.008935791113956966), (2506, 0.00893107112293396), (315, 0.008929544811773035), (1151, 0.008926360119561584), (1863, 0.008923523146144145), (3367, 0.008916167827205395), (1566, 0.008909313325203635), (1179, 0.008900930928090576), (3982, 0.008899933500582031), (2823, 0.008898582270130705), (1269, 0.00888780948695218), (1759, 0.008880527837599088), (241, 0.008880296175930794), (1106, 0.008879071145879061), (3346, 0.008878500991258573), (1262, 0.00887843700481544), (3077, 0.008875874440985051), (79, 0.008874407093530297), (4012, 0.008870449305286921), (4128, 0.008869657410984558), (2, 0.008865704059270644), (2202, 0.008854437415345024), (2850, 0.008847730187586932), (3963, 0.008835528231290898), (3736, 0.008826539096198134), (1012, 0.008818788152938718), (3622, 0.008809728769705854), (1868, 0.008802374787955548), (3319, 0.008787631073412532), (3937, 0.0087857929104622), (1263, 0.008778734524154123), (467, 0.00877536599827181), (1272, 0.00877129041564488), (322, 0.008766076557825693), (1459, 0.00876260035499088), (1180, 0.008754522490760827), (3147, 0.008749765061950536), (4211, 0.008738595057452447), (119, 0.00873383129054122), (2713, 0.008720971020665332), (539, 0.008711218011671688), (3773, 0.008706778513829531), (4224, 0.008706161686697383), (90, 0.008705166043428787), (978, 0.008693413663153786), (1846, 0.008672077944332642), (1350, 0.008671486159815266), (1315, 0.008659020869664852), (152, 0.008645084032443184), (321, 0.00864050928371921), (292, 0.008637018462584072), (4550, 0.008630112730640188), (3555, 0.00862794532166815), (2544, 0.008625955324315733), (4588, 0.008621452795976403), (416, 0.008612791115689444), (1063, 0.008601277590193029), (1645, 0.00860002017472058), (261, 0.008588884715380406), (776, 0.008578352385378586), (1287, 0.008576849101670087), (3156, 0.008574127030102362), (390, 0.008568093343272196), (915, 0.008566157745349013), (3917, 0.008563436073109752), (1118, 0.008553451776462965), (310, 0.008553037155810801), (1935, 0.008531299882893606), (3418, 0.00852951791003195), (3567, 0.008529089503969798), (93, 0.008526400714299963), (583, 0.00852051116260439), (852, 0.008515594340556008), (1207, 0.0085046408129069), (3105, 0.008500635484933078), (4152, 0.008493386934497053), (284, 0.008489813462547924), (1001, 0.008484447876028142), (1412, 0.008473228753120145), (1273, 0.008472352062322023), (1816, 0.008472347817776624), (2950, 0.00845976751859956), (3700, 0.008455763758751688), (4428, 0.00845306632306814), (171, 0.008450246557926963), (260, 0.008443624322207062), (3361, 0.008426981862871136), (1715, 0.008417711966195422), (966, 0.00840521811527731), (1579, 0.008367758668123643), (3193, 0.008362472556303973), (2139, 0.008354997083475459), (548, 0.008347955387697226), (2145, 0.008347267947301461), (2587, 0.008340739834860736), (3135, 0.008337898569564161), (650, 0.008334938759870928), (426, 0.008326541884092552), (3100, 0.008315570173624711), (565, 0.008314684615749064), (3136, 0.008302818504288195), (407, 0.008290390692627995), (921, 0.008285100513136457), (3426, 0.008281154146377557), (2442, 0.008279207468459903), (46, 0.00827408747543087), (1135, 0.008260939126264384), (3718, 0.008254780961417562), (316, 0.008250485290975582), (1514, 0.008238667251480649), (1144, 0.0082376987036984), (4236, 0.008232904906012948), (2608, 0.008232053821984739), (3114, 0.00822965442133323), (3914, 0.008227183131754068), (1789, 0.008220380278962281), (540, 0.008216111196431427), (1354, 0.00821216314368027), (706, 0.008206689560396718), (306, 0.008202068943359172), (379, 0.00819824255427798), (4439, 0.008181875279890906), (94, 0.008175070109927287), (80, 0.008156784586793716), (2920, 0.008145147188452667), (2747, 0.00814395731100581), (397, 0.008139457410471106), (2523, 0.008122327521779433), (4153, 0.008112373477440399), (1675, 0.008109846181734678), (4598, 0.008106088044642893), (2749, 0.00810185075812821), (2803, 0.008101336574436775), (4193, 0.008095775201363217), (67, 0.008072415190982202), (1503, 0.008071305108582807), (608, 0.008069563224086739), (1809, 0.008045316878933721), (428, 0.008037182728811628), (1387, 0.008036362609970994), (3600, 0.008027274678839928), (1134, 0.008024347795936228), (4074, 0.008011323823741007), (4018, 0.008010810782150582), (936, 0.008009891073014775), (2065, 0.007997888063064222), (501, 0.007993915836287098), (1219, 0.007986170865803789), (327, 0.007985752952543888), (3327, 0.007984933751733175), (3795, 0.007963236318182375), (323, 0.007963034372776966), (1, 0.00795139308751615), (856, 0.007946211113232418), (3099, 0.007918255854852986), (252, 0.007885394135964459), (2737, 0.007857276910556099), (2237, 0.007811509373204629), (32, 0.007806665858540039), (1301, 0.007777369325371705), (2718, 0.007768666459228724), (113, 0.007728888285714095), (1772, 0.007724977519185505), (4498, 0.007702527811946046), (165, 0.0076955785065554285), (692, 0.007694096198933255), (3144, 0.007693293892003873), (234, 0.0076616395565881155), (2678, 0.007653466139053596), (2177, 0.007653222001190977), (3129, 0.007648349681513216), (3552, 0.007643077748373971), (286, 0.007639116687889533), (3475, 0.007638992030628565), (1745, 0.007619560591541078), (2701, 0.007605739013993304), (496, 0.007600221473241165), (3693, 0.007595483174934518), (601, 0.007594272351864178), (1050, 0.0075839755560782405), (1802, 0.00758227031938251), (3405, 0.007566274459544937), (1352, 0.007561837075436889), (3065, 0.007561455345907428), (288, 0.0075600674777193365), (1458, 0.007534557524809589), (4144, 0.007485096998899267), (75, 0.007477044512459963), (2127, 0.007473313134917488), (4571, 0.007467439612497245), (314, 0.007462441325854453), (3215, 0.007445010494987592), (3178, 0.007429987864994944), (1221, 0.007401048291037692), (469, 0.0073568700021247), (2034, 0.007334254534160608), (3115, 0.007315786683606353), (1530, 0.00729037026200353), (602, 0.007268315042944576), (290, 0.007264313757595208), (295, 0.007259834383018658), (2028, 0.0072306961410697765), (237, 0.007222135439496118), (3512, 0.007206106947364237), (4223, 0.007203266597154564), (4626, 0.007197327640868537), (289, 0.007144876374899151), (1861, 0.007124192618439396), (294, 0.007088100194776801), (4555, 0.007082663867234974), (1886, 0.007075633902452023), (2010, 0.007030168716294303), (3088, 0.006988092959452985), (4745, 0.00696492966875329), (3152, 0.00694680991660757), (2657, 0.006883629483254156), (3392, 0.006865380830194172), (764, 0.006858491494100306), (2529, 0.0068216844042792305), (775, 0.0068104659201426), (2684, 0.0068054998442574855), (2659, 0.006769216588592463), (2312, 0.006765715697136097), (452, 0.006704830150700664), (2764, 0.0066951787766324185), (4007, 0.006682160668406663), (2858, 0.00666093513548547), (2137, 0.006660563308419282), (2891, 0.006656627427412134), (3139, 0.0066534528412519715), (3546, 0.006641697944670263), (996, 0.006631284193602651), (4480, 0.006616779249074796), (2722, 0.0065971404841666265), (2818, 0.006580844553250437), (3009, 0.006580317931007114), (3040, 0.006562786303120284), (3166, 0.006518612248830482), (3266, 0.006500782317558818), (2395, 0.006500482109430254), (4239, 0.00649248548766578), (1210, 0.006473289027142771), (3949, 0.006459902514640885), (2537, 0.006446647425858872), (735, 0.006417026017202201), (2667, 0.006403582722800736), (2922, 0.006394223763747778), (2404, 0.006391836052715783), (3042, 0.006367379213400852), (4700, 0.006363067958277792), (4115, 0.00634087317405186), (553, 0.006330800429245798), (2731, 0.006308035043748961), (4222, 0.006302557277905508), (3479, 0.006275920227038678), (4484, 0.00626561860168593), (4198, 0.006205200872468145), (3800, 0.006200017555274133), (2832, 0.006167247403792474), (2536, 0.006138812533184474), (2948, 0.006119813812314722), (4537, 0.006117247556666319), (1948, 0.006099932173535071), (2928, 0.006068317754326319), (4166, 0.006066972015086643), (4040, 0.006064049563819387), (3715, 0.0060640277050528725), (3217, 0.0060558873374868755), (4084, 0.006042760932497815), (2941, 0.006039225471042522), (2282, 0.00603780680622637), (4440, 0.006009864699291684), (2838, 0.0060057145295216155), (1208, 0.005991299976256546), (2875, 0.00597280455767428), (4102, 0.005966792757476728), (2455, 0.00596476397745118), (3936, 0.005944963185014287), (2983, 0.005930986910393958), (2600, 0.0059288933161779815), (3087, 0.005928772625685518), (948, 0.005917106567868617), (3988, 0.0059151396154309005), (2543, 0.005896641632750838), (3844, 0.005888898465403844), (2308, 0.005881140776629457), (3249, 0.005877587757507227), (2939, 0.005852968694070273), (3328, 0.005851270651105865), (4721, 0.005848833423825055), (4058, 0.005845274435353414), (3357, 0.005841389230577389), (2564, 0.005838212899604562), (4562, 0.005838009730107153), (2515, 0.005834365540670316), (3537, 0.005828878402154014), (2363, 0.005807477770403909), (3922, 0.005801275163851863), (2857, 0.005800867471072218), (2730, 0.005773992818958364), (3074, 0.005765644086801834), (2797, 0.005752003620411974), (2488, 0.005743172632756015), (4725, 0.0057367014776161275), (2077, 0.005731188723190474), (4147, 0.005722117684328358), (3544, 0.005720363019609069), (4631, 0.00570675481463341), (3020, 0.005705014619687831), (4720, 0.0057038545276578475), (3257, 0.00566253257479361), (3203, 0.005659648112374585), (2727, 0.00565227338416504), (3054, 0.005646772863628666), (3413, 0.005644530455598966), (4408, 0.00564218527612186), (1941, 0.005624602495503021), (3758, 0.0056205408983247915), (4506, 0.005610641141595957), (2368, 0.0056010639761148815), (2333, 0.0055942343251681155), (4204, 0.005593305536721651), (3686, 0.005586708491906735), (3017, 0.00558344278702998), (1049, 0.0055723985999475), (2009, 0.005565899073756933), (3308, 0.0055635352488260445), (2986, 0.005558647916253818), (795, 0.005554390890754322), (3789, 0.005549910505137604), (4023, 0.005549728604865374), (4717, 0.0055489624347990745), (2769, 0.0055468215768926625), (2738, 0.005545776513990317), (4451, 0.005544631326236234), (431, 0.0055421072837906725), (955, 0.005540925154113282), (582, 0.005536264804624838), (904, 0.0055318919991626005), (2570, 0.005531037136093428), (3621, 0.005529811604351981), (3324, 0.00552287434416255), (4633, 0.005522818753858838), (1792, 0.005522602053572594), (1187, 0.0055213354488217485), (711, 0.005519993583255244), (4285, 0.005514826883247447), (2720, 0.00550779623352541), (2846, 0.005498773967410481), (3931, 0.005497351750974433), (2468, 0.005490802203786161), (2320, 0.005463148743257759), (2696, 0.005462859029429293), (1947, 0.0054553664483565495), (2924, 0.0054500773837473605), (3754, 0.005449935441663186), (4203, 0.005447281625091171), (3190, 0.005445462090642148), (905, 0.005436184531359949), (3364, 0.00542502462071967), (3337, 0.005422370241534954), (2403, 0.005416310528648151), (679, 0.005415940011241183), (4650, 0.005415757988783117), (3921, 0.005415118426498556), (925, 0.005403512007469189), (2478, 0.0053947620367230005), (2187, 0.005393446578440637), (760, 0.005391048428649528), (3952, 0.005389187583868196), (847, 0.005388944520497418), (2676, 0.0053887396933101055), (2510, 0.0053870011531185775), (1507, 0.005381514033113502), (3851, 0.005380534616105803), (3759, 0.005380348452658167), (4496, 0.0053789470585957865), (2796, 0.005378012941357257), (985, 0.0053757550676899685), (2305, 0.005374766631306874), (2702, 0.005371070465621935), (38, 0.005370499150195992), (2486, 0.005365461264109363), (4295, 0.0053654604794386145), (1424, 0.005365180353739027), (2079, 0.005364637183948112), (4117, 0.005364456340419774), (3791, 0.005362258967609338), (4335, 0.005352746908072097), (2982, 0.005348079789374838), (3772, 0.005347892539147241), (4121, 0.005344933858350118), (3253, 0.005344060589688932), (2302, 0.005337682059886082), (2339, 0.005337445980786417), (2357, 0.005335004554726709), (3649, 0.005331201484814213), (4746, 0.005330129667592838), (4317, 0.005328909725811483), (998, 0.00532738068678101), (4460, 0.005326896337126297), (2186, 0.00532662710091218), (999, 0.005323020596986816), (3383, 0.005321170866926203), (3039, 0.005317798744274366), (4452, 0.005315378052942627), (2914, 0.005314698688395756), (3992, 0.005312083982959177), (839, 0.0053094411235587126), (2518, 0.005305155587825565), (1560, 0.005295640731929667), (3168, 0.0052916715271862265), (3373, 0.005289262443216206), (1489, 0.005280538639746546), (3962, 0.005277897008541642), (4105, 0.005274962378292421), (139, 0.005272609897046239), (1311, 0.005272029941425807), (40, 0.005271554096886054), (2420, 0.005263902329015256), (1594, 0.005261548469708005), (4108, 0.0052584076000564165), (3146, 0.005256499744333016), (2436, 0.005252353132796955), (3964, 0.005248432593512988), (4453, 0.0052470596444220315), (4580, 0.005244041875374563), (4293, 0.005243947164700507), (4051, 0.005242868483532258), (1260, 0.005242136680296412), (2209, 0.005231801264407965), (4706, 0.0052209744632478305), (4113, 0.005219655334836416), (3808, 0.005217716634008873), (3681, 0.0052168607767533615), (4463, 0.0052162885944547184), (2108, 0.005215966299006988), (687, 0.005213804323304832), (2535, 0.005208560354722414), (3688, 0.005207134401872542), (3371, 0.00520577126853092), (3572, 0.005202876746170731), (1658, 0.005202859644928574), (3652, 0.005192564181749176), (3026, 0.005192058317760011), (4003, 0.0051911536615003575), (2493, 0.005186525378950445), (3097, 0.005181905856914784), (1486, 0.005175378759147615), (3519, 0.005173857622244486), (982, 0.005169524310867626), (1089, 0.005166657084367197), (3207, 0.005164239185070876), (2375, 0.0051627396063751016), (841, 0.0051600849478179635), (3837, 0.005158384595988084), (2626, 0.005157597718783331), (2452, 0.005155569369338206), (2410, 0.005155372765590433), (4446, 0.005155156191566708), (1479, 0.005154233207685275), (2464, 0.005153977638922005), (4308, 0.005153548078049084), (1733, 0.005152691219552319), (1583, 0.005148506717064057), (4097, 0.0051463188144475315), (2811, 0.00514626916571678), (3183, 0.0051460543500217205), (2101, 0.005142609756208255), (4226, 0.0051375587000433735), (3730, 0.005137172111277093), (318, 0.005135647358671118), (4061, 0.005133120232630824), (1806, 0.005130471950432158), (2968, 0.005129487915721621), (1243, 0.005125738141139423), (1905, 0.005123420437899154), (3044, 0.005122547749964359), (4522, 0.005121278317812313), (2458, 0.005121262531861261), (1491, 0.005121202724111619), (350, 0.005116040942308524), (2748, 0.005110193560601242), (3258, 0.005110086855982341), (2882, 0.005106649975691105), (2979, 0.0051056060117489425), (4332, 0.005098385557062905), (3889, 0.005096563705432145), (4413, 0.005095498487496788), (1679, 0.005091822025483462), (2021, 0.005086785153283133), (4734, 0.0050785922383458455), (3449, 0.0050781413103909495), (2116, 0.005071971510489703), (2494, 0.005066600522335735), (1441, 0.0050660261679320705), (771, 0.005062891648630633), (1518, 0.005061250636524072), (1848, 0.005058849944523004), (4132, 0.0050583681874045066), (1390, 0.005055903969987225), (3584, 0.005046970635077716), (2661, 0.005044807697614079), (3496, 0.005044346915463177), (1637, 0.005040855146731846), (2124, 0.00503629159469422), (3175, 0.0050357211197812335), (754, 0.005034686196676243), (2588, 0.005033617914420616), (2786, 0.00503252253099247), (873, 0.005032302438975194), (4111, 0.005030788852703675), (4131, 0.005028947514570307), (1409, 0.005027514913116534), (1282, 0.005024021405859724), (2712, 0.005021064021095939), (2391, 0.005019201432424375), (4370, 0.005018998537908662), (1609, 0.005014852938129876), (1737, 0.005012863437697582), (3601, 0.005011825635849651), (2817, 0.005010992972391639), (3218, 0.005010029464113332), (4357, 0.005009363089460984), (2970, 0.005009042569591545), (3109, 0.005004945966097552), (4315, 0.005004497286189867), (1791, 0.005002949461926516), (536, 0.005001230153439139), (1205, 0.005000232569581403), (1856, 0.004997655808094131), (4560, 0.004997612328319134), (1596, 0.00499189103173248), (4622, 0.004988319208433273), (2147, 0.004988092971904906), (4256, 0.004986934694678308), (3442, 0.004984732599128185), (4489, 0.00498414308099649), (4054, 0.004983000527179141), (1234, 0.004976336460055941), (205, 0.004976152129879887), (4655, 0.004974207666387804), (3905, 0.00497092913618758), (4260, 0.004966974126841158), (4052, 0.004966693360360296), (4180, 0.004966103908795498), (4027, 0.0049622926190076464), (1822, 0.004960777078727279), (3037, 0.004960469629875019), (3041, 0.0049603459320825575), (3422, 0.004956794823490429), (3259, 0.004956063377869102), (4420, 0.004955281049299896), (2394, 0.004951763290784228), (3388, 0.004951326006624053), (2385, 0.004949639648095982), (3277, 0.004948209786344156), (3882, 0.004945913880096459), (3984, 0.0049422234001286385), (667, 0.004940729013002015), (1902, 0.004939547474451627), (2633, 0.004933592988002167), (1299, 0.004933162067758694), (1689, 0.004930469970677801), (2675, 0.004926338477271626), (1718, 0.00492583516917827), (1193, 0.004924361686376985), (1734, 0.004924084014823073), (3513, 0.0049236745908556555), (2217, 0.004919693169043474), (3493, 0.004918655301741076), (2002, 0.004918551466064935), (3415, 0.00491823111008629), (3150, 0.004916831503361175), (3038, 0.004915911373878336), (1881, 0.004915274345142196), (2926, 0.004914693145505082), (3061, 0.004913404345302878), (3919, 0.0049125625015337265), (1445, 0.004910078911407465), (1660, 0.0049100719654670884), (1006, 0.004909663803341601), (4448, 0.004907740677515695), (3599, 0.004906742776461434), (3514, 0.0049060048529409005), (4421, 0.004905611689947448), (1224, 0.004905547559432969), (2090, 0.004904613882709906), (797, 0.004904483315844151), (3378, 0.004903789401043045), (2042, 0.004903770202298432), (3382, 0.004903648930128321), (4433, 0.004902923834955348), (879, 0.004902799933761906), (2561, 0.004902767215674618), (3845, 0.004901693853097579), (890, 0.004901157074928033), (2601, 0.004900983865600026), (1047, 0.004896224898192326), (1024, 0.004894566714500664), (3224, 0.004892645465057329), (2546, 0.004892141288021356), (884, 0.004889276962648044), (2241, 0.004886772290670029), (1702, 0.004884360468369487), (4125, 0.004880891359452219), (1364, 0.0048796471598721485), (2325, 0.004878570429915979), (4008, 0.004877079559902501), (3349, 0.004875528893800089), (4025, 0.0048753602139364), (2194, 0.004873977367652611), (784, 0.00487265594823153), (1124, 0.00487208076539398), (1949, 0.004871954969537518), (4486, 0.004870990783108121), (3517, 0.0048657855511615574), (1542, 0.004865513693298401), (3930, 0.004865180248488571), (2794, 0.00486516036391706), (1469, 0.004865008648848242), (2816, 0.004862455376073402), (3648, 0.004862366054953671), (1765, 0.004860409326202222), (3549, 0.004860101467665622), (4648, 0.0048600904936078725), (4422, 0.004856339011803223), (4287, 0.004855056784875715), (3198, 0.00485465485212925), (2222, 0.0048540281390077), (671, 0.004852518134659998), (1382, 0.004850638100452507), (708, 0.0048485125722275675), (2519, 0.004847400202861024), (1735, 0.004846323513258238), (2648, 0.004845744903082236), (3489, 0.00484407505407216), (1494, 0.004841269475893335), (1516, 0.004839724572194842), (971, 0.004837122034111138), (2431, 0.004836622235421768), (4388, 0.004832672653066768), (4319, 0.004830208372658886), (1777, 0.004827943363074989), (2092, 0.004827538373768019), (814, 0.004827407280430234), (1917, 0.0048239426485271525), (2307, 0.004820313359960133), (3169, 0.004817629735590718), (3289, 0.004816061741412663), (1564, 0.0048129635298441685), (846, 0.004811970989117089), (3683, 0.004810382630867754), (3526, 0.004809311457364659), (4093, 0.004807120986901595), (42, 0.004806840485388239), (3209, 0.004806168644389264), (115, 0.0048052289281186695), (110, 0.004802887410187323), (2200, 0.0048022994685506006), (4404, 0.004801193553945827), (908, 0.0048008509525257), (134, 0.004800622666978093), (933, 0.004799377750551412), (969, 0.004796586163865686), (1337, 0.004795757035585389), (3113, 0.004793137622803172), (4197, 0.00479077005519674), (3603, 0.0047890791418227704), (3283, 0.0047866774654145355), (1322, 0.004783844890471525), (3303, 0.004782277792978249), (2397, 0.004779425851221436), (3792, 0.0047790494145835164), (3060, 0.004776902877890333), (4702, 0.00477198553583111), (4049, 0.004769374121313041), (2685, 0.004769245705442055), (1105, 0.004769168499283382), (579, 0.004763773535297628), (2487, 0.004762615798825524), (2586, 0.004761423631371278), (1476, 0.00476111493687795), (4214, 0.004760079627085997), (1473, 0.0047599383234768295), (1599, 0.004758033110054877), (3332, 0.004755667089268077), (1751, 0.004754620925264543), (1879, 0.004754274706230297), (1461, 0.0047519732854977275), (3739, 0.004751055623925478), (1410, 0.004749613243722036), (3676, 0.004748986923537893), (630, 0.004748323275110467), (3245, 0.00474811776374048), (1722, 0.004745554754361832), (2122, 0.004744153662287978), (2193, 0.004742139697594543), (1741, 0.004737413398391519), (758, 0.004735844830891768), (1232, 0.004735642253967181), (398, 0.004732069521462431), (3155, 0.00473153774051325), (3034, 0.004729970545921327), (2994, 0.004729858033556788), (3494, 0.004729553958272901), (2492, 0.004728803028311156), (529, 0.004728436573084368), (504, 0.004727791269361067), (3541, 0.00472718608414712), (494, 0.004720963206652973), (4184, 0.004718568072463772), (1906, 0.004715333577322412), (2340, 0.004711032724220087), (943, 0.004710656477822342), (938, 0.004710531514775085), (4001, 0.004707302180487341), (114, 0.004703860585111517), (785, 0.004702175690229839), (2709, 0.004701434487431152), (1304, 0.004700952518713192), (2495, 0.004698975577884269), (4738, 0.004697258354249413), (2026, 0.004695655295617646), (3343, 0.004694637795007422), (1227, 0.004694622528787472), (1644, 0.004694078576301167), (3188, 0.004694034806052112), (479, 0.004693841971251735), (1501, 0.004693442082065446), (4291, 0.00469280300232045), (1133, 0.004689285558632965), (2387, 0.004689171708552831), (1345, 0.004688973365487299), (3104, 0.00468838526655006), (3665, 0.004688207410505129), (4592, 0.004684838782987911), (3106, 0.004684510221232853), (1638, 0.004681164394200395), (1021, 0.004680984998774491), (1112, 0.00468060078717516), (1517, 0.0046787302279369765), (3518, 0.004677585135984108), (1444, 0.004676221682664957), (525, 0.004674231112393314), (2999, 0.0046727432899849415), (3570, 0.004669989369556681), (3270, 0.004668834579277106), (4688, 0.00466619410042941), (22, 0.004666120231970809), (4394, 0.004663266042753394), (2836, 0.004662857820550353), (3818, 0.004660368273791993), (1834, 0.004658824253353154), (2280, 0.004655218714708034), (2060, 0.004651672462766307), (3888, 0.004649804844195554), (1411, 0.004643787200659566), (2825, 0.0046424354406551845), (174, 0.004641821872028775), (50, 0.004640896803097426), (1028, 0.004638049219195856), (3073, 0.004636580072277906), (1549, 0.004635560909002932), (3443, 0.004635220847450806), (1447, 0.004635208222622022), (867, 0.0046314622036862495), (1313, 0.004630811650120934), (973, 0.004629908913185667), (1757, 0.004629393296308065), (3508, 0.004624771088910011), (2687, 0.004623457879921541), (1100, 0.0046216160158335145), (1292, 0.004621257685761143), (2128, 0.004621190367336407), (3090, 0.004621161123470483), (3644, 0.0046171462164255024), (169, 0.004617125066178035), (215, 0.004616804045898138), (983, 0.004615533251664803), (1330, 0.004613161950799802), (2639, 0.004610782260780146), (1286, 0.004607046330583087), (4029, 0.004605369736592495), (1130, 0.004604899673042458), (995, 0.004603695541613779), (1589, 0.004603348576980875), (2945, 0.0046001071397042586), (1094, 0.00459899239522157), (3288, 0.004598003359448064), (4530, 0.004595971763863413), (3400, 0.0045957644226456065), (3220, 0.004592879953375304), (4234, 0.004584405677895554), (3836, 0.004583172235880791), (1880, 0.004581807242148847), (217, 0.004580427373077069), (4073, 0.004580376614459274), (4327, 0.004579829557244639), (3402, 0.0045794587105864445), (2677, 0.004578728169554442), (1284, 0.004574628794481429), (503, 0.0045714053386301445), (755, 0.00456699932257203), (3765, 0.004564910196854769), (2422, 0.004561707248789507), (4442, 0.004558216276425119), (3531, 0.004558070123885717), (3879, 0.004556059546886341), (3375, 0.00455569726890501), (4367, 0.004554010252988269), (4192, 0.004550692977286556), (2912, 0.0045503849115878245), (1618, 0.004550360549822036), (840, 0.004549781780804), (3348, 0.004547880565801547), (4382, 0.004544145366231194), (1267, 0.0045428990862597446), (2693, 0.004542854206918373), (2003, 0.004540062465458935), (2653, 0.0045348491131759995), (2467, 0.004533980487542779), (3896, 0.004531465997398419), (2465, 0.004529191308873709), (2056, 0.004528512279679672), (1597, 0.004526875057004975), (923, 0.004525618293780596), (521, 0.004524576285718652), (1900, 0.004524409792294673), (4252, 0.004521436345639438), (585, 0.004520759887675014), (2681, 0.00451797851337267), (1125, 0.004515871988974831), (2167, 0.004515766570510854), (1117, 0.004514492814014772), (2131, 0.004514421997108924), (1767, 0.00451434890641667), (3490, 0.004512853030164621), (1582, 0.004511611084120314), (1544, 0.004511150248026329), (772, 0.004508314364891814), (427, 0.00450757413197585), (1545, 0.00450641185847792), (1446, 0.004503420844990154), (2829, 0.004502391902510806), (4434, 0.004501757212178365), (3868, 0.004496519423664487), (3595, 0.004496223369065317), (1526, 0.004490772165734522), (3315, 0.0044892432287161835), (2897, 0.004488712254425553), (3214, 0.004486464637490627), (1654, 0.004485736276555754), (3824, 0.004485286027178564), (1877, 0.004484355925100579), (2620, 0.004484297295920483), (1929, 0.004480035285956705), (2107, 0.0044763147888072265), (2409, 0.004475804323373176), (157, 0.004475663747016918), (4321, 0.004474026366392861), (2962, 0.004471956972772728), (2644, 0.00447155804661966), (780, 0.0044711165529652845), (984, 0.004470088261071923), (1915, 0.00446916566556656), (4213, 0.0044686110342230965), (2787, 0.00446857086122017), (2140, 0.0044684011445378004), (1073, 0.004467789979428435), (2706, 0.004467695745682322), (2068, 0.004465520976073888), (505, 0.004464330642926322), (3177, 0.0044640867902526775), (4206, 0.0044638786638876585), (2631, 0.0044627818447461436), (2690, 0.00446251870321674), (1376, 0.00446233134227161), (1532, 0.004460785893122016), (1211, 0.004452928374662827), (3712, 0.00445148316701232), (1787, 0.004450951910975998), (4246, 0.004449525924511274), (2271, 0.004447389526122537), (1029, 0.004447055586071959), (1785, 0.004446775880814122), (3859, 0.004444961740086218), (325, 0.0044407685393751005), (422, 0.00444015474934805), (197, 0.004437212686161061), (3194, 0.004435615349462197), (3864, 0.004434777731038908), (2303, 0.004432156923603302), (4257, 0.0044269608674090384), (2348, 0.004426442102208926), (2166, 0.004425805004193947), (2160, 0.004422068356231102), (1973, 0.004420786292784694), (2311, 0.004420638107039637), (1139, 0.004420161995769109), (1824, 0.0044173505509188735), (1914, 0.004416597200826233), (2179, 0.0044147083654708106), (507, 0.0044125966740185705), (4254, 0.004412508861022335), (1693, 0.004412328001020334), (2215, 0.004410988526699209), (311, 0.004410895806498185), (1372, 0.00440831457442658), (3250, 0.0044074239837175195), (4690, 0.004407098177562787), (886, 0.004405708472435726), (1709, 0.00440550477499049), (3941, 0.00440381727088788), (3071, 0.004401704344034212), (941, 0.004401446745688958), (212, 0.004397907884679105), (1721, 0.004397442954995029), (702, 0.0043967182096939315), (4667, 0.004394715624184072), (648, 0.004391848165191153), (1992, 0.004390331175640404), (471, 0.0043885527813377154), (1746, 0.0043858792817816), (3909, 0.004384497824669234), (2699, 0.004384229688383141), (4603, 0.004383588846366227), (2992, 0.004381748208335137), (1899, 0.0043809843299329665), (659, 0.00437744318870303), (1778, 0.004377181952960626), (1457, 0.0043764276547552), (1673, 0.004374936551885585), (2866, 0.004372962971349178), (690, 0.004372343530132992), (2071, 0.004371879832972539), (1353, 0.004369490476740794), (3083, 0.0043685560595393275), (710, 0.004365744225602955), (4305, 0.004365697452480055), (2272, 0.0043650267856504025), (2446, 0.004364773530343106), (532, 0.004363773966957271), (454, 0.004361464223101002), (3500, 0.004359905493246981), (4325, 0.004358843370997372), (1152, 0.0043568076732844055), (589, 0.004355259954779176), (916, 0.004354442263379973), (1642, 0.004349351734289846), (3321, 0.0043481344256004854), (2399, 0.004337904815365012), (3839, 0.004334568513173713), (3589, 0.00433360259754362), (1543, 0.0043296173334524), (4174, 0.004325408688107004), (2445, 0.004325296386375864), (2274, 0.00432400579248694), (907, 0.004321612406504387), (1984, 0.004319251722222631), (3767, 0.004316871182710584), (4577, 0.004314886420524368), (788, 0.004314810411806165), (1157, 0.0043118422333427555), (1331, 0.004307360295356165), (4297, 0.004306394328786339), (3244, 0.0043049052631527395), (2225, 0.004304316337220045), (4186, 0.004301799740730144), (4600, 0.004300605209182288), (1794, 0.004300092087849463), (3329, 0.004296211929080289), (958, 0.004295329064364031), (1974, 0.004294672640858404), (1038, 0.004291942734960379), (2954, 0.004290942942767261), (2007, 0.0042894628960241776), (1729, 0.004280189700285345), (759, 0.004278656270465562), (2036, 0.0042778904681219365), (2728, 0.004277511911163019), (3842, 0.004277294657577411), (3295, 0.004276617939097266), (1200, 0.004271452372115141), (3197, 0.004270832022497038), (1528, 0.004268372698525384), (3267, 0.004264108185644859), (1216, 0.004261403287301692), (2063, 0.004260426510695926), (2424, 0.004259541081787942), (1626, 0.004258132928974662), (2402, 0.004255872859596983), (2043, 0.004255542940767018), (3304, 0.004255238174874857), (2542, 0.004253502724622736), (4109, 0.0042521370309923714), (473, 0.004251577377688326), (3311, 0.004250991194020279), (1827, 0.004249573693067449), (4647, 0.00424947199579809), (1093, 0.004247431370283737), (632, 0.004247258310225052), (2058, 0.004240813483577936), (1485, 0.004239842645505244), (214, 0.0042376023295830085), (515, 0.00423597171625982), (898, 0.00423339890885432), (1061, 0.004230710411395898), (2005, 0.004225639312975675), (161, 0.0042240607878054025), (2514, 0.004222018620459931), (3108, 0.004217810524946519), (4304, 0.004217741204508409), (885, 0.004215134034173441), (1980, 0.0042150202841184006), (664, 0.004212490678683882), (577, 0.004208863499205181), (1870, 0.004200218413895587), (3070, 0.00419785325747696), (2833, 0.004188851498858077), (1978, 0.004188482732518869), (2156, 0.004184567882753361), (2161, 0.004184422984669609), (1994, 0.004181325588492346), (3082, 0.00417965510596137), (2264, 0.004174988180176173), (1694, 0.004172415031029852), (2366, 0.0041675760258751355), (4104, 0.004165487608098313), (393, 0.0041616100576011604), (3861, 0.004161193658309897), (3063, 0.004155839879594509), (3755, 0.004153292244614947), (2360, 0.004153205238902092), (820, 0.0041511536166599266), (4596, 0.004141908267537725), (605, 0.0041350787714411015), (2240, 0.004123950145134099), (4156, 0.004119383160516967), (4558, 0.004117565720807819), (2820, 0.004110399834312736), (2805, 0.004109406592703356), (520, 0.004106091573418447), (2059, 0.004098507861363814), (2460, 0.004095456918227352), (1348, 0.00409339782015175), (4473, 0.004092862707592425), (4035, 0.0040889948333697156), (2971, 0.00408898569901207), (4353, 0.004081082621728394), (3684, 0.0040784087225263005), (3509, 0.004077194152891652), (1465, 0.0040742770436429125), (892, 0.004071177742466192), (103, 0.004070346968321952), (3856, 0.004067039690737176), (1492, 0.0040668080907167265), (3748, 0.004066013166984939), (2270, 0.004060357767572856), (1698, 0.004059190268886864), (629, 0.0040579912079160285), (357, 0.004055281049931499), (4426, 0.004054836330087302), (278, 0.004047413754575429), (2001, 0.004046621709379121), (3393, 0.0040417309906715165), (1323, 0.004037673663202244), (4627, 0.004032384058363097), (2168, 0.0040214028776367605), (2098, 0.004019796887901734), (1070, 0.004016565026218544), (2146, 0.004016072244531171), (3579, 0.0040113052357218645), (3916, 0.004004351985182832), (1781, 0.003998543715373484), (1340, 0.003990926649978832), (2933, 0.00399088093197264), (3855, 0.003987491995971779), (2855, 0.003985188250909422), (2204, 0.003983703860885437), (3164, 0.0039796349619837515), (1639, 0.003978335650662376), (1010, 0.003974700466833379), (970, 0.0039704608782265005), (175, 0.003968186318525111), (3674, 0.003966876833931593), (1312, 0.003965805249276383), (2076, 0.0039634623407751104), (4636, 0.003962992921720033), (707, 0.003952665010360723), (2157, 0.003951539271309085), (195, 0.003949989929585005), (3658, 0.003948932609488739), (1957, 0.0039480270647087165), (2877, 0.003945343591194033), (4610, 0.003944045877837198), (1214, 0.003940527081660145), (786, 0.003935993317914236), (709, 0.003935134395306584), (1062, 0.003929360675774044), (2876, 0.003924856969420058), (1367, 0.003924420723705057), (2373, 0.003919124891803727), (964, 0.003917627897971189), (1078, 0.003913572010432289), (3430, 0.003911623235740269), (2227, 0.0039049519478012934), (1944, 0.003903079070535983), (2508, 0.003889843881247386), (4200, 0.0038854044534821683), (1752, 0.003885383537605594), (1571, 0.003885283434966365), (2025, 0.0038765943749398866), (2509, 0.0038618504115236064), (1289, 0.0038608835431170885), (2439, 0.003858264337084022), (1156, 0.0038578097309827967), (2913, 0.0038545541760618383), (1427, 0.0038522731143505067), (319, 0.003850530768604759), (366, 0.003832381342597579), (3875, 0.003819687091035258), (4311, 0.0038180015445131586), (156, 0.003817582961180489), (4744, 0.00380958119176611), (506, 0.0038082886229341257), (1317, 0.0038075690543528076), (2441, 0.0038054501856356563), (1963, 0.0038021628242120207), (1344, 0.0038000262556489445), (3575, 0.0037965352867283904), (3971, 0.0037897898436638528), (3410, 0.003781639582737451), (1453, 0.0037811316615278165), (2925, 0.0037731225527714994), (510, 0.0037564043929621165), (1586, 0.0037544184974599307), (757, 0.003753803579727467), (3538, 0.0037471384169078387), (2734, 0.003735094010755813), (2377, 0.0037304616747078734), (2113, 0.0036774315950788322), (1040, 0.003670426142607182), (837, 0.0036124526562002655), (1403, 0.0036106092406483067), (3626, 0.0036054090107749677), (972, 0.003599564018121939), (369, 0.003596560712550304), (82, 0.0035661485574087983), (4182, 0.0035653495403167607), (1277, 0.0035142283743930807), (1362, 0.0034922251983453977), (2064, 0.003461386947193525), (2671, 0.0034516227007748393), (1919, 0.003284590070568829), (129, 0.003281583253651528), (3421, 0.0032511973205874103), (740, 0.0031525431707727656), (202, 0.0030836110727016095), (787, 0.002874480744224685), (4, 0.0), (5, 0.0), (7, 0.0), (8, 0.0), (10, 0.0), (12, 0.0), (13, 0.0), (15, 0.0), (16, 0.0), (18, 0.0), (20, 0.0), (21, 0.0), (23, 0.0), (24, 0.0), (26, 0.0), (29, 0.0), (30, 0.0), (31, 0.0), (33, 0.0), (34, 0.0), (44, 0.0), (47, 0.0), (51, 0.0), (52, 0.0), (62, 0.0), (64, 0.0), (66, 0.0), (68, 0.0), (74, 0.0), (76, 0.0), (77, 0.0), (81, 0.0), (87, 0.0), (88, 0.0), (89, 0.0), (92, 0.0), (96, 0.0), (97, 0.0), (98, 0.0), (99, 0.0), (100, 0.0), (102, 0.0), (104, 0.0), (105, 0.0), (106, 0.0), (108, 0.0), (109, 0.0), (111, 0.0), (112, 0.0), (121, 0.0), (123, 0.0), (124, 0.0), (126, 0.0), (127, 0.0), (128, 0.0), (132, 0.0), (133, 0.0), (135, 0.0), (138, 0.0), (140, 0.0), (142, 0.0), (143, 0.0), (145, 0.0), (148, 0.0), (149, 0.0), (154, 0.0), (155, 0.0), (158, 0.0), (160, 0.0), (163, 0.0), (164, 0.0), (166, 0.0), (167, 0.0), (170, 0.0), (172, 0.0), (173, 0.0), (176, 0.0), (178, 0.0), (186, 0.0), (187, 0.0), (190, 0.0), (194, 0.0), (198, 0.0), (200, 0.0), (203, 0.0), (209, 0.0), (210, 0.0), (213, 0.0), (216, 0.0), (221, 0.0), (222, 0.0), (223, 0.0), (224, 0.0), (226, 0.0), (227, 0.0), (229, 0.0), (236, 0.0), (240, 0.0), (243, 0.0), (244, 0.0), (248, 0.0), (249, 0.0), (251, 0.0), (254, 0.0), (255, 0.0), (256, 0.0), (259, 0.0), (262, 0.0), (265, 0.0), (267, 0.0), (268, 0.0), (269, 0.0), (270, 0.0), (271, 0.0), (272, 0.0), (273, 0.0), (274, 0.0), (275, 0.0), (276, 0.0), (281, 0.0), (282, 0.0), (285, 0.0), (287, 0.0), (291, 0.0), (293, 0.0), (296, 0.0), (302, 0.0), (303, 0.0), (304, 0.0), (307, 0.0), (309, 0.0), (313, 0.0), (324, 0.0), (326, 0.0), (328, 0.0), (329, 0.0), (330, 0.0), (333, 0.0), (334, 0.0), (337, 0.0), (342, 0.0), (349, 0.0), (353, 0.0), (354, 0.0), (356, 0.0), (358, 0.0), (360, 0.0), (370, 0.0), (371, 0.0), (372, 0.0), (373, 0.0), (374, 0.0), (376, 0.0), (380, 0.0), (384, 0.0), (386, 0.0), (388, 0.0), (389, 0.0), (394, 0.0), (400, 0.0), (402, 0.0), (406, 0.0), (412, 0.0), (429, 0.0), (432, 0.0), (433, 0.0), (435, 0.0), (436, 0.0), (438, 0.0), (439, 0.0), (440, 0.0), (441, 0.0), (442, 0.0), (443, 0.0), (445, 0.0), (446, 0.0), (447, 0.0), (448, 0.0), (449, 0.0), (450, 0.0), (453, 0.0), (455, 0.0), (458, 0.0), (460, 0.0), (464, 0.0), (465, 0.0), (466, 0.0), (475, 0.0), (476, 0.0), (481, 0.0), (482, 0.0), (484, 0.0), (485, 0.0), (486, 0.0), (487, 0.0), (488, 0.0), (489, 0.0), (499, 0.0), (500, 0.0), (509, 0.0), (512, 0.0), (513, 0.0), (514, 0.0), (516, 0.0), (517, 0.0), (518, 0.0), (523, 0.0), (526, 0.0), (530, 0.0), (533, 0.0), (534, 0.0), (543, 0.0), (544, 0.0), (547, 0.0), (552, 0.0), (555, 0.0), (556, 0.0), (557, 0.0), (558, 0.0), (559, 0.0), (560, 0.0), (561, 0.0), (564, 0.0), (566, 0.0), (573, 0.0), (574, 0.0), (575, 0.0), (578, 0.0), (580, 0.0), (581, 0.0), (584, 0.0), (587, 0.0), (588, 0.0), (590, 0.0), (593, 0.0), (595, 0.0), (596, 0.0), (598, 0.0), (606, 0.0), (607, 0.0), (611, 0.0), (612, 0.0), (614, 0.0), (616, 0.0), (617, 0.0), (618, 0.0), (619, 0.0), (620, 0.0), (621, 0.0), (622, 0.0), (623, 0.0), (625, 0.0), (626, 0.0), (628, 0.0), (633, 0.0), (634, 0.0), (636, 0.0), (637, 0.0), (638, 0.0), (642, 0.0), (643, 0.0), (645, 0.0), (646, 0.0), (647, 0.0), (651, 0.0), (652, 0.0), (654, 0.0), (655, 0.0), (658, 0.0), (660, 0.0), (663, 0.0), (668, 0.0), (670, 0.0), (673, 0.0), (675, 0.0), (676, 0.0), (680, 0.0), (682, 0.0), (683, 0.0), (684, 0.0), (685, 0.0), (688, 0.0), (689, 0.0), (693, 0.0), (694, 0.0), (695, 0.0), (696, 0.0), (698, 0.0), (701, 0.0), (704, 0.0), (705, 0.0), (718, 0.0), (719, 0.0), (721, 0.0), (722, 0.0), (723, 0.0), (727, 0.0), (728, 0.0), (729, 0.0), (731, 0.0), (733, 0.0), (734, 0.0), (738, 0.0), (739, 0.0), (743, 0.0), (744, 0.0), (746, 0.0), (747, 0.0), (748, 0.0), (749, 0.0), (750, 0.0), (753, 0.0), (761, 0.0), (762, 0.0), (763, 0.0), (765, 0.0), (766, 0.0), (767, 0.0), (769, 0.0), (774, 0.0), (777, 0.0), (782, 0.0), (783, 0.0), (790, 0.0), (791, 0.0), (792, 0.0), (796, 0.0), (798, 0.0), (799, 0.0), (800, 0.0), (801, 0.0), (802, 0.0), (805, 0.0), (806, 0.0), (808, 0.0), (810, 0.0), (811, 0.0), (812, 0.0), (813, 0.0), (815, 0.0), (816, 0.0), (817, 0.0), (823, 0.0), (825, 0.0), (827, 0.0), (828, 0.0), (829, 0.0), (830, 0.0), (831, 0.0), (832, 0.0), (833, 0.0), (838, 0.0), (848, 0.0), (850, 0.0), (854, 0.0), (855, 0.0), (857, 0.0), (858, 0.0), (860, 0.0), (861, 0.0), (863, 0.0), (864, 0.0), (868, 0.0), (874, 0.0), (876, 0.0), (878, 0.0), (881, 0.0), (888, 0.0), (889, 0.0), (893, 0.0), (894, 0.0), (895, 0.0), (896, 0.0), (897, 0.0), (900, 0.0), (901, 0.0), (906, 0.0), (910, 0.0), (913, 0.0), (917, 0.0), (922, 0.0), (924, 0.0), (927, 0.0), (928, 0.0), (929, 0.0), (932, 0.0), (934, 0.0), (942, 0.0), (944, 0.0), (947, 0.0), (949, 0.0), (950, 0.0), (959, 0.0), (960, 0.0), (962, 0.0), (967, 0.0), (968, 0.0), (974, 0.0), (975, 0.0), (976, 0.0), (979, 0.0), (981, 0.0), (986, 0.0), (987, 0.0), (988, 0.0), (989, 0.0), (992, 0.0), (993, 0.0), (994, 0.0), (997, 0.0), (1000, 0.0), (1003, 0.0), (1004, 0.0), (1005, 0.0), (1015, 0.0), (1017, 0.0), (1018, 0.0), (1019, 0.0), (1020, 0.0), (1023, 0.0), (1026, 0.0), (1027, 0.0), (1030, 0.0), (1031, 0.0), (1032, 0.0), (1033, 0.0), (1034, 0.0), (1035, 0.0), (1036, 0.0), (1037, 0.0), (1039, 0.0), (1041, 0.0), (1042, 0.0), (1044, 0.0), (1048, 0.0), (1052, 0.0), (1053, 0.0), (1054, 0.0), (1056, 0.0), (1057, 0.0), (1059, 0.0), (1060, 0.0), (1064, 0.0), (1065, 0.0), (1066, 0.0), (1068, 0.0), (1071, 0.0), (1072, 0.0), (1075, 0.0), (1077, 0.0), (1080, 0.0), (1081, 0.0), (1083, 0.0), (1086, 0.0), (1092, 0.0), (1095, 0.0), (1096, 0.0), (1097, 0.0), (1098, 0.0), (1102, 0.0), (1104, 0.0), (1107, 0.0), (1119, 0.0), (1120, 0.0), (1121, 0.0), (1122, 0.0), (1123, 0.0), (1127, 0.0), (1128, 0.0), (1132, 0.0), (1137, 0.0), (1138, 0.0), (1140, 0.0), (1145, 0.0), (1146, 0.0), (1147, 0.0), (1148, 0.0), (1154, 0.0), (1158, 0.0), (1160, 0.0), (1161, 0.0), (1162, 0.0), (1163, 0.0), (1164, 0.0), (1167, 0.0), (1174, 0.0), (1177, 0.0), (1181, 0.0), (1183, 0.0), (1184, 0.0), (1186, 0.0), (1188, 0.0), (1189, 0.0), (1191, 0.0), (1192, 0.0), (1197, 0.0), (1202, 0.0), (1209, 0.0), (1215, 0.0), (1220, 0.0), (1226, 0.0), (1229, 0.0), (1230, 0.0), (1233, 0.0), (1236, 0.0), (1237, 0.0), (1239, 0.0), (1241, 0.0), (1247, 0.0), (1248, 0.0), (1252, 0.0), (1257, 0.0), (1264, 0.0), (1265, 0.0), (1270, 0.0), (1271, 0.0), (1274, 0.0), (1275, 0.0), (1276, 0.0), (1279, 0.0), (1281, 0.0), (1285, 0.0), (1290, 0.0), (1295, 0.0), (1296, 0.0), (1303, 0.0), (1305, 0.0), (1314, 0.0), (1316, 0.0), (1319, 0.0), (1325, 0.0), (1335, 0.0), (1338, 0.0), (1339, 0.0), (1342, 0.0), (1343, 0.0), (1347, 0.0), (1349, 0.0), (1351, 0.0), (1356, 0.0), (1357, 0.0), (1360, 0.0), (1365, 0.0), (1369, 0.0), (1375, 0.0), (1377, 0.0), (1383, 0.0), (1391, 0.0), (1393, 0.0), (1395, 0.0), (1402, 0.0), (1404, 0.0), (1406, 0.0), (1407, 0.0), (1413, 0.0), (1415, 0.0), (1416, 0.0), (1417, 0.0), (1419, 0.0), (1421, 0.0), (1426, 0.0), (1428, 0.0), (1429, 0.0), (1434, 0.0), (1435, 0.0), (1438, 0.0), (1439, 0.0), (1443, 0.0), (1449, 0.0), (1450, 0.0), (1452, 0.0), (1454, 0.0), (1455, 0.0), (1456, 0.0), (1464, 0.0), (1471, 0.0), (1472, 0.0), (1478, 0.0), (1481, 0.0), (1483, 0.0), (1484, 0.0), (1493, 0.0), (1497, 0.0), (1498, 0.0), (1499, 0.0), (1500, 0.0), (1502, 0.0), (1504, 0.0), (1519, 0.0), (1527, 0.0), (1534, 0.0), (1535, 0.0), (1536, 0.0), (1538, 0.0), (1540, 0.0), (1546, 0.0), (1550, 0.0), (1551, 0.0), (1556, 0.0), (1558, 0.0), (1559, 0.0), (1562, 0.0), (1568, 0.0), (1573, 0.0), (1574, 0.0), (1576, 0.0), (1584, 0.0), (1593, 0.0), (1595, 0.0), (1605, 0.0), (1608, 0.0), (1617, 0.0), (1619, 0.0), (1620, 0.0), (1621, 0.0), (1623, 0.0), (1624, 0.0), (1625, 0.0), (1629, 0.0), (1635, 0.0), (1636, 0.0), (1641, 0.0), (1643, 0.0), (1647, 0.0), (1648, 0.0), (1651, 0.0), (1653, 0.0), (1655, 0.0), (1657, 0.0), (1661, 0.0), (1662, 0.0), (1666, 0.0), (1667, 0.0), (1671, 0.0), (1672, 0.0), (1674, 0.0), (1678, 0.0), (1680, 0.0), (1681, 0.0), (1682, 0.0), (1685, 0.0), (1687, 0.0), (1692, 0.0), (1696, 0.0), (1699, 0.0), (1701, 0.0), (1703, 0.0), (1707, 0.0), (1708, 0.0), (1710, 0.0), (1712, 0.0), (1716, 0.0), (1717, 0.0), (1723, 0.0), (1724, 0.0), (1728, 0.0), (1736, 0.0), (1739, 0.0), (1740, 0.0), (1742, 0.0), (1743, 0.0), (1747, 0.0), (1748, 0.0), (1749, 0.0), (1754, 0.0), (1760, 0.0), (1761, 0.0), (1762, 0.0), (1768, 0.0), (1770, 0.0), (1773, 0.0), (1775, 0.0), (1776, 0.0), (1779, 0.0), (1780, 0.0), (1782, 0.0), (1795, 0.0), (1796, 0.0), (1799, 0.0), (1801, 0.0), (1805, 0.0), (1808, 0.0), (1811, 0.0), (1813, 0.0), (1814, 0.0), (1817, 0.0), (1819, 0.0), (1823, 0.0), (1825, 0.0), (1826, 0.0), (1828, 0.0), (1829, 0.0), (1832, 0.0), (1835, 0.0), (1840, 0.0), (1845, 0.0), (1853, 0.0), (1857, 0.0), (1858, 0.0), (1859, 0.0), (1860, 0.0), (1862, 0.0), (1864, 0.0), (1865, 0.0), (1866, 0.0), (1869, 0.0), (1872, 0.0), (1873, 0.0), (1874, 0.0), (1876, 0.0), (1882, 0.0), (1884, 0.0), (1885, 0.0), (1887, 0.0), (1890, 0.0), (1891, 0.0), (1892, 0.0), (1896, 0.0), (1897, 0.0), (1909, 0.0), (1910, 0.0), (1916, 0.0), (1918, 0.0), (1920, 0.0), (1921, 0.0), (1922, 0.0), (1924, 0.0), (1925, 0.0), (1927, 0.0), (1930, 0.0), (1933, 0.0), (1937, 0.0), (1940, 0.0), (1942, 0.0), (1946, 0.0), (1950, 0.0), (1952, 0.0), (1959, 0.0), (1960, 0.0), (1962, 0.0), (1964, 0.0), (1966, 0.0), (1967, 0.0), (1970, 0.0), (1972, 0.0), (1975, 0.0), (1976, 0.0), (1977, 0.0), (1983, 0.0), (1985, 0.0), (1988, 0.0), (1991, 0.0), (1995, 0.0), (1996, 0.0), (2000, 0.0), (2004, 0.0), (2008, 0.0), (2011, 0.0), (2017, 0.0), (2020, 0.0), (2022, 0.0), (2023, 0.0), (2024, 0.0), (2027, 0.0), (2029, 0.0), (2031, 0.0), (2035, 0.0), (2037, 0.0), (2038, 0.0), (2040, 0.0), (2044, 0.0), (2051, 0.0), (2053, 0.0), (2054, 0.0), (2061, 0.0), (2070, 0.0), (2078, 0.0), (2080, 0.0), (2083, 0.0), (2084, 0.0), (2085, 0.0), (2088, 0.0), (2089, 0.0), (2091, 0.0), (2096, 0.0), (2097, 0.0), (2104, 0.0), (2105, 0.0), (2109, 0.0), (2110, 0.0), (2112, 0.0), (2115, 0.0), (2118, 0.0), (2119, 0.0), (2121, 0.0), (2123, 0.0), (2126, 0.0), (2129, 0.0), (2132, 0.0), (2134, 0.0), (2141, 0.0), (2142, 0.0), (2144, 0.0), (2149, 0.0), (2152, 0.0), (2155, 0.0), (2159, 0.0), (2162, 0.0), (2163, 0.0), (2165, 0.0), (2169, 0.0), (2173, 0.0), (2174, 0.0), (2175, 0.0), (2178, 0.0), (2180, 0.0), (2181, 0.0), (2182, 0.0), (2184, 0.0), (2188, 0.0), (2190, 0.0), (2191, 0.0), (2195, 0.0), (2197, 0.0), (2205, 0.0), (2206, 0.0), (2212, 0.0), (2213, 0.0), (2214, 0.0), (2220, 0.0), (2221, 0.0), (2224, 0.0), (2226, 0.0), (2229, 0.0), (2230, 0.0), (2232, 0.0), (2238, 0.0), (2239, 0.0), (2243, 0.0), (2244, 0.0), (2245, 0.0), (2246, 0.0), (2247, 0.0), (2248, 0.0), (2250, 0.0), (2251, 0.0), (2252, 0.0), (2253, 0.0), (2254, 0.0), (2255, 0.0), (2256, 0.0), (2266, 0.0), (2268, 0.0), (2273, 0.0), (2275, 0.0), (2276, 0.0), (2278, 0.0), (2288, 0.0), (2289, 0.0), (2291, 0.0), (2293, 0.0), (2294, 0.0), (2299, 0.0), (2300, 0.0), (2306, 0.0), (2310, 0.0), (2313, 0.0), (2314, 0.0), (2317, 0.0), (2318, 0.0), (2321, 0.0), (2323, 0.0), (2326, 0.0), (2328, 0.0), (2334, 0.0), (2338, 0.0), (2341, 0.0), (2342, 0.0), (2343, 0.0), (2344, 0.0), (2346, 0.0), (2347, 0.0), (2349, 0.0), (2354, 0.0), (2355, 0.0), (2359, 0.0), (2361, 0.0), (2362, 0.0), (2369, 0.0), (2370, 0.0), (2374, 0.0), (2378, 0.0), (2382, 0.0), (2386, 0.0), (2388, 0.0), (2392, 0.0), (2398, 0.0), (2400, 0.0), (2405, 0.0), (2406, 0.0), (2407, 0.0), (2415, 0.0), (2417, 0.0), (2418, 0.0), (2425, 0.0), (2429, 0.0), (2432, 0.0), (2438, 0.0), (2447, 0.0), (2454, 0.0), (2457, 0.0), (2459, 0.0), (2470, 0.0), (2471, 0.0), (2475, 0.0), (2476, 0.0), (2480, 0.0), (2481, 0.0), (2482, 0.0), (2496, 0.0), (2503, 0.0), (2505, 0.0), (2524, 0.0), (2526, 0.0), (2528, 0.0), (2534, 0.0), (2538, 0.0), (2540, 0.0), (2541, 0.0), (2545, 0.0), (2552, 0.0), (2556, 0.0), (2557, 0.0), (2558, 0.0), (2563, 0.0), (2571, 0.0), (2572, 0.0), (2573, 0.0), (2576, 0.0), (2578, 0.0), (2580, 0.0), (2595, 0.0), (2596, 0.0), (2598, 0.0), (2599, 0.0), (2602, 0.0), (2606, 0.0), (2607, 0.0), (2611, 0.0), (2613, 0.0), (2618, 0.0), (2621, 0.0), (2622, 0.0), (2623, 0.0), (2625, 0.0), (2627, 0.0), (2628, 0.0), (2630, 0.0), (2632, 0.0), (2634, 0.0), (2636, 0.0), (2638, 0.0), (2645, 0.0), (2649, 0.0), (2651, 0.0), (2655, 0.0), (2658, 0.0), (2660, 0.0), (2664, 0.0), (2670, 0.0), (2673, 0.0), (2674, 0.0), (2679, 0.0), (2686, 0.0), (2689, 0.0), (2692, 0.0), (2694, 0.0), (2695, 0.0), (2697, 0.0), (2698, 0.0), (2700, 0.0), (2705, 0.0), (2711, 0.0), (2716, 0.0), (2723, 0.0), (2724, 0.0), (2735, 0.0), (2736, 0.0), (2739, 0.0), (2743, 0.0), (2745, 0.0), (2750, 0.0), (2751, 0.0), (2753, 0.0), (2757, 0.0), (2759, 0.0), (2761, 0.0), (2762, 0.0), (2765, 0.0), (2768, 0.0), (2771, 0.0), (2773, 0.0), (2775, 0.0), (2777, 0.0), (2778, 0.0), (2780, 0.0), (2783, 0.0), (2785, 0.0), (2788, 0.0), (2789, 0.0), (2790, 0.0), (2791, 0.0), (2792, 0.0), (2793, 0.0), (2798, 0.0), (2800, 0.0), (2801, 0.0), (2802, 0.0), (2808, 0.0), (2809, 0.0), (2815, 0.0), (2821, 0.0), (2824, 0.0), (2827, 0.0), (2828, 0.0), (2840, 0.0), (2841, 0.0), (2842, 0.0), (2845, 0.0), (2849, 0.0), (2853, 0.0), (2854, 0.0), (2859, 0.0), (2861, 0.0), (2862, 0.0), (2863, 0.0), (2865, 0.0), (2868, 0.0), (2869, 0.0), (2870, 0.0), (2878, 0.0), (2879, 0.0), (2881, 0.0), (2883, 0.0), (2886, 0.0), (2889, 0.0), (2890, 0.0), (2892, 0.0), (2894, 0.0), (2899, 0.0), (2900, 0.0), (2902, 0.0), (2903, 0.0), (2904, 0.0), (2905, 0.0), (2906, 0.0), (2907, 0.0), (2908, 0.0), (2910, 0.0), (2911, 0.0), (2915, 0.0), (2917, 0.0), (2918, 0.0), (2919, 0.0), (2921, 0.0), (2923, 0.0), (2932, 0.0), (2934, 0.0), (2935, 0.0), (2936, 0.0), (2942, 0.0), (2943, 0.0), (2946, 0.0), (2947, 0.0), (2949, 0.0), (2952, 0.0), (2953, 0.0), (2957, 0.0), (2958, 0.0), (2961, 0.0), (2963, 0.0), (2964, 0.0), (2965, 0.0), (2966, 0.0), (2967, 0.0), (2969, 0.0), (2974, 0.0), (2975, 0.0), (2977, 0.0), (2981, 0.0), (2984, 0.0), (2987, 0.0), (2988, 0.0), (2989, 0.0), (2991, 0.0), (2993, 0.0), (2995, 0.0), (2996, 0.0), (2997, 0.0), (3000, 0.0), (3002, 0.0), (3004, 0.0), (3005, 0.0), (3006, 0.0), (3007, 0.0), (3008, 0.0), (3010, 0.0), (3011, 0.0), (3012, 0.0), (3013, 0.0), (3014, 0.0), (3015, 0.0), (3021, 0.0), (3022, 0.0), (3024, 0.0), (3025, 0.0), (3028, 0.0), (3029, 0.0), (3030, 0.0), (3031, 0.0), (3032, 0.0), (3035, 0.0), (3036, 0.0), (3043, 0.0), (3045, 0.0), (3046, 0.0), (3047, 0.0), (3048, 0.0), (3049, 0.0), (3052, 0.0), (3053, 0.0), (3055, 0.0), (3056, 0.0), (3057, 0.0), (3059, 0.0), (3064, 0.0), (3067, 0.0), (3068, 0.0), (3069, 0.0), (3072, 0.0), (3075, 0.0), (3076, 0.0), (3079, 0.0), (3085, 0.0), (3092, 0.0), (3094, 0.0), (3095, 0.0), (3101, 0.0), (3103, 0.0), (3107, 0.0), (3110, 0.0), (3117, 0.0), (3118, 0.0), (3119, 0.0), (3120, 0.0), (3122, 0.0), (3123, 0.0), (3125, 0.0), (3128, 0.0), (3140, 0.0), (3145, 0.0), (3148, 0.0), (3153, 0.0), (3154, 0.0), (3157, 0.0), (3158, 0.0), (3159, 0.0), (3160, 0.0), (3165, 0.0), (3167, 0.0), (3170, 0.0), (3171, 0.0), (3173, 0.0), (3176, 0.0), (3179, 0.0), (3180, 0.0), (3185, 0.0), (3186, 0.0), (3195, 0.0), (3199, 0.0), (3200, 0.0), (3201, 0.0), (3210, 0.0), (3213, 0.0), (3222, 0.0), (3223, 0.0), (3225, 0.0), (3226, 0.0), (3228, 0.0), (3230, 0.0), (3235, 0.0), (3237, 0.0), (3240, 0.0), (3241, 0.0), (3242, 0.0), (3243, 0.0), (3247, 0.0), (3248, 0.0), (3251, 0.0), (3252, 0.0), (3254, 0.0), (3255, 0.0), (3261, 0.0), (3262, 0.0), (3263, 0.0), (3264, 0.0), (3268, 0.0), (3273, 0.0), (3274, 0.0), (3275, 0.0), (3278, 0.0), (3280, 0.0), (3281, 0.0), (3285, 0.0), (3291, 0.0), (3292, 0.0), (3293, 0.0), (3294, 0.0), (3296, 0.0), (3298, 0.0), (3299, 0.0), (3300, 0.0), (3301, 0.0), (3305, 0.0), (3306, 0.0), (3307, 0.0), (3312, 0.0), (3313, 0.0), (3314, 0.0), (3318, 0.0), (3322, 0.0), (3325, 0.0), (3326, 0.0), (3330, 0.0), (3331, 0.0), (3333, 0.0), (3336, 0.0), (3338, 0.0), (3339, 0.0), (3340, 0.0), (3341, 0.0), (3344, 0.0), (3345, 0.0), (3347, 0.0), (3354, 0.0), (3356, 0.0), (3358, 0.0), (3359, 0.0), (3362, 0.0), (3363, 0.0), (3365, 0.0), (3368, 0.0), (3369, 0.0), (3372, 0.0), (3374, 0.0), (3376, 0.0), (3380, 0.0), (3381, 0.0), (3384, 0.0), (3391, 0.0), (3396, 0.0), (3399, 0.0), (3401, 0.0), (3403, 0.0), (3407, 0.0), (3409, 0.0), (3412, 0.0), (3414, 0.0), (3417, 0.0), (3420, 0.0), (3423, 0.0), (3425, 0.0), (3429, 0.0), (3431, 0.0), (3432, 0.0), (3433, 0.0), (3434, 0.0), (3435, 0.0), (3436, 0.0), (3437, 0.0), (3440, 0.0), (3441, 0.0), (3446, 0.0), (3450, 0.0), (3451, 0.0), (3452, 0.0), (3453, 0.0), (3455, 0.0), (3456, 0.0), (3458, 0.0), (3468, 0.0), (3471, 0.0), (3474, 0.0), (3483, 0.0), (3484, 0.0), (3488, 0.0), (3491, 0.0), (3495, 0.0), (3498, 0.0), (3499, 0.0), (3502, 0.0), (3504, 0.0), (3506, 0.0), (3507, 0.0), (3511, 0.0), (3516, 0.0), (3523, 0.0), (3525, 0.0), (3527, 0.0), (3528, 0.0), (3530, 0.0), (3534, 0.0), (3535, 0.0), (3542, 0.0), (3548, 0.0), (3553, 0.0), (3556, 0.0), (3558, 0.0), (3564, 0.0), (3573, 0.0), (3576, 0.0), (3583, 0.0), (3590, 0.0), (3594, 0.0), (3596, 0.0), (3602, 0.0), (3604, 0.0), (3605, 0.0), (3608, 0.0), (3615, 0.0), (3617, 0.0), (3618, 0.0), (3619, 0.0), (3623, 0.0), (3625, 0.0), (3627, 0.0), (3634, 0.0), (3636, 0.0), (3637, 0.0), (3639, 0.0), (3640, 0.0), (3642, 0.0), (3645, 0.0), (3651, 0.0), (3653, 0.0), (3654, 0.0), (3655, 0.0), (3656, 0.0), (3659, 0.0), (3660, 0.0), (3661, 0.0), (3663, 0.0), (3664, 0.0), (3666, 0.0), (3667, 0.0), (3669, 0.0), (3670, 0.0), (3672, 0.0), (3675, 0.0), (3677, 0.0), (3679, 0.0), (3680, 0.0), (3687, 0.0), (3691, 0.0), (3692, 0.0), (3694, 0.0), (3699, 0.0), (3703, 0.0), (3706, 0.0), (3707, 0.0), (3708, 0.0), (3713, 0.0), (3714, 0.0), (3717, 0.0), (3719, 0.0), (3720, 0.0), (3721, 0.0), (3724, 0.0), (3725, 0.0), (3727, 0.0), (3729, 0.0), (3734, 0.0), (3737, 0.0), (3741, 0.0), (3745, 0.0), (3749, 0.0), (3750, 0.0), (3756, 0.0), (3757, 0.0), (3760, 0.0), (3761, 0.0), (3762, 0.0), (3766, 0.0), (3768, 0.0), (3769, 0.0), (3771, 0.0), (3774, 0.0), (3775, 0.0), (3776, 0.0), (3777, 0.0), (3778, 0.0), (3779, 0.0), (3781, 0.0), (3784, 0.0), (3788, 0.0), (3793, 0.0), (3794, 0.0), (3797, 0.0), (3799, 0.0), (3801, 0.0), (3802, 0.0), (3806, 0.0), (3809, 0.0), (3810, 0.0), (3819, 0.0), (3821, 0.0), (3823, 0.0), (3825, 0.0), (3827, 0.0), (3828, 0.0), (3829, 0.0), (3830, 0.0), (3831, 0.0), (3833, 0.0), (3838, 0.0), (3850, 0.0), (3853, 0.0), (3854, 0.0), (3857, 0.0), (3860, 0.0), (3863, 0.0), (3867, 0.0), (3872, 0.0), (3873, 0.0), (3876, 0.0), (3878, 0.0), (3881, 0.0), (3883, 0.0), (3887, 0.0), (3893, 0.0), (3895, 0.0), (3897, 0.0), (3898, 0.0), (3899, 0.0), (3900, 0.0), (3901, 0.0), (3902, 0.0), (3904, 0.0), (3906, 0.0), (3908, 0.0), (3910, 0.0), (3911, 0.0), (3913, 0.0), (3915, 0.0), (3918, 0.0), (3920, 0.0), (3924, 0.0), (3927, 0.0), (3928, 0.0), (3929, 0.0), (3932, 0.0), (3935, 0.0), (3939, 0.0), (3940, 0.0), (3942, 0.0), (3944, 0.0), (3945, 0.0), (3946, 0.0), (3947, 0.0), (3955, 0.0), (3956, 0.0), (3957, 0.0), (3959, 0.0), (3960, 0.0), (3966, 0.0), (3974, 0.0), (3975, 0.0), (3976, 0.0), (3981, 0.0), (3985, 0.0), (3986, 0.0), (3987, 0.0), (3989, 0.0), (3993, 0.0), (3994, 0.0), (3995, 0.0), (3997, 0.0), (3999, 0.0), (4000, 0.0), (4002, 0.0), (4005, 0.0), (4006, 0.0), (4013, 0.0), (4014, 0.0), (4015, 0.0), (4019, 0.0), (4022, 0.0), (4024, 0.0), (4030, 0.0), (4032, 0.0), (4039, 0.0), (4042, 0.0), (4044, 0.0), (4045, 0.0), (4046, 0.0), (4047, 0.0), (4048, 0.0), (4050, 0.0), (4053, 0.0), (4059, 0.0), (4060, 0.0), (4063, 0.0), (4065, 0.0), (4067, 0.0), (4068, 0.0), (4069, 0.0), (4072, 0.0), (4075, 0.0), (4078, 0.0), (4079, 0.0), (4080, 0.0), (4081, 0.0), (4082, 0.0), (4083, 0.0), (4085, 0.0), (4088, 0.0), (4089, 0.0), (4090, 0.0), (4092, 0.0), (4095, 0.0), (4096, 0.0), (4098, 0.0), (4100, 0.0), (4106, 0.0), (4107, 0.0), (4110, 0.0), (4114, 0.0), (4116, 0.0), (4119, 0.0), (4120, 0.0), (4122, 0.0), (4123, 0.0), (4124, 0.0), (4126, 0.0), (4129, 0.0), (4133, 0.0), (4134, 0.0), (4137, 0.0), (4138, 0.0), (4139, 0.0), (4141, 0.0), (4143, 0.0), (4145, 0.0), (4148, 0.0), (4150, 0.0), (4151, 0.0), (4154, 0.0), (4155, 0.0), (4158, 0.0), (4159, 0.0), (4161, 0.0), (4163, 0.0), (4164, 0.0), (4165, 0.0), (4169, 0.0), (4170, 0.0), (4171, 0.0), (4172, 0.0), (4175, 0.0), (4176, 0.0), (4178, 0.0), (4179, 0.0), (4183, 0.0), (4185, 0.0), (4189, 0.0), (4201, 0.0), (4202, 0.0), (4205, 0.0), (4208, 0.0), (4209, 0.0), (4212, 0.0), (4215, 0.0), (4219, 0.0), (4220, 0.0), (4221, 0.0), (4225, 0.0), (4227, 0.0), (4228, 0.0), (4229, 0.0), (4230, 0.0), (4231, 0.0), (4232, 0.0), (4235, 0.0), (4240, 0.0), (4241, 0.0), (4243, 0.0), (4244, 0.0), (4245, 0.0), (4247, 0.0), (4248, 0.0), (4249, 0.0), (4250, 0.0), (4251, 0.0), (4253, 0.0), (4255, 0.0), (4261, 0.0), (4262, 0.0), (4264, 0.0), (4265, 0.0), (4267, 0.0), (4268, 0.0), (4271, 0.0), (4273, 0.0), (4274, 0.0), (4276, 0.0), (4278, 0.0), (4280, 0.0), (4286, 0.0), (4290, 0.0), (4296, 0.0), (4298, 0.0), (4299, 0.0), (4302, 0.0), (4306, 0.0), (4307, 0.0), (4312, 0.0), (4313, 0.0), (4316, 0.0), (4318, 0.0), (4320, 0.0), (4322, 0.0), (4326, 0.0), (4328, 0.0), (4331, 0.0), (4333, 0.0), (4334, 0.0), (4336, 0.0), (4337, 0.0), (4339, 0.0), (4343, 0.0), (4344, 0.0), (4345, 0.0), (4349, 0.0), (4350, 0.0), (4355, 0.0), (4359, 0.0), (4360, 0.0), (4361, 0.0), (4362, 0.0), (4363, 0.0), (4365, 0.0), (4366, 0.0), (4368, 0.0), (4369, 0.0), (4372, 0.0), (4373, 0.0), (4374, 0.0), (4375, 0.0), (4376, 0.0), (4377, 0.0), (4379, 0.0), (4381, 0.0), (4383, 0.0), (4384, 0.0), (4385, 0.0), (4386, 0.0), (4387, 0.0), (4389, 0.0), (4392, 0.0), (4393, 0.0), (4398, 0.0), (4399, 0.0), (4400, 0.0), (4402, 0.0), (4403, 0.0), (4407, 0.0), (4410, 0.0), (4411, 0.0), (4412, 0.0), (4414, 0.0), (4415, 0.0), (4416, 0.0), (4417, 0.0), (4423, 0.0), (4424, 0.0), (4425, 0.0), (4429, 0.0), (4430, 0.0), (4431, 0.0), (4435, 0.0), (4436, 0.0), (4441, 0.0), (4443, 0.0), (4444, 0.0), (4445, 0.0), (4449, 0.0), (4450, 0.0), (4458, 0.0), (4461, 0.0), (4462, 0.0), (4464, 0.0), (4465, 0.0), (4468, 0.0), (4469, 0.0), (4470, 0.0), (4471, 0.0), (4472, 0.0), (4474, 0.0), (4475, 0.0), (4476, 0.0), (4479, 0.0), (4481, 0.0), (4485, 0.0), (4487, 0.0), (4488, 0.0), (4490, 0.0), (4494, 0.0), (4495, 0.0), (4497, 0.0), (4499, 0.0), (4502, 0.0), (4503, 0.0), (4504, 0.0), (4505, 0.0), (4508, 0.0), (4510, 0.0), (4511, 0.0), (4512, 0.0), (4513, 0.0), (4517, 0.0), (4518, 0.0), (4520, 0.0), (4521, 0.0), (4524, 0.0), (4525, 0.0), (4527, 0.0), (4528, 0.0), (4529, 0.0), (4531, 0.0), (4532, 0.0), (4534, 0.0), (4536, 0.0), (4538, 0.0), (4539, 0.0), (4540, 0.0), (4541, 0.0), (4544, 0.0), (4545, 0.0), (4546, 0.0), (4547, 0.0), (4548, 0.0), (4549, 0.0), (4551, 0.0), (4553, 0.0), (4554, 0.0), (4561, 0.0), (4563, 0.0), (4565, 0.0), (4567, 0.0), (4568, 0.0), (4572, 0.0), (4573, 0.0), (4574, 0.0), (4575, 0.0), (4578, 0.0), (4579, 0.0), (4582, 0.0), (4583, 0.0), (4584, 0.0), (4585, 0.0), (4586, 0.0), (4587, 0.0), (4590, 0.0), (4591, 0.0), (4593, 0.0), (4594, 0.0), (4595, 0.0), (4597, 0.0), (4601, 0.0), (4602, 0.0), (4605, 0.0), (4606, 0.0), (4607, 0.0), (4608, 0.0), (4612, 0.0), (4614, 0.0), (4615, 0.0), (4616, 0.0), (4617, 0.0), (4618, 0.0), (4619, 0.0), (4620, 0.0), (4621, 0.0), (4623, 0.0), (4624, 0.0), (4625, 0.0), (4629, 0.0), (4630, 0.0), (4632, 0.0), (4634, 0.0), (4635, 0.0), (4637, 0.0), (4638, 0.0), (4639, 0.0), (4640, 0.0), (4641, 0.0), (4642, 0.0), (4644, 0.0), (4645, 0.0), (4646, 0.0), (4649, 0.0), (4651, 0.0), (4653, 0.0), (4654, 0.0), (4656, 0.0), (4657, 0.0), (4658, 0.0), (4659, 0.0), (4661, 0.0), (4664, 0.0), (4665, 0.0), (4666, 0.0), (4668, 0.0), (4669, 0.0), (4670, 0.0), (4671, 0.0), (4672, 0.0), (4673, 0.0), (4674, 0.0), (4677, 0.0), (4679, 0.0), (4680, 0.0), (4681, 0.0), (4682, 0.0), (4683, 0.0), (4684, 0.0), (4685, 0.0), (4686, 0.0), (4687, 0.0), (4689, 0.0), (4691, 0.0), (4692, 0.0), (4693, 0.0), (4694, 0.0), (4695, 0.0), (4696, 0.0), (4697, 0.0), (4698, 0.0), (4701, 0.0), (4704, 0.0), (4705, 0.0), (4707, 0.0), (4708, 0.0), (4709, 0.0), (4710, 0.0), (4712, 0.0), (4713, 0.0), (4714, 0.0), (4715, 0.0), (4716, 0.0), (4722, 0.0), (4723, 0.0), (4724, 0.0), (4727, 0.0), (4728, 0.0), (4729, 0.0), (4731, 0.0), (4732, 0.0), (4733, 0.0), (4735, 0.0), (4736, 0.0), (4739, 0.0), (4741, 0.0), (4743, 0.0), (4748, 0.0), (4749, 0.0), (4750, 0.0), (4751, 0.0), (4752, 0.0), (4753, 0.0), (4755, 0.0), (4757, 0.0), (4759, 0.0)]\n"
          ]
        }
      ]
    },
    {
      "cell_type": "code",
      "source": [
        "print('Top 30 movies Suggested for you : \\n')\n",
        "\n",
        "i = 1\n",
        "\n",
        "for movie in Sorted_Similar_Movies:\n",
        "  index = movie[0]\n",
        "  title_from_index = df[df.index==index]['Movie_Title'].values[0]\n",
        "  if (i<31):\n",
        "    print(i, '.',title_from_index)\n",
        "    i+=1"
      ],
      "metadata": {
        "colab": {
          "base_uri": "https://localhost:8080/"
        },
        "id": "cWnP1lpO-tbv",
        "outputId": "7e6476e2-f2f0-4cfd-c58b-c857372dc474"
      },
      "execution_count": 35,
      "outputs": [
        {
          "output_type": "stream",
          "name": "stdout",
          "text": [
            "Top 30 movies Suggested for you : \n",
            "\n",
            "1 . Son of the Mask\n",
            "2 . Cats & Dogs\n",
            "3 . Epic Movie\n",
            "4 . Dirty Work\n",
            "5 . Harold & Kumar Escape from Guantanamo Bay\n",
            "6 . Spy Kids\n",
            "7 . The Specials\n",
            "8 . Martin Lawrence Live: Runteldat\n",
            "9 . Urbania\n",
            "10 . How to Train Your Dragon 2\n",
            "11 . Malibu's Most Wanted\n",
            "12 . Running Forever\n",
            "13 . Harold & Kumar Go to White Castle\n",
            "14 . National Lampoon’s Van Wilder\n",
            "15 . The Namesake\n",
            "16 . The Sisterhood of Night\n",
            "17 . Bowfinger\n",
            "18 . A Very Harold & Kumar Christmas\n",
            "19 . American Desi\n",
            "20 . Urban Legend\n",
            "21 . Anderson's Cross\n",
            "22 . What Just Happened\n",
            "23 . Broken Vessels\n",
            "24 . Halloween\n",
            "25 . Josie and the Pussycats\n",
            "26 . The Hunger Games: Mockingjay - Part 2\n",
            "27 . The Pledge\n",
            "28 . The Hunger Games: Catching Fire\n",
            "29 . The Hunger Games: Mockingjay - Part 1\n",
            "30 . Suspect Zero\n"
          ]
        }
      ]
    },
    {
      "cell_type": "markdown",
      "source": [
        "\n",
        "\n",
        "> Top 10 Movies Recommendation System\n",
        "\n"
      ],
      "metadata": {
        "id": "uoGTLoSQ-wgT"
      }
    },
    {
      "cell_type": "code",
      "source": [
        "Movie_Name = input(' Enter your favourite movie name : ')\n",
        "\n",
        "list_of_all_titles = df['Movie_Title'].tolist()\n",
        "\n",
        "Find_Close_Match = difflib.get_close_matches(Movie_Name, list_of_all_titles)\n",
        "\n",
        "Close_Match = Find_Close_Match[0]\n",
        "\n",
        "Index_of_Movie = df[df.Movie_Title == Close_Match]['Movie_ID'].values[0]\n",
        "\n",
        "Recommendation_Score = list(enumerate(Similarity_Score[Index_of_Movie]))\n",
        "\n",
        "sorted_similar_movies = sorted(Recommendation_Score, key = lambda x:x[1], reverse = True)\n",
        "\n",
        "print('Top 10 movies Suggested for you : \\n')\n",
        "\n",
        "i = 1\n",
        "\n",
        "for movie in sorted_similar_movies:\n",
        "    index = movie[0]\n",
        "    title_from_index = df[df.Movie_ID==index]['Movie_Title'].values\n",
        "    if (i<11):\n",
        "      print(i, '.',title_from_index)\n",
        "      i+=1"
      ],
      "metadata": {
        "colab": {
          "base_uri": "https://localhost:8080/"
        },
        "id": "_UhXPCxV-ukV",
        "outputId": "78657abe-d42a-44a4-def6-5ceb466413ac"
      },
      "execution_count": 36,
      "outputs": [
        {
          "output_type": "stream",
          "name": "stdout",
          "text": [
            " Enter your favourite movie name : avenger\n",
            "Top 10 movies Suggested for you : \n",
            "\n",
            "1 . ['The Avengers']\n",
            "2 . ['Pokémon: Spell of the Unknown']\n",
            "3 . [\"Singin' in the Rain\"]\n",
            "4 . ['From Here to Eternity']\n",
            "5 . ['The Four Seasons']\n",
            "6 . ['The Business of Strangers']\n",
            "7 . ['In the Land of Women']\n",
            "8 . ['Torque']\n",
            "9 . ['Ella Enchanted']\n",
            "10 . ['Changeling']\n"
          ]
        }
      ]
    }
  ]
}